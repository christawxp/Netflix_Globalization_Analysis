{
 "cells": [
  {
   "cell_type": "code",
   "execution_count": 738,
   "id": "8d9b26cb",
   "metadata": {},
   "outputs": [],
   "source": [
    "import pandas as pd\n",
    "from matplotlib import pyplot as plt\n",
    "from plotnine import *\n",
    "from wordcloud import WordCloud"
   ]
  },
  {
   "cell_type": "code",
   "execution_count": 739,
   "id": "59a18967",
   "metadata": {},
   "outputs": [],
   "source": [
    "data = pd.read_csv(\"data/netflix_titles.csv\")"
   ]
  },
  {
   "cell_type": "code",
   "execution_count": 740,
   "id": "593cbdd6",
   "metadata": {},
   "outputs": [
    {
     "data": {
      "text/html": [
       "<div>\n",
       "<style scoped>\n",
       "    .dataframe tbody tr th:only-of-type {\n",
       "        vertical-align: middle;\n",
       "    }\n",
       "\n",
       "    .dataframe tbody tr th {\n",
       "        vertical-align: top;\n",
       "    }\n",
       "\n",
       "    .dataframe thead th {\n",
       "        text-align: right;\n",
       "    }\n",
       "</style>\n",
       "<table border=\"1\" class=\"dataframe\">\n",
       "  <thead>\n",
       "    <tr style=\"text-align: right;\">\n",
       "      <th></th>\n",
       "      <th>show_id</th>\n",
       "      <th>type</th>\n",
       "      <th>title</th>\n",
       "      <th>director</th>\n",
       "      <th>cast</th>\n",
       "      <th>country</th>\n",
       "      <th>date_added</th>\n",
       "      <th>release_year</th>\n",
       "      <th>rating</th>\n",
       "      <th>duration</th>\n",
       "      <th>listed_in</th>\n",
       "      <th>description</th>\n",
       "    </tr>\n",
       "  </thead>\n",
       "  <tbody>\n",
       "    <tr>\n",
       "      <th>0</th>\n",
       "      <td>s1</td>\n",
       "      <td>Movie</td>\n",
       "      <td>Dick Johnson Is Dead</td>\n",
       "      <td>Kirsten Johnson</td>\n",
       "      <td>NaN</td>\n",
       "      <td>United States</td>\n",
       "      <td>September 25, 2021</td>\n",
       "      <td>2020</td>\n",
       "      <td>PG-13</td>\n",
       "      <td>90 min</td>\n",
       "      <td>Documentaries</td>\n",
       "      <td>As her father nears the end of his life, filmm...</td>\n",
       "    </tr>\n",
       "    <tr>\n",
       "      <th>1</th>\n",
       "      <td>s2</td>\n",
       "      <td>TV Show</td>\n",
       "      <td>Blood &amp; Water</td>\n",
       "      <td>NaN</td>\n",
       "      <td>Ama Qamata, Khosi Ngema, Gail Mabalane, Thaban...</td>\n",
       "      <td>South Africa</td>\n",
       "      <td>September 24, 2021</td>\n",
       "      <td>2021</td>\n",
       "      <td>TV-MA</td>\n",
       "      <td>2 Seasons</td>\n",
       "      <td>International TV Shows, TV Dramas, TV Mysteries</td>\n",
       "      <td>After crossing paths at a party, a Cape Town t...</td>\n",
       "    </tr>\n",
       "    <tr>\n",
       "      <th>2</th>\n",
       "      <td>s3</td>\n",
       "      <td>TV Show</td>\n",
       "      <td>Ganglands</td>\n",
       "      <td>Julien Leclercq</td>\n",
       "      <td>Sami Bouajila, Tracy Gotoas, Samuel Jouy, Nabi...</td>\n",
       "      <td>NaN</td>\n",
       "      <td>September 24, 2021</td>\n",
       "      <td>2021</td>\n",
       "      <td>TV-MA</td>\n",
       "      <td>1 Season</td>\n",
       "      <td>Crime TV Shows, International TV Shows, TV Act...</td>\n",
       "      <td>To protect his family from a powerful drug lor...</td>\n",
       "    </tr>\n",
       "    <tr>\n",
       "      <th>3</th>\n",
       "      <td>s4</td>\n",
       "      <td>TV Show</td>\n",
       "      <td>Jailbirds New Orleans</td>\n",
       "      <td>NaN</td>\n",
       "      <td>NaN</td>\n",
       "      <td>NaN</td>\n",
       "      <td>September 24, 2021</td>\n",
       "      <td>2021</td>\n",
       "      <td>TV-MA</td>\n",
       "      <td>1 Season</td>\n",
       "      <td>Docuseries, Reality TV</td>\n",
       "      <td>Feuds, flirtations and toilet talk go down amo...</td>\n",
       "    </tr>\n",
       "    <tr>\n",
       "      <th>4</th>\n",
       "      <td>s5</td>\n",
       "      <td>TV Show</td>\n",
       "      <td>Kota Factory</td>\n",
       "      <td>NaN</td>\n",
       "      <td>Mayur More, Jitendra Kumar, Ranjan Raj, Alam K...</td>\n",
       "      <td>India</td>\n",
       "      <td>September 24, 2021</td>\n",
       "      <td>2021</td>\n",
       "      <td>TV-MA</td>\n",
       "      <td>2 Seasons</td>\n",
       "      <td>International TV Shows, Romantic TV Shows, TV ...</td>\n",
       "      <td>In a city of coaching centers known to train I...</td>\n",
       "    </tr>\n",
       "  </tbody>\n",
       "</table>\n",
       "</div>"
      ],
      "text/plain": [
       "  show_id     type                  title         director  \\\n",
       "0      s1    Movie   Dick Johnson Is Dead  Kirsten Johnson   \n",
       "1      s2  TV Show          Blood & Water              NaN   \n",
       "2      s3  TV Show              Ganglands  Julien Leclercq   \n",
       "3      s4  TV Show  Jailbirds New Orleans              NaN   \n",
       "4      s5  TV Show           Kota Factory              NaN   \n",
       "\n",
       "                                                cast        country  \\\n",
       "0                                                NaN  United States   \n",
       "1  Ama Qamata, Khosi Ngema, Gail Mabalane, Thaban...   South Africa   \n",
       "2  Sami Bouajila, Tracy Gotoas, Samuel Jouy, Nabi...            NaN   \n",
       "3                                                NaN            NaN   \n",
       "4  Mayur More, Jitendra Kumar, Ranjan Raj, Alam K...          India   \n",
       "\n",
       "           date_added  release_year rating   duration  \\\n",
       "0  September 25, 2021          2020  PG-13     90 min   \n",
       "1  September 24, 2021          2021  TV-MA  2 Seasons   \n",
       "2  September 24, 2021          2021  TV-MA   1 Season   \n",
       "3  September 24, 2021          2021  TV-MA   1 Season   \n",
       "4  September 24, 2021          2021  TV-MA  2 Seasons   \n",
       "\n",
       "                                           listed_in  \\\n",
       "0                                      Documentaries   \n",
       "1    International TV Shows, TV Dramas, TV Mysteries   \n",
       "2  Crime TV Shows, International TV Shows, TV Act...   \n",
       "3                             Docuseries, Reality TV   \n",
       "4  International TV Shows, Romantic TV Shows, TV ...   \n",
       "\n",
       "                                         description  \n",
       "0  As her father nears the end of his life, filmm...  \n",
       "1  After crossing paths at a party, a Cape Town t...  \n",
       "2  To protect his family from a powerful drug lor...  \n",
       "3  Feuds, flirtations and toilet talk go down amo...  \n",
       "4  In a city of coaching centers known to train I...  "
      ]
     },
     "execution_count": 740,
     "metadata": {},
     "output_type": "execute_result"
    }
   ],
   "source": [
    "data.head()"
   ]
  },
  {
   "cell_type": "code",
   "execution_count": 741,
   "id": "76ea948c",
   "metadata": {},
   "outputs": [
    {
     "data": {
      "text/plain": [
       "['United States',\n",
       " 'South Africa',\n",
       " nan,\n",
       " 'India',\n",
       " 'United States, Ghana, Burkina Faso, United Kingdom, Germany, Ethiopia',\n",
       " 'United Kingdom',\n",
       " 'Germany, Czech Republic',\n",
       " 'Mexico',\n",
       " 'Turkey',\n",
       " 'Australia',\n",
       " 'United States, India, France',\n",
       " 'Finland',\n",
       " 'China, Canada, United States',\n",
       " 'South Africa, United States, Japan',\n",
       " 'Nigeria',\n",
       " 'Japan',\n",
       " 'Spain, United States',\n",
       " 'France',\n",
       " 'Belgium',\n",
       " 'United Kingdom, United States',\n",
       " 'United States, United Kingdom',\n",
       " 'France, United States',\n",
       " 'South Korea',\n",
       " 'Spain',\n",
       " 'United States, Singapore',\n",
       " 'United Kingdom, Australia, France',\n",
       " 'United Kingdom, Australia, France, United States',\n",
       " 'United States, Canada',\n",
       " 'Germany, United States',\n",
       " 'South Africa, United States',\n",
       " 'United States, Mexico',\n",
       " 'United States, Italy, France, Japan',\n",
       " 'United States, Italy, Romania, United Kingdom',\n",
       " 'Australia, United States',\n",
       " 'Argentina, Venezuela',\n",
       " 'United States, United Kingdom, Canada',\n",
       " 'China, Hong Kong',\n",
       " 'Russia',\n",
       " 'Canada',\n",
       " 'Hong Kong',\n",
       " 'United States, China, Hong Kong',\n",
       " 'Italy, United States',\n",
       " 'United States, Germany',\n",
       " 'United Kingdom, Canada, United States',\n",
       " ', South Korea',\n",
       " 'Ireland',\n",
       " 'India, Nepal',\n",
       " 'New Zealand, Australia, France, United States',\n",
       " 'Italy',\n",
       " 'Italy, Brazil, Greece',\n",
       " 'Argentina',\n",
       " 'Jordan',\n",
       " 'Colombia',\n",
       " 'United States, Japan',\n",
       " 'Belgium, United Kingdom',\n",
       " 'Switzerland, United Kingdom, Australia',\n",
       " 'Israel, United States',\n",
       " 'Canada, United States',\n",
       " 'Brazil',\n",
       " 'Argentina, Spain',\n",
       " 'Taiwan',\n",
       " 'United States, Nigeria',\n",
       " 'Bulgaria, United States',\n",
       " 'Spain, United Kingdom, United States',\n",
       " 'United States, China',\n",
       " 'United States, France',\n",
       " 'Spain, France, United Kingdom, United States',\n",
       " ', France, Algeria',\n",
       " 'Poland',\n",
       " 'Germany',\n",
       " 'France, Israel, Germany, United States, United Kingdom',\n",
       " 'New Zealand',\n",
       " 'Saudi Arabia',\n",
       " 'Thailand',\n",
       " 'Indonesia',\n",
       " 'Egypt, Denmark, Germany',\n",
       " 'United States, Switzerland',\n",
       " 'Hong Kong, Canada, United States',\n",
       " 'Kuwait, United States',\n",
       " 'France, Canada, United States, Spain',\n",
       " 'France, Netherlands, Singapore',\n",
       " 'France, Belgium',\n",
       " 'Ireland, United States, United Kingdom',\n",
       " 'Egypt',\n",
       " 'Malaysia',\n",
       " 'Israel',\n",
       " 'Australia, New Zealand',\n",
       " 'United Kingdom, Germany',\n",
       " 'Belgium, Netherlands',\n",
       " 'South Korea, Czech Republic',\n",
       " 'Australia, Germany',\n",
       " 'Vietnam',\n",
       " 'United Kingdom, Belgium',\n",
       " 'United Kingdom, Australia, United States',\n",
       " 'France, Japan, United States',\n",
       " 'United Kingdom, Germany, Spain, United States',\n",
       " 'United Kingdom, United States, France, Italy',\n",
       " 'United States, Germany, Canada',\n",
       " 'United States, France, Italy, United Kingdom',\n",
       " 'United States, United Kingdom, Germany, Hungary',\n",
       " 'United States, New Zealand',\n",
       " 'Sweden',\n",
       " 'China',\n",
       " 'Lebanon',\n",
       " 'Romania',\n",
       " 'Finland, Germany',\n",
       " 'Lebanon, Syria',\n",
       " 'Philippines',\n",
       " 'Iceland',\n",
       " 'Denmark',\n",
       " 'United States, India',\n",
       " 'Philippines, Singapore, Indonesia',\n",
       " 'China, United States, Canada',\n",
       " 'Lebanon, United Arab Emirates',\n",
       " 'Canada, United States, Denmark',\n",
       " 'United Arab Emirates',\n",
       " 'Mexico, France, Colombia',\n",
       " 'Netherlands',\n",
       " 'Germany, United States, France',\n",
       " 'United States, Bulgaria',\n",
       " 'United Kingdom, France, Germany, United States',\n",
       " 'Norway, Denmark',\n",
       " 'Syria, France, Lebanon, Qatar',\n",
       " 'United States, Czech Republic',\n",
       " 'Mauritius',\n",
       " 'Canada, South Africa',\n",
       " 'Austria',\n",
       " 'Mexico, Brazil',\n",
       " 'Germany, France',\n",
       " 'Mexico, United States',\n",
       " 'United Kingdom, France, Spain, United States',\n",
       " 'United States, Australia',\n",
       " 'United States, United Kingdom, France',\n",
       " 'United States, Russia',\n",
       " 'United States, United Kingdom, New Zealand',\n",
       " 'Australia, United Kingdom',\n",
       " 'Canada, Nigeria, United States',\n",
       " 'France, United States, United Kingdom, Canada',\n",
       " 'France, United Kingdom',\n",
       " 'India, United Kingdom',\n",
       " 'Canada, United States, Mexico',\n",
       " 'United Kingdom, Germany, United States',\n",
       " 'Czech Republic, United Kingdom, United States',\n",
       " 'China, United Kingdom',\n",
       " 'Italy, United Kingdom',\n",
       " 'China, Taiwan',\n",
       " 'United States, Brazil, Japan, Spain, India',\n",
       " 'United States, China, United Kingdom',\n",
       " 'Cameroon',\n",
       " 'Lebanon, Palestine, Denmark, Qatar',\n",
       " 'Japan, United States',\n",
       " 'Uruguay, Germany',\n",
       " 'Egypt, Saudi Arabia',\n",
       " 'United Kingdom, France, Poland, Germany, United States',\n",
       " 'Ireland, Switzerland, United Kingdom, France, United States',\n",
       " 'United Kingdom, South Africa, France',\n",
       " 'Ireland, United Kingdom, France, Germany',\n",
       " 'Russia, United States',\n",
       " 'United Kingdom, United States, France',\n",
       " 'United Kingdom,',\n",
       " 'United States, India, United Kingdom',\n",
       " 'Kenya',\n",
       " 'Spain, Argentina',\n",
       " 'India, United Kingdom, France, Qatar',\n",
       " 'Belgium, France',\n",
       " 'Argentina, Chile',\n",
       " 'United States, Thailand',\n",
       " 'Chile, Brazil',\n",
       " 'United States, Colombia',\n",
       " 'Canada, United States, United Kingdom',\n",
       " 'Uruguay',\n",
       " 'Luxembourg',\n",
       " 'United States, Cambodia, Romania',\n",
       " 'Bangladesh',\n",
       " 'Spain, Belgium, United States',\n",
       " 'United Kingdom, United States, Australia',\n",
       " 'Canada, United States, France',\n",
       " 'Portugal, United States',\n",
       " 'Portugal, Spain',\n",
       " 'India, United States',\n",
       " 'United Kingdom, Ireland',\n",
       " 'United Kingdom, Spain, United States',\n",
       " 'Hungary, United States',\n",
       " 'United States, South Korea',\n",
       " 'Canada, United States, Cayman Islands',\n",
       " 'India, France',\n",
       " 'France, Canada',\n",
       " 'Canada, Hungary, United States',\n",
       " 'Norway',\n",
       " 'Canada, United Kingdom, United States',\n",
       " 'United Kingdom, Germany, France, United States',\n",
       " 'Denmark, United States',\n",
       " 'Senegal',\n",
       " 'France, Algeria',\n",
       " 'United Kingdom, Finland, Germany, United States, Australia, Japan, France, Ireland',\n",
       " 'Philippines, Canada, United Kingdom, United States',\n",
       " 'Ireland, France, Iceland, United States, Mexico, Belgium, United Kingdom, Hong Kong',\n",
       " 'Singapore',\n",
       " 'Kuwait',\n",
       " 'United States, France, Serbia',\n",
       " 'United States, Italy',\n",
       " 'Spain, Italy',\n",
       " 'United States, Ireland, United Kingdom, India',\n",
       " 'United Kingdom, Singapore',\n",
       " 'Hong Kong, United States',\n",
       " 'United States, Malta, France, United Kingdom',\n",
       " 'United States, China, Canada',\n",
       " 'Canada, United States, Ireland',\n",
       " 'Lebanon, Canada, France',\n",
       " 'Japan, Canada, United States',\n",
       " 'Spain, France, Canada',\n",
       " 'Denmark, Singapore, Canada, United States',\n",
       " 'United States, France, Denmark',\n",
       " 'United States, China, Colombia',\n",
       " 'Spain, Thailand, United States',\n",
       " 'Mexico, Spain',\n",
       " 'Ireland, Luxembourg, Belgium',\n",
       " 'China, United States',\n",
       " 'Canada, Belgium',\n",
       " 'Canada, United Kingdom',\n",
       " 'Lebanon, United Arab Emirates, France, Switzerland, Germany',\n",
       " 'France, Belgium, Italy',\n",
       " 'Lebanon, United States, United Arab Emirates',\n",
       " 'Lebanon, France',\n",
       " 'France, Lebanon',\n",
       " 'France, Lebanon, United Kingdom',\n",
       " 'France, Norway, Lebanon, Belgium',\n",
       " 'Sweden, Czech Republic, United Kingdom, Denmark, Netherlands',\n",
       " 'United States, United Kingdom, India',\n",
       " 'Indonesia, Netherlands',\n",
       " 'Turkey, South Korea',\n",
       " 'Serbia, United States',\n",
       " 'Namibia',\n",
       " 'United Kingdom, Kenya',\n",
       " 'United Kingdom, France, Germany, Spain',\n",
       " 'United Kingdom, France, United States, Belgium, Luxembourg, China, Germany',\n",
       " 'Thailand, United States',\n",
       " 'United States, France, Canada, Belgium',\n",
       " 'United Kingdom, China',\n",
       " 'Germany, China, United Kingdom',\n",
       " 'Australia, New Zealand, United States',\n",
       " 'Hong Kong, Iceland, United States',\n",
       " 'France, Australia, Germany',\n",
       " 'United States, Belgium, Canada, France',\n",
       " 'South Africa, Angola',\n",
       " 'United States, Philippines',\n",
       " 'United States, United Kingdom, Canada, China',\n",
       " 'United States, Canada, United Kingdom',\n",
       " 'Turkey, United States',\n",
       " 'Peru, Germany, Norway',\n",
       " 'Mozambique',\n",
       " 'Brazil, France',\n",
       " 'China, Spain, South Korea, United States',\n",
       " 'Spain, Germany',\n",
       " 'Hong Kong, China',\n",
       " 'France, Belgium, Luxembourg, Cambodia,',\n",
       " 'United Kingdom, Australia',\n",
       " 'Belarus',\n",
       " 'Indonesia, United Kingdom',\n",
       " 'Switzerland, France, Belgium, United States',\n",
       " 'Ghana',\n",
       " 'Spain, France, Canada, United States',\n",
       " 'Chile, Italy',\n",
       " 'United Kingdom, Nigeria',\n",
       " 'Chile',\n",
       " 'France, Egypt',\n",
       " 'Egypt, France',\n",
       " 'France, Brazil, Spain, Belgium',\n",
       " 'Egypt, Algeria',\n",
       " 'Canada, South Korea, United States',\n",
       " 'Nigeria, United Kingdom',\n",
       " 'United States, France, Canada',\n",
       " 'Poland, United States',\n",
       " 'United Arab Emirates, Jordan, Lebanon, Saudi Arabia',\n",
       " 'United States, Mexico, Spain, Malta',\n",
       " 'Saudi Arabia, United Arab Emirates',\n",
       " 'Zimbabwe',\n",
       " 'United Kingdom, Germany, United Arab Emirates, New Zealand',\n",
       " 'Romania, United States',\n",
       " 'Canada, Nigeria',\n",
       " 'Saudi Arabia, Netherlands, Germany, Jordan, United Arab Emirates, United States',\n",
       " 'United Kingdom, Spain',\n",
       " 'Finland, France',\n",
       " 'United Kingdom, Germany, United States, France',\n",
       " 'India, United Kingdom, China, Canada, Japan, South Korea, United States',\n",
       " 'Italy, United Kingdom, France',\n",
       " 'United States, Mexico, Colombia',\n",
       " 'Turkey, India',\n",
       " 'Italy, Turkey',\n",
       " 'United Kingdom, United States, Japan',\n",
       " 'France, Belgium, United States',\n",
       " 'Puerto Rico, United States, Colombia',\n",
       " 'Uruguay, Argentina',\n",
       " 'United States, United Kingdom, Japan',\n",
       " 'United States, Argentina',\n",
       " 'United Kingdom, Italy',\n",
       " 'Ireland, United Kingdom',\n",
       " 'United Kingdom, France, Belgium, Canada, United States',\n",
       " 'Netherlands, Germany, Denmark, United Kingdom',\n",
       " 'Hungary',\n",
       " 'Austria, Germany',\n",
       " 'Taiwan, China',\n",
       " 'United Kingdom, United States, Ireland',\n",
       " 'South Korea, United States',\n",
       " 'Brazil, United Kingdom',\n",
       " 'Pakistan, United States',\n",
       " 'Romania, France, Switzerland, Germany',\n",
       " 'Romania, United Kingdom',\n",
       " 'France, Malta, United States',\n",
       " 'Cyprus',\n",
       " 'United Kingdom, France, Belgium, Ireland, United States',\n",
       " 'United States, Norway, Canada',\n",
       " 'Kenya, United States',\n",
       " 'France, South Korea, Japan, United States',\n",
       " 'Taiwan, Malaysia',\n",
       " 'Uruguay, Argentina, Germany, Spain',\n",
       " 'United States, United Kingdom, France, Germany, Japan',\n",
       " 'United States, France, Japan',\n",
       " 'United Kingdom, France, United States',\n",
       " 'Spain, France, United States',\n",
       " 'Indonesia, South Korea, Singapore',\n",
       " 'United States, Spain',\n",
       " 'Netherlands, Germany, Italy, Canada',\n",
       " 'Spain, Germany, Denmark, United States',\n",
       " 'Norway, Sweden',\n",
       " 'South Korea, Canada, United States, China',\n",
       " 'Argentina, Uruguay, Serbia',\n",
       " 'France, Japan',\n",
       " 'Mauritius, South Africa',\n",
       " 'United States, Poland',\n",
       " 'United Kingdom, United States, Germany, Denmark, Belgium, Japan',\n",
       " 'India, Germany',\n",
       " 'India, United Kingdom, Canada, United States',\n",
       " 'Philippines, United States',\n",
       " 'Romania, Bulgaria, Hungary',\n",
       " 'Uruguay, Guatemala',\n",
       " 'France, Senegal, Belgium',\n",
       " 'United Kingdom, Canada',\n",
       " 'Mexico, United States, Spain, Colombia',\n",
       " 'Canada, Norway',\n",
       " 'Singapore, United States',\n",
       " 'Finland, Germany, Belgium',\n",
       " 'United Kingdom, France',\n",
       " 'United States, Chile',\n",
       " 'United Kingdom, Japan, United States',\n",
       " 'Spain, United Kingdom',\n",
       " 'Argentina, United States, Mexico',\n",
       " 'United States, South Korea, Japan',\n",
       " 'Canada, Australia',\n",
       " 'United Kingdom, Hungary, Australia',\n",
       " 'Italy, Belgium',\n",
       " 'United States, United Kingdom, Germany',\n",
       " 'Switzerland',\n",
       " 'Singapore, Malaysia',\n",
       " 'France, Belgium, Luxembourg, Romania, Canada, United States',\n",
       " 'South Africa, Nigeria',\n",
       " 'Spain, France',\n",
       " 'United Kingdom, Hong Kong',\n",
       " 'Pakistan',\n",
       " 'Brazil, United States',\n",
       " 'Denmark, Brazil, France, Portugal, Sweden',\n",
       " 'India, Turkey',\n",
       " 'Malaysia, Singapore, Hong Kong',\n",
       " 'Philippines, Singapore',\n",
       " 'Australia, Canada',\n",
       " 'Taiwan, China, France, United States',\n",
       " 'Germany, Italy',\n",
       " 'Colombia, Peru, United Kingdom',\n",
       " 'Thailand, China, United States',\n",
       " 'Argentina, United States',\n",
       " 'Sweden, United States',\n",
       " 'Uruguay, Spain, Mexico',\n",
       " 'France, Luxembourg, Canada',\n",
       " 'Denmark, Spain',\n",
       " 'Chile, Argentina',\n",
       " 'United Kingdom, Belgium, Sweden',\n",
       " 'Canada, Brazil',\n",
       " 'Italy, France',\n",
       " 'Canada, Germany',\n",
       " 'Pakistan, United Arab Emirates',\n",
       " 'Ghana, United States',\n",
       " 'Mexico, Finland',\n",
       " 'United Arab Emirates, United Kingdom, India',\n",
       " 'Netherlands, Belgium',\n",
       " 'United States, Taiwan',\n",
       " 'Austria, Iraq, United States',\n",
       " 'United Kingdom, Malawi',\n",
       " 'Paraguay, Argentina',\n",
       " 'United Kingdom, Russia, United States',\n",
       " 'India, Pakistan',\n",
       " 'Indonesia, Singapore',\n",
       " 'Spain, Belgium',\n",
       " 'Iceland, Sweden, Belgium',\n",
       " 'Croatia',\n",
       " 'Uruguay, Argentina, Spain',\n",
       " 'United Kingdom, Ireland, United States',\n",
       " 'Canada, Germany, France, United States',\n",
       " 'United Kingdom, Japan',\n",
       " 'Norway, Denmark, Netherlands, Sweden',\n",
       " 'Hong Kong, China, United States',\n",
       " 'Ireland, Canada',\n",
       " 'Italy, Switzerland, France, Germany',\n",
       " 'Mexico, Netherlands',\n",
       " 'United States, Sweden',\n",
       " 'Germany, France, Russia',\n",
       " 'France, Iran, United States',\n",
       " 'United Kingdom, India',\n",
       " 'Russia, Poland, Serbia',\n",
       " 'Spain, Portugal',\n",
       " 'Peru',\n",
       " 'Mexico, Argentina',\n",
       " 'United Kingdom, Canada, United States, Cayman Islands',\n",
       " 'Indonesia, United States',\n",
       " 'United States, Israel, United Kingdom, Canada',\n",
       " 'Norway, Iceland, United States',\n",
       " 'Czech Republic, United States',\n",
       " 'United Kingdom, India, United States',\n",
       " 'United Kingdom, West Germany',\n",
       " 'India, Australia',\n",
       " 'United States,',\n",
       " 'Belgium, United Kingdom, United States',\n",
       " 'India, Germany, Austria',\n",
       " 'United States, Brazil, South Korea, Mexico, Japan, Germany',\n",
       " 'Spain, Mexico',\n",
       " 'China, Japan',\n",
       " 'Argentina, France',\n",
       " 'China, United States, United Kingdom',\n",
       " 'France, Luxembourg, United States',\n",
       " 'China, United States, Australia',\n",
       " 'Colombia, Mexico',\n",
       " 'United States, Canada, Ireland',\n",
       " 'Chile, Peru',\n",
       " 'Argentina, Italy',\n",
       " 'Canada, Japan, United States',\n",
       " 'United Kingdom, Canada, United States, Germany',\n",
       " 'Italy, Switzerland, Albania, Poland',\n",
       " 'United States, Japan, Canada',\n",
       " 'Cambodia',\n",
       " 'Italy, United States, Argentina',\n",
       " 'Saudi Arabia, Syria, Egypt, Lebanon, Kuwait',\n",
       " 'United States, Canada, Indonesia, United Kingdom, China, Singapore',\n",
       " 'Spain, Colombia',\n",
       " 'United Kingdom, South Africa, Australia, United States',\n",
       " 'Bulgaria',\n",
       " 'Argentina, Brazil, France, Poland, Germany, Denmark',\n",
       " 'United Kingdom, Spain, United States, Germany',\n",
       " 'Philippines, Qatar',\n",
       " 'Netherlands, Belgium, Germany, Jordan',\n",
       " 'United Arab Emirates, United States',\n",
       " 'Norway, Germany, Sweden',\n",
       " 'South Korea, China',\n",
       " 'Georgia',\n",
       " 'Soviet Union, India',\n",
       " 'Australia, United Arab Emirates',\n",
       " 'Canada, Germany, South Africa',\n",
       " 'South Korea, China, United States',\n",
       " 'India, Soviet Union',\n",
       " 'India, Mexico',\n",
       " 'Georgia, Germany, France',\n",
       " 'United Arab Emirates, Romania',\n",
       " 'India, Malaysia',\n",
       " 'Germany, Jordan, Netherlands',\n",
       " 'Turkey, France, Germany, Poland',\n",
       " 'Greece, United States',\n",
       " 'France, United Kingdom, United States',\n",
       " 'Norway, Germany',\n",
       " 'France, Morocco',\n",
       " 'Cambodia, United States',\n",
       " 'United States, Denmark',\n",
       " 'United States, Colombia, Mexico',\n",
       " 'United Kingdom, Italy, Israel, Peru, United States',\n",
       " 'Argentina, Uruguay, Spain, France',\n",
       " 'United Kingdom, France, United States, Belgium',\n",
       " 'France, Canada, China, Cambodia',\n",
       " 'United Kingdom, France, Belgium, United States',\n",
       " 'Chile, France',\n",
       " 'Netherlands, United States',\n",
       " 'France, United Kingdom, India',\n",
       " 'Czech Republic, Slovakia',\n",
       " 'Singapore, France',\n",
       " 'Spain, Switzerland',\n",
       " 'United States, Australia, China',\n",
       " 'South Africa, United States, Germany',\n",
       " 'United States, United Kingdom, Australia',\n",
       " 'Spain, Italy, Argentina',\n",
       " 'Chile, Spain, Argentina, Germany',\n",
       " 'West Germany',\n",
       " 'Austria, Czech Republic',\n",
       " 'Lebanon, Qatar',\n",
       " 'United Kingdom, Jordan, Qatar, Iran',\n",
       " 'France, South Korea, Japan',\n",
       " 'Israel, Germany, France',\n",
       " 'Canada, Japan, Netherlands',\n",
       " 'United States, Hungary',\n",
       " 'France, Germany',\n",
       " 'France, Qatar',\n",
       " 'United Kingdom, Germany, Canada',\n",
       " 'Ireland, South Africa',\n",
       " 'Chile, United States, France',\n",
       " 'Belgium, France, Netherlands',\n",
       " 'United Kingdom, Ukraine, United States',\n",
       " 'Germany, Australia, France, China',\n",
       " 'Norway, United States',\n",
       " 'United States, Bermuda, Ecuador',\n",
       " 'United States, Hungary, Ireland, Canada',\n",
       " 'United Kingdom, Egypt, United States',\n",
       " 'United States, France, United Kingdom',\n",
       " 'Spain, Mexico, France',\n",
       " 'United States, South Africa',\n",
       " 'Hong Kong, China, Singapore',\n",
       " 'South Africa, China, United States',\n",
       " 'Denmark, France, Poland',\n",
       " 'New Zealand, United Kingdom',\n",
       " 'Netherlands, Denmark, South Africa',\n",
       " 'Iran, France',\n",
       " 'United Kingdom, United States, France, Germany',\n",
       " 'Australia, France',\n",
       " 'Ireland, United Kingdom, United States',\n",
       " 'United Kingdom, France, Germany',\n",
       " 'Canada, Luxembourg',\n",
       " 'Brazil, Netherlands, United States, Colombia, Austria, Germany',\n",
       " 'France, Canada, Belgium',\n",
       " 'Canada, France',\n",
       " 'Bulgaria, United States, Spain, Canada',\n",
       " 'Sweden, Netherlands',\n",
       " 'France, United States, Mexico',\n",
       " 'Australia, United Kingdom, United Arab Emirates, Canada',\n",
       " 'Australia, Armenia, Japan, Jordan, Mexico, Mongolia, New Zealand, Philippines, South Africa, Sweden, United States, Uruguay',\n",
       " 'India, Iran',\n",
       " 'France, Belgium, Spain',\n",
       " 'Denmark, Sweden, Israel, United States',\n",
       " 'United States, Iceland',\n",
       " 'United Kingdom, Russia',\n",
       " 'United States, Israel, Italy, South Africa',\n",
       " 'Netherlands, Denmark, France, Germany',\n",
       " 'South Korea, Japan',\n",
       " 'United Kingdom, Pakistan',\n",
       " 'France, New Zealand',\n",
       " 'United Kingdom, Czech Republic, United States, Germany, Bahamas',\n",
       " 'China, Germany, India, United States',\n",
       " 'Germany, Sri Lanka',\n",
       " 'United States, India, Bangladesh',\n",
       " 'United States, Canada, France',\n",
       " 'Brazil, France, Germany',\n",
       " 'Germany, United States, Hong Kong, Singapore',\n",
       " 'France, Germany, Switzerland',\n",
       " 'Germany, France, Luxembourg, United Kingdom, United States',\n",
       " 'United Kingdom, Canada, Italy',\n",
       " 'Czech Republic, France',\n",
       " 'Taiwan, Hong Kong, United States, China',\n",
       " 'Germany, Australia',\n",
       " 'United Kingdom, Poland, United States',\n",
       " 'Denmark, Zimbabwe',\n",
       " 'United Kingdom, South Africa',\n",
       " 'Finland, Sweden, Norway, Latvia, Germany',\n",
       " 'South Africa, United States, New Zealand, Canada',\n",
       " 'United States, Italy, United Kingdom, Liechtenstein',\n",
       " 'Denmark, France, Belgium, Italy, Netherlands, United States, United Kingdom',\n",
       " 'United States, Australia, Mexico',\n",
       " 'United Kingdom, Czech Republic, Germany, United States',\n",
       " 'France, China, Japan, United States',\n",
       " 'United States, South Korea, China',\n",
       " 'Germany, Belgium',\n",
       " 'Pakistan, Norway, United States',\n",
       " 'United States, Canada, Belgium, United Kingdom',\n",
       " 'Venezuela',\n",
       " 'Canada, France, Italy, Morocco, United States',\n",
       " 'Canada, Spain, France',\n",
       " 'United States, Indonesia',\n",
       " 'Spain, France, Italy',\n",
       " 'United Arab Emirates, United States, United Kingdom',\n",
       " 'United Kingdom, Israel, Russia',\n",
       " 'Spain, Cuba',\n",
       " 'United States, Brazil',\n",
       " 'United States, France, Mexico',\n",
       " 'United States, Nicaragua',\n",
       " 'United Kingdom, United States, Spain, Germany, Greece, Canada',\n",
       " 'Italy, Canada, France',\n",
       " 'United Kingdom, Denmark, Canada, Croatia',\n",
       " 'Italy, Germany',\n",
       " 'United States, France, United Kingdom, Japan',\n",
       " 'United States, United Kingdom, Denmark, Sweden',\n",
       " 'United States, United Kingdom, Italy',\n",
       " 'United States, France, Canada, Spain',\n",
       " 'Russia, United States, China',\n",
       " 'United States, Canada, Germany',\n",
       " 'Ireland, United States',\n",
       " 'United States, United Arab Emirates',\n",
       " 'United States, Ireland',\n",
       " 'Ireland, United Kingdom, Italy, United States',\n",
       " 'Poland,',\n",
       " 'Slovenia, Croatia, Germany, Czech Republic, Qatar',\n",
       " 'Canada, United Kingdom, Netherlands',\n",
       " 'United States, Spain, Germany',\n",
       " 'India, Japan',\n",
       " 'China, South Korea, United States',\n",
       " 'United Kingdom, France, Belgium',\n",
       " 'Canada, Ireland, United States',\n",
       " 'United Kingdom, United States, Dominican Republic',\n",
       " 'United States, Senegal',\n",
       " 'Germany, United Kingdom, United States',\n",
       " 'South Africa, Germany, Netherlands, France',\n",
       " 'Canada, United States, United Kingdom, France, Luxembourg',\n",
       " 'Ireland, United States, France',\n",
       " 'Germany, United States, Canada',\n",
       " 'United Kingdom, Germany, Canada, United States',\n",
       " 'United States, France, Canada, Lebanon, Qatar',\n",
       " 'Netherlands, Belgium, United Kingdom, United States',\n",
       " 'France, Belgium, China, United States',\n",
       " 'United States, Chile, Israel',\n",
       " 'United Kingdom, Norway, Denmark, Germany, Sweden',\n",
       " 'Norway, Denmark, Sweden',\n",
       " 'China, India, Nepal',\n",
       " 'Colombia, Mexico, United States',\n",
       " 'United Kingdom, South Korea',\n",
       " 'Denmark, China',\n",
       " 'United States, Greece, Brazil',\n",
       " 'South Korea, France',\n",
       " 'United States, Australia, Samoa, United Kingdom',\n",
       " 'Germany, United Kingdom',\n",
       " 'Argentina, Chile, Peru',\n",
       " 'Turkey, Azerbaijan',\n",
       " 'Poland, West Germany',\n",
       " 'Germany, United States, Sweden',\n",
       " 'Canada, Spain',\n",
       " 'United States, Cambodia',\n",
       " 'United States, Greece',\n",
       " 'Norway, United Kingdom, France, Ireland',\n",
       " 'United Kingdom, Poland',\n",
       " 'Israel, Sweden, Germany, Netherlands',\n",
       " 'Switzerland, France',\n",
       " 'Italy, India',\n",
       " 'United States, Botswana',\n",
       " 'Chile, Argentina, France, Spain, United States',\n",
       " 'United States, India, South Korea, China',\n",
       " 'Denmark, Germany, Belgium, United Kingdom, France',\n",
       " 'Denmark, Germany, Belgium, United Kingdom, France, Sweden',\n",
       " 'France, Switzerland, Spain, United States, United Arab Emirates',\n",
       " 'Brazil, India, China, United States',\n",
       " 'Denmark, France, United States, Sweden',\n",
       " 'Australia, Iraq',\n",
       " 'China, Morocco, Hong Kong',\n",
       " 'Canada, United States, Germany',\n",
       " 'United Kingdom, Thailand',\n",
       " 'Venezuela, Colombia',\n",
       " 'Colombia, United States',\n",
       " 'France, Germany, Czech Republic, Belgium',\n",
       " 'Switzerland, Vatican City, Italy, Germany, France',\n",
       " 'Portugal, France, Poland, United States',\n",
       " 'United States, New Zealand, Japan',\n",
       " 'United States, Netherlands, Japan, France',\n",
       " 'India, Switzerland',\n",
       " 'Canada, India',\n",
       " 'United States, Morocco',\n",
       " 'Singapore, Japan, France',\n",
       " 'Canada, Mexico, Germany, South Africa',\n",
       " 'United Kingdom, United States, Canada',\n",
       " 'Germany, France, United States, Canada, United Kingdom',\n",
       " 'United States, Uruguay',\n",
       " 'India, Canada',\n",
       " 'Ireland, Canada, United Kingdom, United States',\n",
       " 'United States, Germany, Australia',\n",
       " 'Australia, France, Ireland',\n",
       " 'Australia, India',\n",
       " 'United States, United Kingdom, Canada, Japan',\n",
       " 'Sweden, United Kingdom, Finland',\n",
       " 'Hong Kong, Taiwan',\n",
       " 'United States, United Kingdom, Spain, South Korea',\n",
       " 'Guatemala',\n",
       " 'Ukraine',\n",
       " 'Italy, South Africa, West Germany, Australia, United States',\n",
       " 'United States, Germany, United Kingdom, Australia',\n",
       " 'Italy, France, Switzerland',\n",
       " 'Canada, France, United States',\n",
       " 'Switzerland, United States',\n",
       " 'Thailand, Canada, United States',\n",
       " 'China, Hong Kong, United States',\n",
       " 'United Kingdom, New Zealand',\n",
       " 'Czech Republic, United Kingdom, France',\n",
       " 'Australia, United Kingdom, Canada',\n",
       " 'Jamaica, United States',\n",
       " 'Australia, United Kingdom, United States, New Zealand, Italy, France',\n",
       " 'France, United States, Canada',\n",
       " 'United Kingdom, France, Canada, Belgium, United States',\n",
       " 'Denmark, United Kingdom, Sweden',\n",
       " 'United States, Hong Kong',\n",
       " 'United States, Kazakhstan',\n",
       " 'Argentina, France, United States, Germany, Qatar',\n",
       " 'United States, Germany, United Kingdom',\n",
       " 'United States, Germany, United Kingdom, Italy',\n",
       " 'United States, New Zealand, United Kingdom',\n",
       " 'Finland, United States',\n",
       " 'Spain, France, Uruguay',\n",
       " 'France, Canada, United States',\n",
       " 'United States, Canada, China',\n",
       " 'Ireland, Canada, Luxembourg, United States, United Kingdom, Philippines, India',\n",
       " 'United States, Czech Republic, United Kingdom',\n",
       " 'Israel, Germany',\n",
       " 'Mexico, France',\n",
       " 'Israel, Germany, Poland, Luxembourg, Belgium, France, United States',\n",
       " 'Austria, United States',\n",
       " 'United Kingdom, Lithuania',\n",
       " 'United States, Greece, United Kingdom',\n",
       " 'United Kingdom, China, United States, India',\n",
       " 'United States, Sweden, Norway',\n",
       " 'United Kingdom, United States, Morocco',\n",
       " 'United States, United Kingdom, Morocco',\n",
       " 'Spain, Canada, United States',\n",
       " 'United States, India, United Arab Emirates',\n",
       " 'United Kingdom, Canada, France, United States',\n",
       " 'India, Germany, France',\n",
       " 'Belgium, Ireland, Netherlands, Germany, Afghanistan',\n",
       " 'France, Canada, Italy, United States, China',\n",
       " 'Ireland, United Kingdom, Greece, France, Netherlands',\n",
       " 'Denmark, Indonesia, Finland, Norway, United Kingdom, Israel, France, United States, Germany, Netherlands',\n",
       " 'New Zealand, United States',\n",
       " 'United States, Australia, South Africa, United Kingdom',\n",
       " 'United States, Germany, Mexico',\n",
       " 'Somalia, Kenya, Sudan, South Africa, United States',\n",
       " 'United States, Canada, Japan, Panama',\n",
       " 'United Kingdom, Spain, Belgium',\n",
       " 'Serbia, South Korea, Slovenia',\n",
       " 'Denmark, United Kingdom, South Africa, Sweden, Belgium',\n",
       " 'Germany, Canada, United States',\n",
       " 'Ireland, Canada, United States, United Kingdom',\n",
       " 'New Zealand, United Kingdom, Australia',\n",
       " 'United Kingdom, Australia, Canada, United States',\n",
       " 'Germany, United States, Italy',\n",
       " 'United States, Venezuela',\n",
       " 'United Kingdom, Canada, Japan',\n",
       " 'United Kingdom, United States, Czech Republic',\n",
       " 'United Kingdom, China, United States',\n",
       " 'United Kingdom, Brazil, Germany',\n",
       " 'United Kingdom, Namibia, South Africa, Zimbabwe, United States',\n",
       " 'Canada, United States, India, United Kingdom',\n",
       " 'Switzerland, United Kingdom, United States',\n",
       " 'United Kingdom, India, Sweden',\n",
       " 'United States, Brazil, India, Uganda, China',\n",
       " 'Peru, United States, United Kingdom',\n",
       " 'Germany, United States, United Kingdom, Canada',\n",
       " 'Canada, India, Thailand, United States, United Arab Emirates',\n",
       " 'United States, East Germany, West Germany',\n",
       " 'France, Netherlands, South Africa, Finland',\n",
       " 'Egypt, Austria, United States',\n",
       " 'Russia, Spain',\n",
       " 'Croatia, Slovenia, Serbia, Montenegro',\n",
       " 'Japan, Canada',\n",
       " 'United States, France, South Korea, Indonesia',\n",
       " 'United Arab Emirates, Jordan']"
      ]
     },
     "execution_count": 741,
     "metadata": {},
     "output_type": "execute_result"
    }
   ],
   "source": [
    "list(data.country.unique())"
   ]
  },
  {
   "cell_type": "code",
   "execution_count": 742,
   "id": "9a3b296f",
   "metadata": {},
   "outputs": [],
   "source": [
    "data.date_added = pd.to_datetime(data.date_added)\n",
    "data[\"year_added\"] = data.date_added.dt.year\n",
    "# make each list of countries its individual row \n",
    "data.country = data.country.str.split(\", \")\n",
    "exploded_data = data.explode(\"country\")"
   ]
  },
  {
   "cell_type": "code",
   "execution_count": 743,
   "id": "bb4484d7",
   "metadata": {},
   "outputs": [],
   "source": [
    "exploded_data[\"country\"] = exploded_data.country.str.strip(\",\")  # fix the issue where some countries have a ,"
   ]
  },
  {
   "cell_type": "code",
   "execution_count": 744,
   "id": "cdd7c88a",
   "metadata": {},
   "outputs": [],
   "source": [
    "year_by_country = exploded_data.groupby([\"year_added\",\"country\"]).size().reset_index(name=\"count\")"
   ]
  },
  {
   "cell_type": "code",
   "execution_count": 745,
   "id": "6e0203fd",
   "metadata": {},
   "outputs": [
    {
     "data": {
      "text/html": [
       "<div>\n",
       "<style scoped>\n",
       "    .dataframe tbody tr th:only-of-type {\n",
       "        vertical-align: middle;\n",
       "    }\n",
       "\n",
       "    .dataframe tbody tr th {\n",
       "        vertical-align: top;\n",
       "    }\n",
       "\n",
       "    .dataframe thead th {\n",
       "        text-align: right;\n",
       "    }\n",
       "</style>\n",
       "<table border=\"1\" class=\"dataframe\">\n",
       "  <thead>\n",
       "    <tr style=\"text-align: right;\">\n",
       "      <th></th>\n",
       "      <th>year_added</th>\n",
       "      <th>country</th>\n",
       "      <th>count</th>\n",
       "    </tr>\n",
       "  </thead>\n",
       "  <tbody>\n",
       "    <tr>\n",
       "      <th>0</th>\n",
       "      <td>2008.0</td>\n",
       "      <td>United States</td>\n",
       "      <td>2</td>\n",
       "    </tr>\n",
       "    <tr>\n",
       "      <th>1</th>\n",
       "      <td>2009.0</td>\n",
       "      <td>Denmark</td>\n",
       "      <td>1</td>\n",
       "    </tr>\n",
       "    <tr>\n",
       "      <th>2</th>\n",
       "      <td>2009.0</td>\n",
       "      <td>United States</td>\n",
       "      <td>1</td>\n",
       "    </tr>\n",
       "    <tr>\n",
       "      <th>3</th>\n",
       "      <td>2010.0</td>\n",
       "      <td>United States</td>\n",
       "      <td>1</td>\n",
       "    </tr>\n",
       "    <tr>\n",
       "      <th>4</th>\n",
       "      <td>2011.0</td>\n",
       "      <td>France</td>\n",
       "      <td>2</td>\n",
       "    </tr>\n",
       "    <tr>\n",
       "      <th>...</th>\n",
       "      <td>...</td>\n",
       "      <td>...</td>\n",
       "      <td>...</td>\n",
       "    </tr>\n",
       "    <tr>\n",
       "      <th>466</th>\n",
       "      <td>2021.0</td>\n",
       "      <td>United Kingdom</td>\n",
       "      <td>120</td>\n",
       "    </tr>\n",
       "    <tr>\n",
       "      <th>467</th>\n",
       "      <td>2021.0</td>\n",
       "      <td>United States</td>\n",
       "      <td>627</td>\n",
       "    </tr>\n",
       "    <tr>\n",
       "      <th>468</th>\n",
       "      <td>2021.0</td>\n",
       "      <td>Uruguay</td>\n",
       "      <td>2</td>\n",
       "    </tr>\n",
       "    <tr>\n",
       "      <th>469</th>\n",
       "      <td>2021.0</td>\n",
       "      <td>Venezuela</td>\n",
       "      <td>1</td>\n",
       "    </tr>\n",
       "    <tr>\n",
       "      <th>470</th>\n",
       "      <td>2021.0</td>\n",
       "      <td>Vietnam</td>\n",
       "      <td>2</td>\n",
       "    </tr>\n",
       "  </tbody>\n",
       "</table>\n",
       "<p>471 rows × 3 columns</p>\n",
       "</div>"
      ],
      "text/plain": [
       "     year_added         country  count\n",
       "0        2008.0   United States      2\n",
       "1        2009.0         Denmark      1\n",
       "2        2009.0   United States      1\n",
       "3        2010.0   United States      1\n",
       "4        2011.0          France      2\n",
       "..          ...             ...    ...\n",
       "466      2021.0  United Kingdom    120\n",
       "467      2021.0   United States    627\n",
       "468      2021.0         Uruguay      2\n",
       "469      2021.0       Venezuela      1\n",
       "470      2021.0         Vietnam      2\n",
       "\n",
       "[471 rows x 3 columns]"
      ]
     },
     "execution_count": 745,
     "metadata": {},
     "output_type": "execute_result"
    }
   ],
   "source": [
    "year_by_country"
   ]
  },
  {
   "cell_type": "code",
   "execution_count": 746,
   "id": "c70e9d87",
   "metadata": {},
   "outputs": [],
   "source": [
    "year_by_country = year_by_country.query(\"country!=''\")"
   ]
  },
  {
   "cell_type": "code",
   "execution_count": 747,
   "id": "c8c8541d",
   "metadata": {},
   "outputs": [
    {
     "data": {
      "text/plain": [
       "array(['United States', 'Denmark', 'France', 'Mexico', 'Spain',\n",
       "       'United Kingdom', 'Canada', 'Ireland', 'Bermuda', 'Ecuador',\n",
       "       'Egypt', 'Hungary', 'Norway', 'Australia', 'Belgium', 'China',\n",
       "       'Germany', 'Italy', 'Japan', 'New Zealand', 'Nigeria', 'Ukraine',\n",
       "       'Argentina', 'Austria', 'Azerbaijan', 'Brazil', 'Chile',\n",
       "       'Colombia', 'Croatia', 'Cuba', 'Finland', 'Greece', 'Hong Kong',\n",
       "       'Iceland', 'India', 'Indonesia', 'Israel', 'Jordan', 'Kazakhstan',\n",
       "       'Montenegro', 'Netherlands', 'Pakistan', 'Peru', 'Poland', 'Qatar',\n",
       "       'Russia', 'Serbia', 'Slovenia', 'South Africa', 'South Korea',\n",
       "       'Sweden', 'Switzerland', 'Taiwan', 'Turkey',\n",
       "       'United Arab Emirates', 'Zimbabwe', 'Afghanistan', 'Armenia',\n",
       "       'Bulgaria', 'Cambodia', 'Czech Republic', 'Georgia', 'Iran',\n",
       "       'Latvia', 'Lebanon', 'Lithuania', 'Malaysia', 'Mongolia',\n",
       "       'Morocco', 'Nepal', 'Nicaragua', 'Panama', 'Philippines',\n",
       "       'Portugal', 'Romania', 'Samoa', 'Saudi Arabia', 'Senegal',\n",
       "       'Singapore', 'Slovakia', 'Soviet Union', 'Sri Lanka', 'Thailand',\n",
       "       'Uruguay', 'Venezuela', 'Vietnam', 'West Germany', 'Albania',\n",
       "       'Bangladesh', 'Cayman Islands', 'Dominican Republic', 'Guatemala',\n",
       "       'Iraq', 'Kenya', 'Kuwait', 'Luxembourg', 'Namibia', 'Somalia',\n",
       "       'Sudan', 'Syria', 'Uganda', 'Ghana', 'Liechtenstein', 'Malawi',\n",
       "       'Mauritius', 'Paraguay', 'Vatican City', 'Algeria', 'Angola',\n",
       "       'Bahamas', 'Belarus', 'Botswana', 'Cyprus', 'East Germany',\n",
       "       'Jamaica', 'Malta', 'Mozambique', 'Puerto Rico', 'Burkina Faso',\n",
       "       'Cameroon', 'Ethiopia', 'Palestine'], dtype=object)"
      ]
     },
     "execution_count": 747,
     "metadata": {},
     "output_type": "execute_result"
    }
   ],
   "source": [
    "year_by_country.country.unique()"
   ]
  },
  {
   "cell_type": "markdown",
   "id": "2b6267ad",
   "metadata": {},
   "source": [
    "https://stackoverflow.com/questions/50113010/how-to-replace-dataframe-columns-country-name-with-continent"
   ]
  },
  {
   "cell_type": "code",
   "execution_count": 748,
   "id": "a8d87d6d",
   "metadata": {},
   "outputs": [],
   "source": [
    "# create list countries to continent for mapping \n",
    "north_america = [\"United States\",\"Mexico\",\"Canada\",\"Bermuda\",\"Cuba\",\"Nicaragua\",\"Panama\",\"Cayman Islands\",\n",
    "                \"Dominican Republic\",\"Guatemala\",\"Bahamas\",\"Jamaica\",\"Puerto Rico\"]\n",
    "\n",
    "europe = [\"Denmark\",\"France\",\"Spain\",\"United Kingdom\",\"Ireland\",\"Hungary\",\"Norway\",\"Belgium\",\n",
    "         \"Germany\",\"Italy\",\"Ukraine\",\"Austria\",\"Croatia\",\"Finland\",\"Greece\",\"Iceland\",\n",
    "         \"Montenegro\",\"Netherlands\",\"Poland\",\"Russia\",\"Serbia\",\"Slovenia\",\"Sweden\",\n",
    "         \"Switzerland\",\"Bulgaria\",\"Czech Republic\",\"Latvia\",\"Lithuania\",\"Portugal\",\"Romania\",\n",
    "         \"Slovakia\",\"Soviet Union\",\"West Germany\",\"Albania\",\"Luxembourg\",\"Liechtenstein\",\n",
    "         \"Vatican City\",\"Belarus\",\"Cyprus\",\"East Germany\",\"Malta\"]\n",
    "\n",
    "south_america = [\"Ecuador\",\"Argentina\",\"Brazil\",\"Chile\",\"Colombia\",\"Peru\",\"Uruguay\",\"Venezuela\",\"Paraguay\"]\n",
    "\n",
    "africa = [\"Egypt\",\"Nigeria\",\"South Africa\",\"Zimbabwe\",\"Morocco\",\"Senegal\",\"Kenya\",\"Namibia\",\"Uganda\",\"Ghana\",\n",
    "         \"Malawi\",\"Mauritius\",\"Algeria\",\"Angolia\",\"Botswana\",\"Mozambique\",\"Burkina Faso\",\"Cameroon\",\n",
    "         \"Ethiopia\"]\n",
    "\n",
    "australia = [\"Australia\",\"New Zealand\",\"Samoa\",\"Somalia\",\"Sudan\"]\n",
    "\n",
    "asia = [\"China\",\"Japan\",\"Azerbaijan\",\"Hong Kong\",\"India\",\"Indonesia\",\"Israel\",\"Jordan\",\n",
    "       \"Kazakhstan\",\"Pakistan\",\"Qatar\",\"South Korea\",\"Taiwan\",\"Turkey\",\n",
    "       \"United Arab Emirates\",\"Afghanistan\",\"Armenia\",\"Cambodia\",\"Georgia\",\"Iran\",\"Lebanon\",\n",
    "       \"Malaysia\",\"Mongolia\",\"Nepal\",\"Philippines\",\"Saudi Arabia\",\"Singapore\",\n",
    "       \"Sri Lanka\",\"Thailand\",\"Vietnam\",\"Bangladesh\",\"Iraq\",\"Kuwait\",\"Syria\",\"Palestine\"]"
   ]
  },
  {
   "cell_type": "code",
   "execution_count": 749,
   "id": "d472f60d",
   "metadata": {},
   "outputs": [],
   "source": [
    "def return_continent(country):\n",
    "    if country in north_america:\n",
    "        return \"North America\"\n",
    "    \n",
    "    elif country in europe:\n",
    "        return \"Europe\"\n",
    "    \n",
    "    elif country in south_america:\n",
    "        return \"South America\"\n",
    "    \n",
    "    elif country in africa:\n",
    "        return \"Africa\"\n",
    "    \n",
    "    elif country in australia:\n",
    "        return \"Australia\"\n",
    "    \n",
    "    elif country in asia:\n",
    "        return \"Asia\"\n"
   ]
  },
  {
   "cell_type": "code",
   "execution_count": 750,
   "id": "dd1e0ef1",
   "metadata": {},
   "outputs": [
    {
     "name": "stderr",
     "output_type": "stream",
     "text": [
      "/var/folders/nr/smj0dvmd7x3fmk66dmf8q3s00000gn/T/ipykernel_34110/3494638098.py:1: SettingWithCopyWarning:\n",
      "\n",
      "\n",
      "A value is trying to be set on a copy of a slice from a DataFrame.\n",
      "Try using .loc[row_indexer,col_indexer] = value instead\n",
      "\n",
      "See the caveats in the documentation: https://pandas.pydata.org/pandas-docs/stable/user_guide/indexing.html#returning-a-view-versus-a-copy\n",
      "\n"
     ]
    }
   ],
   "source": [
    "year_by_country[\"continent\"] = year_by_country.country.apply(lambda country:return_continent(country))"
   ]
  },
  {
   "cell_type": "code",
   "execution_count": 751,
   "id": "3467477f",
   "metadata": {},
   "outputs": [
    {
     "data": {
      "text/html": [
       "<div>\n",
       "<style scoped>\n",
       "    .dataframe tbody tr th:only-of-type {\n",
       "        vertical-align: middle;\n",
       "    }\n",
       "\n",
       "    .dataframe tbody tr th {\n",
       "        vertical-align: top;\n",
       "    }\n",
       "\n",
       "    .dataframe thead th {\n",
       "        text-align: right;\n",
       "    }\n",
       "</style>\n",
       "<table border=\"1\" class=\"dataframe\">\n",
       "  <thead>\n",
       "    <tr style=\"text-align: right;\">\n",
       "      <th></th>\n",
       "      <th>year_added</th>\n",
       "      <th>country</th>\n",
       "      <th>count</th>\n",
       "      <th>continent</th>\n",
       "    </tr>\n",
       "  </thead>\n",
       "  <tbody>\n",
       "    <tr>\n",
       "      <th>0</th>\n",
       "      <td>2008.0</td>\n",
       "      <td>United States</td>\n",
       "      <td>2</td>\n",
       "      <td>North America</td>\n",
       "    </tr>\n",
       "    <tr>\n",
       "      <th>1</th>\n",
       "      <td>2009.0</td>\n",
       "      <td>Denmark</td>\n",
       "      <td>1</td>\n",
       "      <td>Europe</td>\n",
       "    </tr>\n",
       "    <tr>\n",
       "      <th>2</th>\n",
       "      <td>2009.0</td>\n",
       "      <td>United States</td>\n",
       "      <td>1</td>\n",
       "      <td>North America</td>\n",
       "    </tr>\n",
       "    <tr>\n",
       "      <th>3</th>\n",
       "      <td>2010.0</td>\n",
       "      <td>United States</td>\n",
       "      <td>1</td>\n",
       "      <td>North America</td>\n",
       "    </tr>\n",
       "    <tr>\n",
       "      <th>4</th>\n",
       "      <td>2011.0</td>\n",
       "      <td>France</td>\n",
       "      <td>2</td>\n",
       "      <td>Europe</td>\n",
       "    </tr>\n",
       "    <tr>\n",
       "      <th>...</th>\n",
       "      <td>...</td>\n",
       "      <td>...</td>\n",
       "      <td>...</td>\n",
       "      <td>...</td>\n",
       "    </tr>\n",
       "    <tr>\n",
       "      <th>466</th>\n",
       "      <td>2021.0</td>\n",
       "      <td>United Kingdom</td>\n",
       "      <td>120</td>\n",
       "      <td>Europe</td>\n",
       "    </tr>\n",
       "    <tr>\n",
       "      <th>467</th>\n",
       "      <td>2021.0</td>\n",
       "      <td>United States</td>\n",
       "      <td>627</td>\n",
       "      <td>North America</td>\n",
       "    </tr>\n",
       "    <tr>\n",
       "      <th>468</th>\n",
       "      <td>2021.0</td>\n",
       "      <td>Uruguay</td>\n",
       "      <td>2</td>\n",
       "      <td>South America</td>\n",
       "    </tr>\n",
       "    <tr>\n",
       "      <th>469</th>\n",
       "      <td>2021.0</td>\n",
       "      <td>Venezuela</td>\n",
       "      <td>1</td>\n",
       "      <td>South America</td>\n",
       "    </tr>\n",
       "    <tr>\n",
       "      <th>470</th>\n",
       "      <td>2021.0</td>\n",
       "      <td>Vietnam</td>\n",
       "      <td>2</td>\n",
       "      <td>Asia</td>\n",
       "    </tr>\n",
       "  </tbody>\n",
       "</table>\n",
       "<p>470 rows × 4 columns</p>\n",
       "</div>"
      ],
      "text/plain": [
       "     year_added         country  count      continent\n",
       "0        2008.0   United States      2  North America\n",
       "1        2009.0         Denmark      1         Europe\n",
       "2        2009.0   United States      1  North America\n",
       "3        2010.0   United States      1  North America\n",
       "4        2011.0          France      2         Europe\n",
       "..          ...             ...    ...            ...\n",
       "466      2021.0  United Kingdom    120         Europe\n",
       "467      2021.0   United States    627  North America\n",
       "468      2021.0         Uruguay      2  South America\n",
       "469      2021.0       Venezuela      1  South America\n",
       "470      2021.0         Vietnam      2           Asia\n",
       "\n",
       "[470 rows x 4 columns]"
      ]
     },
     "execution_count": 751,
     "metadata": {},
     "output_type": "execute_result"
    }
   ],
   "source": [
    "year_by_country"
   ]
  },
  {
   "cell_type": "code",
   "execution_count": 752,
   "id": "9408d64a",
   "metadata": {},
   "outputs": [],
   "source": [
    "year_by_continent = year_by_country.groupby([\"year_added\",\"continent\"]).sum(numeric_only=True)"
   ]
  },
  {
   "cell_type": "code",
   "execution_count": 753,
   "id": "5f01d8ed",
   "metadata": {
    "scrolled": false
   },
   "outputs": [],
   "source": [
    "year_by_continent = year_by_continent.reset_index()"
   ]
  },
  {
   "cell_type": "code",
   "execution_count": 754,
   "id": "6d6a24a5",
   "metadata": {},
   "outputs": [],
   "source": [
    "pivoted = year_by_continent.pivot(index='year_added', columns='continent', values='count').fillna(0)"
   ]
  },
  {
   "cell_type": "code",
   "execution_count": 755,
   "id": "624e15a3",
   "metadata": {},
   "outputs": [],
   "source": [
    "year_by_continent = pd.melt(pivoted.reset_index(),id_vars=\"year_added\",var_name=\"continent\",value_name=\"count\")"
   ]
  },
  {
   "cell_type": "code",
   "execution_count": 756,
   "id": "963a279d",
   "metadata": {},
   "outputs": [],
   "source": [
    "year_by_continent[\"year_added\"] = year_by_continent.year_added.astype(int)\n",
    "year_by_continent = year_by_continent.groupby([\"year_added\",\"continent\"]).sum()\n",
    "year_by_continent[\"cumsum\"] = year_by_continent.groupby('continent')['count'].cumsum()"
   ]
  },
  {
   "cell_type": "code",
   "execution_count": 757,
   "id": "7f7fdc57",
   "metadata": {},
   "outputs": [],
   "source": [
    "year_by_continent.reset_index(inplace=True)"
   ]
  },
  {
   "cell_type": "code",
   "execution_count": 758,
   "id": "cd72c589",
   "metadata": {},
   "outputs": [
    {
     "data": {
      "text/html": [
       "<div>\n",
       "<style scoped>\n",
       "    .dataframe tbody tr th:only-of-type {\n",
       "        vertical-align: middle;\n",
       "    }\n",
       "\n",
       "    .dataframe tbody tr th {\n",
       "        vertical-align: top;\n",
       "    }\n",
       "\n",
       "    .dataframe thead th {\n",
       "        text-align: right;\n",
       "    }\n",
       "</style>\n",
       "<table border=\"1\" class=\"dataframe\">\n",
       "  <thead>\n",
       "    <tr style=\"text-align: right;\">\n",
       "      <th></th>\n",
       "      <th>year_added</th>\n",
       "      <th>continent</th>\n",
       "      <th>count</th>\n",
       "      <th>cumsum</th>\n",
       "    </tr>\n",
       "  </thead>\n",
       "  <tbody>\n",
       "    <tr>\n",
       "      <th>0</th>\n",
       "      <td>2008</td>\n",
       "      <td>Africa</td>\n",
       "      <td>0.0</td>\n",
       "      <td>0.0</td>\n",
       "    </tr>\n",
       "    <tr>\n",
       "      <th>1</th>\n",
       "      <td>2008</td>\n",
       "      <td>Asia</td>\n",
       "      <td>0.0</td>\n",
       "      <td>0.0</td>\n",
       "    </tr>\n",
       "    <tr>\n",
       "      <th>2</th>\n",
       "      <td>2008</td>\n",
       "      <td>Australia</td>\n",
       "      <td>0.0</td>\n",
       "      <td>0.0</td>\n",
       "    </tr>\n",
       "    <tr>\n",
       "      <th>3</th>\n",
       "      <td>2008</td>\n",
       "      <td>Europe</td>\n",
       "      <td>0.0</td>\n",
       "      <td>0.0</td>\n",
       "    </tr>\n",
       "    <tr>\n",
       "      <th>4</th>\n",
       "      <td>2008</td>\n",
       "      <td>North America</td>\n",
       "      <td>2.0</td>\n",
       "      <td>2.0</td>\n",
       "    </tr>\n",
       "    <tr>\n",
       "      <th>...</th>\n",
       "      <td>...</td>\n",
       "      <td>...</td>\n",
       "      <td>...</td>\n",
       "      <td>...</td>\n",
       "    </tr>\n",
       "    <tr>\n",
       "      <th>79</th>\n",
       "      <td>2021</td>\n",
       "      <td>Asia</td>\n",
       "      <td>309.0</td>\n",
       "      <td>2572.0</td>\n",
       "    </tr>\n",
       "    <tr>\n",
       "      <th>80</th>\n",
       "      <td>2021</td>\n",
       "      <td>Australia</td>\n",
       "      <td>30.0</td>\n",
       "      <td>195.0</td>\n",
       "    </tr>\n",
       "    <tr>\n",
       "      <th>81</th>\n",
       "      <td>2021</td>\n",
       "      <td>Europe</td>\n",
       "      <td>335.0</td>\n",
       "      <td>2307.0</td>\n",
       "    </tr>\n",
       "    <tr>\n",
       "      <th>82</th>\n",
       "      <td>2021</td>\n",
       "      <td>North America</td>\n",
       "      <td>708.0</td>\n",
       "      <td>4310.0</td>\n",
       "    </tr>\n",
       "    <tr>\n",
       "      <th>83</th>\n",
       "      <td>2021</td>\n",
       "      <td>South America</td>\n",
       "      <td>37.0</td>\n",
       "      <td>299.0</td>\n",
       "    </tr>\n",
       "  </tbody>\n",
       "</table>\n",
       "<p>84 rows × 4 columns</p>\n",
       "</div>"
      ],
      "text/plain": [
       "    year_added      continent  count  cumsum\n",
       "0         2008         Africa    0.0     0.0\n",
       "1         2008           Asia    0.0     0.0\n",
       "2         2008      Australia    0.0     0.0\n",
       "3         2008         Europe    0.0     0.0\n",
       "4         2008  North America    2.0     2.0\n",
       "..         ...            ...    ...     ...\n",
       "79        2021           Asia  309.0  2572.0\n",
       "80        2021      Australia   30.0   195.0\n",
       "81        2021         Europe  335.0  2307.0\n",
       "82        2021  North America  708.0  4310.0\n",
       "83        2021  South America   37.0   299.0\n",
       "\n",
       "[84 rows x 4 columns]"
      ]
     },
     "execution_count": 758,
     "metadata": {},
     "output_type": "execute_result"
    }
   ],
   "source": [
    "year_by_continent"
   ]
  },
  {
   "cell_type": "markdown",
   "id": "aff16e41",
   "metadata": {},
   "source": [
    "# Bar chart of cumulative sums of movie and tv shows"
   ]
  },
  {
   "cell_type": "code",
   "execution_count": 759,
   "id": "7d3feeba",
   "metadata": {},
   "outputs": [
    {
     "data": {
      "text/html": [
       "        <script type=\"text/javascript\">\n",
       "        window.PlotlyConfig = {MathJaxConfig: 'local'};\n",
       "        if (window.MathJax && window.MathJax.Hub && window.MathJax.Hub.Config) {window.MathJax.Hub.Config({SVG: {font: \"STIX-Web\"}});}\n",
       "        if (typeof require !== 'undefined') {\n",
       "        require.undef(\"plotly\");\n",
       "        requirejs.config({\n",
       "            paths: {\n",
       "                'plotly': ['https://cdn.plot.ly/plotly-2.24.1.min']\n",
       "            }\n",
       "        });\n",
       "        require(['plotly'], function(Plotly) {\n",
       "            window._Plotly = Plotly;\n",
       "        });\n",
       "        }\n",
       "        </script>\n",
       "        "
      ]
     },
     "metadata": {},
     "output_type": "display_data"
    }
   ],
   "source": [
    "import plotly.express as px\n",
    "%matplotlib inline\n",
    "from plotly.offline import download_plotlyjs, init_notebook_mode,plot, iplot\n",
    "init_notebook_mode(connected=True)"
   ]
  },
  {
   "cell_type": "markdown",
   "id": "5b6346b9",
   "metadata": {},
   "source": [
    "Link to plot since it cannot be seen in the notebook without the data: \n",
    "https://gitmebrandonhom.github.io/bar.html"
   ]
  },
  {
   "cell_type": "code",
   "execution_count": 760,
   "id": "dc918264",
   "metadata": {},
   "outputs": [
    {
     "data": {
      "application/vnd.plotly.v1+json": {
       "config": {
        "plotlyServerURL": "https://plot.ly"
       },
       "data": [
        {
         "alignmentgroup": "True",
         "hovertemplate": "continent=%{x}<br>year_added=2008<br>cumsum=%{text}<extra></extra>",
         "legendgroup": "Africa",
         "marker": {
          "color": "#000000",
          "line": {
           "color": "black",
           "width": 1
          },
          "pattern": {
           "shape": ""
          }
         },
         "name": "Africa",
         "offsetgroup": "Africa",
         "orientation": "v",
         "showlegend": true,
         "text": [
          0
         ],
         "textposition": "outside",
         "type": "bar",
         "width": 0.6,
         "x": [
          "Africa"
         ],
         "xaxis": "x",
         "y": [
          0
         ],
         "yaxis": "y"
        },
        {
         "alignmentgroup": "True",
         "hovertemplate": "continent=%{x}<br>year_added=2008<br>cumsum=%{text}<extra></extra>",
         "legendgroup": "Asia",
         "marker": {
          "color": "#f53e31",
          "line": {
           "color": "black",
           "width": 1
          },
          "pattern": {
           "shape": ""
          }
         },
         "name": "Asia",
         "offsetgroup": "Asia",
         "orientation": "v",
         "showlegend": true,
         "text": [
          0
         ],
         "textposition": "outside",
         "type": "bar",
         "width": 0.6,
         "x": [
          "Asia"
         ],
         "xaxis": "x",
         "y": [
          0
         ],
         "yaxis": "y"
        },
        {
         "alignmentgroup": "True",
         "hovertemplate": "continent=%{x}<br>year_added=2008<br>cumsum=%{text}<extra></extra>",
         "legendgroup": "Australia",
         "marker": {
          "color": "#000000",
          "line": {
           "color": "black",
           "width": 1
          },
          "pattern": {
           "shape": ""
          }
         },
         "name": "Australia",
         "offsetgroup": "Australia",
         "orientation": "v",
         "showlegend": true,
         "text": [
          0
         ],
         "textposition": "outside",
         "type": "bar",
         "width": 0.6,
         "x": [
          "Australia"
         ],
         "xaxis": "x",
         "y": [
          0
         ],
         "yaxis": "y"
        },
        {
         "alignmentgroup": "True",
         "hovertemplate": "continent=%{x}<br>year_added=2008<br>cumsum=%{text}<extra></extra>",
         "legendgroup": "Europe",
         "marker": {
          "color": "#f53e31",
          "line": {
           "color": "black",
           "width": 1
          },
          "pattern": {
           "shape": ""
          }
         },
         "name": "Europe",
         "offsetgroup": "Europe",
         "orientation": "v",
         "showlegend": true,
         "text": [
          0
         ],
         "textposition": "outside",
         "type": "bar",
         "width": 0.6,
         "x": [
          "Europe"
         ],
         "xaxis": "x",
         "y": [
          0
         ],
         "yaxis": "y"
        },
        {
         "alignmentgroup": "True",
         "hovertemplate": "continent=%{x}<br>year_added=2008<br>cumsum=%{text}<extra></extra>",
         "legendgroup": "North America",
         "marker": {
          "color": "#db0000",
          "line": {
           "color": "black",
           "width": 1
          },
          "pattern": {
           "shape": ""
          }
         },
         "name": "North America",
         "offsetgroup": "North America",
         "orientation": "v",
         "showlegend": true,
         "text": [
          2
         ],
         "textposition": "outside",
         "type": "bar",
         "width": 0.6,
         "x": [
          "North America"
         ],
         "xaxis": "x",
         "y": [
          2
         ],
         "yaxis": "y"
        },
        {
         "alignmentgroup": "True",
         "hovertemplate": "continent=%{x}<br>year_added=2008<br>cumsum=%{text}<extra></extra>",
         "legendgroup": "South America",
         "marker": {
          "color": "#000000",
          "line": {
           "color": "black",
           "width": 1
          },
          "pattern": {
           "shape": ""
          }
         },
         "name": "South America",
         "offsetgroup": "South America",
         "orientation": "v",
         "showlegend": true,
         "text": [
          0
         ],
         "textposition": "outside",
         "type": "bar",
         "width": 0.6,
         "x": [
          "South America"
         ],
         "xaxis": "x",
         "y": [
          0
         ],
         "yaxis": "y"
        }
       ],
       "frames": [
        {
         "data": [
          {
           "alignmentgroup": "True",
           "hovertemplate": "continent=%{x}<br>year_added=2008<br>cumsum=%{text}<extra></extra>",
           "legendgroup": "Africa",
           "marker": {
            "color": "#000000",
            "pattern": {
             "shape": ""
            }
           },
           "name": "Africa",
           "offsetgroup": "Africa",
           "orientation": "v",
           "showlegend": true,
           "text": [
            0
           ],
           "textposition": "auto",
           "type": "bar",
           "x": [
            "Africa"
           ],
           "xaxis": "x",
           "y": [
            0
           ],
           "yaxis": "y"
          },
          {
           "alignmentgroup": "True",
           "hovertemplate": "continent=%{x}<br>year_added=2008<br>cumsum=%{text}<extra></extra>",
           "legendgroup": "Asia",
           "marker": {
            "color": "#f53e31",
            "pattern": {
             "shape": ""
            }
           },
           "name": "Asia",
           "offsetgroup": "Asia",
           "orientation": "v",
           "showlegend": true,
           "text": [
            0
           ],
           "textposition": "auto",
           "type": "bar",
           "x": [
            "Asia"
           ],
           "xaxis": "x",
           "y": [
            0
           ],
           "yaxis": "y"
          },
          {
           "alignmentgroup": "True",
           "hovertemplate": "continent=%{x}<br>year_added=2008<br>cumsum=%{text}<extra></extra>",
           "legendgroup": "Australia",
           "marker": {
            "color": "#000000",
            "pattern": {
             "shape": ""
            }
           },
           "name": "Australia",
           "offsetgroup": "Australia",
           "orientation": "v",
           "showlegend": true,
           "text": [
            0
           ],
           "textposition": "auto",
           "type": "bar",
           "x": [
            "Australia"
           ],
           "xaxis": "x",
           "y": [
            0
           ],
           "yaxis": "y"
          },
          {
           "alignmentgroup": "True",
           "hovertemplate": "continent=%{x}<br>year_added=2008<br>cumsum=%{text}<extra></extra>",
           "legendgroup": "Europe",
           "marker": {
            "color": "#f53e31",
            "pattern": {
             "shape": ""
            }
           },
           "name": "Europe",
           "offsetgroup": "Europe",
           "orientation": "v",
           "showlegend": true,
           "text": [
            0
           ],
           "textposition": "auto",
           "type": "bar",
           "x": [
            "Europe"
           ],
           "xaxis": "x",
           "y": [
            0
           ],
           "yaxis": "y"
          },
          {
           "alignmentgroup": "True",
           "hovertemplate": "continent=%{x}<br>year_added=2008<br>cumsum=%{text}<extra></extra>",
           "legendgroup": "North America",
           "marker": {
            "color": "#db0000",
            "pattern": {
             "shape": ""
            }
           },
           "name": "North America",
           "offsetgroup": "North America",
           "orientation": "v",
           "showlegend": true,
           "text": [
            2
           ],
           "textposition": "auto",
           "type": "bar",
           "x": [
            "North America"
           ],
           "xaxis": "x",
           "y": [
            2
           ],
           "yaxis": "y"
          },
          {
           "alignmentgroup": "True",
           "hovertemplate": "continent=%{x}<br>year_added=2008<br>cumsum=%{text}<extra></extra>",
           "legendgroup": "South America",
           "marker": {
            "color": "#000000",
            "pattern": {
             "shape": ""
            }
           },
           "name": "South America",
           "offsetgroup": "South America",
           "orientation": "v",
           "showlegend": true,
           "text": [
            0
           ],
           "textposition": "auto",
           "type": "bar",
           "x": [
            "South America"
           ],
           "xaxis": "x",
           "y": [
            0
           ],
           "yaxis": "y"
          }
         ],
         "name": "2008"
        },
        {
         "data": [
          {
           "alignmentgroup": "True",
           "hovertemplate": "continent=%{x}<br>year_added=2009<br>cumsum=%{text}<extra></extra>",
           "legendgroup": "Africa",
           "marker": {
            "color": "#000000",
            "pattern": {
             "shape": ""
            }
           },
           "name": "Africa",
           "offsetgroup": "Africa",
           "orientation": "v",
           "showlegend": true,
           "text": [
            0
           ],
           "textposition": "auto",
           "type": "bar",
           "x": [
            "Africa"
           ],
           "xaxis": "x",
           "y": [
            0
           ],
           "yaxis": "y"
          },
          {
           "alignmentgroup": "True",
           "hovertemplate": "continent=%{x}<br>year_added=2009<br>cumsum=%{text}<extra></extra>",
           "legendgroup": "Asia",
           "marker": {
            "color": "#f53e31",
            "pattern": {
             "shape": ""
            }
           },
           "name": "Asia",
           "offsetgroup": "Asia",
           "orientation": "v",
           "showlegend": true,
           "text": [
            0
           ],
           "textposition": "auto",
           "type": "bar",
           "x": [
            "Asia"
           ],
           "xaxis": "x",
           "y": [
            0
           ],
           "yaxis": "y"
          },
          {
           "alignmentgroup": "True",
           "hovertemplate": "continent=%{x}<br>year_added=2009<br>cumsum=%{text}<extra></extra>",
           "legendgroup": "Australia",
           "marker": {
            "color": "#000000",
            "pattern": {
             "shape": ""
            }
           },
           "name": "Australia",
           "offsetgroup": "Australia",
           "orientation": "v",
           "showlegend": true,
           "text": [
            0
           ],
           "textposition": "auto",
           "type": "bar",
           "x": [
            "Australia"
           ],
           "xaxis": "x",
           "y": [
            0
           ],
           "yaxis": "y"
          },
          {
           "alignmentgroup": "True",
           "hovertemplate": "continent=%{x}<br>year_added=2009<br>cumsum=%{text}<extra></extra>",
           "legendgroup": "Europe",
           "marker": {
            "color": "#f53e31",
            "pattern": {
             "shape": ""
            }
           },
           "name": "Europe",
           "offsetgroup": "Europe",
           "orientation": "v",
           "showlegend": true,
           "text": [
            1
           ],
           "textposition": "auto",
           "type": "bar",
           "x": [
            "Europe"
           ],
           "xaxis": "x",
           "y": [
            1
           ],
           "yaxis": "y"
          },
          {
           "alignmentgroup": "True",
           "hovertemplate": "continent=%{x}<br>year_added=2009<br>cumsum=%{text}<extra></extra>",
           "legendgroup": "North America",
           "marker": {
            "color": "#db0000",
            "pattern": {
             "shape": ""
            }
           },
           "name": "North America",
           "offsetgroup": "North America",
           "orientation": "v",
           "showlegend": true,
           "text": [
            3
           ],
           "textposition": "auto",
           "type": "bar",
           "x": [
            "North America"
           ],
           "xaxis": "x",
           "y": [
            3
           ],
           "yaxis": "y"
          },
          {
           "alignmentgroup": "True",
           "hovertemplate": "continent=%{x}<br>year_added=2009<br>cumsum=%{text}<extra></extra>",
           "legendgroup": "South America",
           "marker": {
            "color": "#000000",
            "pattern": {
             "shape": ""
            }
           },
           "name": "South America",
           "offsetgroup": "South America",
           "orientation": "v",
           "showlegend": true,
           "text": [
            0
           ],
           "textposition": "auto",
           "type": "bar",
           "x": [
            "South America"
           ],
           "xaxis": "x",
           "y": [
            0
           ],
           "yaxis": "y"
          }
         ],
         "name": "2009"
        },
        {
         "data": [
          {
           "alignmentgroup": "True",
           "hovertemplate": "continent=%{x}<br>year_added=2010<br>cumsum=%{text}<extra></extra>",
           "legendgroup": "Africa",
           "marker": {
            "color": "#000000",
            "pattern": {
             "shape": ""
            }
           },
           "name": "Africa",
           "offsetgroup": "Africa",
           "orientation": "v",
           "showlegend": true,
           "text": [
            0
           ],
           "textposition": "auto",
           "type": "bar",
           "x": [
            "Africa"
           ],
           "xaxis": "x",
           "y": [
            0
           ],
           "yaxis": "y"
          },
          {
           "alignmentgroup": "True",
           "hovertemplate": "continent=%{x}<br>year_added=2010<br>cumsum=%{text}<extra></extra>",
           "legendgroup": "Asia",
           "marker": {
            "color": "#f53e31",
            "pattern": {
             "shape": ""
            }
           },
           "name": "Asia",
           "offsetgroup": "Asia",
           "orientation": "v",
           "showlegend": true,
           "text": [
            0
           ],
           "textposition": "auto",
           "type": "bar",
           "x": [
            "Asia"
           ],
           "xaxis": "x",
           "y": [
            0
           ],
           "yaxis": "y"
          },
          {
           "alignmentgroup": "True",
           "hovertemplate": "continent=%{x}<br>year_added=2010<br>cumsum=%{text}<extra></extra>",
           "legendgroup": "Australia",
           "marker": {
            "color": "#000000",
            "pattern": {
             "shape": ""
            }
           },
           "name": "Australia",
           "offsetgroup": "Australia",
           "orientation": "v",
           "showlegend": true,
           "text": [
            0
           ],
           "textposition": "auto",
           "type": "bar",
           "x": [
            "Australia"
           ],
           "xaxis": "x",
           "y": [
            0
           ],
           "yaxis": "y"
          },
          {
           "alignmentgroup": "True",
           "hovertemplate": "continent=%{x}<br>year_added=2010<br>cumsum=%{text}<extra></extra>",
           "legendgroup": "Europe",
           "marker": {
            "color": "#f53e31",
            "pattern": {
             "shape": ""
            }
           },
           "name": "Europe",
           "offsetgroup": "Europe",
           "orientation": "v",
           "showlegend": true,
           "text": [
            1
           ],
           "textposition": "auto",
           "type": "bar",
           "x": [
            "Europe"
           ],
           "xaxis": "x",
           "y": [
            1
           ],
           "yaxis": "y"
          },
          {
           "alignmentgroup": "True",
           "hovertemplate": "continent=%{x}<br>year_added=2010<br>cumsum=%{text}<extra></extra>",
           "legendgroup": "North America",
           "marker": {
            "color": "#db0000",
            "pattern": {
             "shape": ""
            }
           },
           "name": "North America",
           "offsetgroup": "North America",
           "orientation": "v",
           "showlegend": true,
           "text": [
            4
           ],
           "textposition": "auto",
           "type": "bar",
           "x": [
            "North America"
           ],
           "xaxis": "x",
           "y": [
            4
           ],
           "yaxis": "y"
          },
          {
           "alignmentgroup": "True",
           "hovertemplate": "continent=%{x}<br>year_added=2010<br>cumsum=%{text}<extra></extra>",
           "legendgroup": "South America",
           "marker": {
            "color": "#000000",
            "pattern": {
             "shape": ""
            }
           },
           "name": "South America",
           "offsetgroup": "South America",
           "orientation": "v",
           "showlegend": true,
           "text": [
            0
           ],
           "textposition": "auto",
           "type": "bar",
           "x": [
            "South America"
           ],
           "xaxis": "x",
           "y": [
            0
           ],
           "yaxis": "y"
          }
         ],
         "name": "2010"
        },
        {
         "data": [
          {
           "alignmentgroup": "True",
           "hovertemplate": "continent=%{x}<br>year_added=2011<br>cumsum=%{text}<extra></extra>",
           "legendgroup": "Africa",
           "marker": {
            "color": "#000000",
            "pattern": {
             "shape": ""
            }
           },
           "name": "Africa",
           "offsetgroup": "Africa",
           "orientation": "v",
           "showlegend": true,
           "text": [
            0
           ],
           "textposition": "auto",
           "type": "bar",
           "x": [
            "Africa"
           ],
           "xaxis": "x",
           "y": [
            0
           ],
           "yaxis": "y"
          },
          {
           "alignmentgroup": "True",
           "hovertemplate": "continent=%{x}<br>year_added=2011<br>cumsum=%{text}<extra></extra>",
           "legendgroup": "Asia",
           "marker": {
            "color": "#f53e31",
            "pattern": {
             "shape": ""
            }
           },
           "name": "Asia",
           "offsetgroup": "Asia",
           "orientation": "v",
           "showlegend": true,
           "text": [
            0
           ],
           "textposition": "auto",
           "type": "bar",
           "x": [
            "Asia"
           ],
           "xaxis": "x",
           "y": [
            0
           ],
           "yaxis": "y"
          },
          {
           "alignmentgroup": "True",
           "hovertemplate": "continent=%{x}<br>year_added=2011<br>cumsum=%{text}<extra></extra>",
           "legendgroup": "Australia",
           "marker": {
            "color": "#000000",
            "pattern": {
             "shape": ""
            }
           },
           "name": "Australia",
           "offsetgroup": "Australia",
           "orientation": "v",
           "showlegend": true,
           "text": [
            0
           ],
           "textposition": "auto",
           "type": "bar",
           "x": [
            "Australia"
           ],
           "xaxis": "x",
           "y": [
            0
           ],
           "yaxis": "y"
          },
          {
           "alignmentgroup": "True",
           "hovertemplate": "continent=%{x}<br>year_added=2011<br>cumsum=%{text}<extra></extra>",
           "legendgroup": "Europe",
           "marker": {
            "color": "#f53e31",
            "pattern": {
             "shape": ""
            }
           },
           "name": "Europe",
           "offsetgroup": "Europe",
           "orientation": "v",
           "showlegend": true,
           "text": [
            5
           ],
           "textposition": "auto",
           "type": "bar",
           "x": [
            "Europe"
           ],
           "xaxis": "x",
           "y": [
            5
           ],
           "yaxis": "y"
          },
          {
           "alignmentgroup": "True",
           "hovertemplate": "continent=%{x}<br>year_added=2011<br>cumsum=%{text}<extra></extra>",
           "legendgroup": "North America",
           "marker": {
            "color": "#db0000",
            "pattern": {
             "shape": ""
            }
           },
           "name": "North America",
           "offsetgroup": "North America",
           "orientation": "v",
           "showlegend": true,
           "text": [
            17
           ],
           "textposition": "auto",
           "type": "bar",
           "x": [
            "North America"
           ],
           "xaxis": "x",
           "y": [
            17
           ],
           "yaxis": "y"
          },
          {
           "alignmentgroup": "True",
           "hovertemplate": "continent=%{x}<br>year_added=2011<br>cumsum=%{text}<extra></extra>",
           "legendgroup": "South America",
           "marker": {
            "color": "#000000",
            "pattern": {
             "shape": ""
            }
           },
           "name": "South America",
           "offsetgroup": "South America",
           "orientation": "v",
           "showlegend": true,
           "text": [
            0
           ],
           "textposition": "auto",
           "type": "bar",
           "x": [
            "South America"
           ],
           "xaxis": "x",
           "y": [
            0
           ],
           "yaxis": "y"
          }
         ],
         "name": "2011"
        },
        {
         "data": [
          {
           "alignmentgroup": "True",
           "hovertemplate": "continent=%{x}<br>year_added=2012<br>cumsum=%{text}<extra></extra>",
           "legendgroup": "Africa",
           "marker": {
            "color": "#000000",
            "pattern": {
             "shape": ""
            }
           },
           "name": "Africa",
           "offsetgroup": "Africa",
           "orientation": "v",
           "showlegend": true,
           "text": [
            0
           ],
           "textposition": "auto",
           "type": "bar",
           "x": [
            "Africa"
           ],
           "xaxis": "x",
           "y": [
            0
           ],
           "yaxis": "y"
          },
          {
           "alignmentgroup": "True",
           "hovertemplate": "continent=%{x}<br>year_added=2012<br>cumsum=%{text}<extra></extra>",
           "legendgroup": "Asia",
           "marker": {
            "color": "#f53e31",
            "pattern": {
             "shape": ""
            }
           },
           "name": "Asia",
           "offsetgroup": "Asia",
           "orientation": "v",
           "showlegend": true,
           "text": [
            0
           ],
           "textposition": "auto",
           "type": "bar",
           "x": [
            "Asia"
           ],
           "xaxis": "x",
           "y": [
            0
           ],
           "yaxis": "y"
          },
          {
           "alignmentgroup": "True",
           "hovertemplate": "continent=%{x}<br>year_added=2012<br>cumsum=%{text}<extra></extra>",
           "legendgroup": "Australia",
           "marker": {
            "color": "#000000",
            "pattern": {
             "shape": ""
            }
           },
           "name": "Australia",
           "offsetgroup": "Australia",
           "orientation": "v",
           "showlegend": true,
           "text": [
            0
           ],
           "textposition": "auto",
           "type": "bar",
           "x": [
            "Australia"
           ],
           "xaxis": "x",
           "y": [
            0
           ],
           "yaxis": "y"
          },
          {
           "alignmentgroup": "True",
           "hovertemplate": "continent=%{x}<br>year_added=2012<br>cumsum=%{text}<extra></extra>",
           "legendgroup": "Europe",
           "marker": {
            "color": "#f53e31",
            "pattern": {
             "shape": ""
            }
           },
           "name": "Europe",
           "offsetgroup": "Europe",
           "orientation": "v",
           "showlegend": true,
           "text": [
            5
           ],
           "textposition": "auto",
           "type": "bar",
           "x": [
            "Europe"
           ],
           "xaxis": "x",
           "y": [
            5
           ],
           "yaxis": "y"
          },
          {
           "alignmentgroup": "True",
           "hovertemplate": "continent=%{x}<br>year_added=2012<br>cumsum=%{text}<extra></extra>",
           "legendgroup": "North America",
           "marker": {
            "color": "#db0000",
            "pattern": {
             "shape": ""
            }
           },
           "name": "North America",
           "offsetgroup": "North America",
           "orientation": "v",
           "showlegend": true,
           "text": [
            21
           ],
           "textposition": "auto",
           "type": "bar",
           "x": [
            "North America"
           ],
           "xaxis": "x",
           "y": [
            21
           ],
           "yaxis": "y"
          },
          {
           "alignmentgroup": "True",
           "hovertemplate": "continent=%{x}<br>year_added=2012<br>cumsum=%{text}<extra></extra>",
           "legendgroup": "South America",
           "marker": {
            "color": "#000000",
            "pattern": {
             "shape": ""
            }
           },
           "name": "South America",
           "offsetgroup": "South America",
           "orientation": "v",
           "showlegend": true,
           "text": [
            0
           ],
           "textposition": "auto",
           "type": "bar",
           "x": [
            "South America"
           ],
           "xaxis": "x",
           "y": [
            0
           ],
           "yaxis": "y"
          }
         ],
         "name": "2012"
        },
        {
         "data": [
          {
           "alignmentgroup": "True",
           "hovertemplate": "continent=%{x}<br>year_added=2013<br>cumsum=%{text}<extra></extra>",
           "legendgroup": "Africa",
           "marker": {
            "color": "#000000",
            "pattern": {
             "shape": ""
            }
           },
           "name": "Africa",
           "offsetgroup": "Africa",
           "orientation": "v",
           "showlegend": true,
           "text": [
            0
           ],
           "textposition": "auto",
           "type": "bar",
           "x": [
            "Africa"
           ],
           "xaxis": "x",
           "y": [
            0
           ],
           "yaxis": "y"
          },
          {
           "alignmentgroup": "True",
           "hovertemplate": "continent=%{x}<br>year_added=2013<br>cumsum=%{text}<extra></extra>",
           "legendgroup": "Asia",
           "marker": {
            "color": "#f53e31",
            "pattern": {
             "shape": ""
            }
           },
           "name": "Asia",
           "offsetgroup": "Asia",
           "orientation": "v",
           "showlegend": true,
           "text": [
            0
           ],
           "textposition": "auto",
           "type": "bar",
           "x": [
            "Asia"
           ],
           "xaxis": "x",
           "y": [
            0
           ],
           "yaxis": "y"
          },
          {
           "alignmentgroup": "True",
           "hovertemplate": "continent=%{x}<br>year_added=2013<br>cumsum=%{text}<extra></extra>",
           "legendgroup": "Australia",
           "marker": {
            "color": "#000000",
            "pattern": {
             "shape": ""
            }
           },
           "name": "Australia",
           "offsetgroup": "Australia",
           "orientation": "v",
           "showlegend": true,
           "text": [
            0
           ],
           "textposition": "auto",
           "type": "bar",
           "x": [
            "Australia"
           ],
           "xaxis": "x",
           "y": [
            0
           ],
           "yaxis": "y"
          },
          {
           "alignmentgroup": "True",
           "hovertemplate": "continent=%{x}<br>year_added=2013<br>cumsum=%{text}<extra></extra>",
           "legendgroup": "Europe",
           "marker": {
            "color": "#f53e31",
            "pattern": {
             "shape": ""
            }
           },
           "name": "Europe",
           "offsetgroup": "Europe",
           "orientation": "v",
           "showlegend": true,
           "text": [
            7
           ],
           "textposition": "auto",
           "type": "bar",
           "x": [
            "Europe"
           ],
           "xaxis": "x",
           "y": [
            7
           ],
           "yaxis": "y"
          },
          {
           "alignmentgroup": "True",
           "hovertemplate": "continent=%{x}<br>year_added=2013<br>cumsum=%{text}<extra></extra>",
           "legendgroup": "North America",
           "marker": {
            "color": "#db0000",
            "pattern": {
             "shape": ""
            }
           },
           "name": "North America",
           "offsetgroup": "North America",
           "orientation": "v",
           "showlegend": true,
           "text": [
            32
           ],
           "textposition": "auto",
           "type": "bar",
           "x": [
            "North America"
           ],
           "xaxis": "x",
           "y": [
            32
           ],
           "yaxis": "y"
          },
          {
           "alignmentgroup": "True",
           "hovertemplate": "continent=%{x}<br>year_added=2013<br>cumsum=%{text}<extra></extra>",
           "legendgroup": "South America",
           "marker": {
            "color": "#000000",
            "pattern": {
             "shape": ""
            }
           },
           "name": "South America",
           "offsetgroup": "South America",
           "orientation": "v",
           "showlegend": true,
           "text": [
            0
           ],
           "textposition": "auto",
           "type": "bar",
           "x": [
            "South America"
           ],
           "xaxis": "x",
           "y": [
            0
           ],
           "yaxis": "y"
          }
         ],
         "name": "2013"
        },
        {
         "data": [
          {
           "alignmentgroup": "True",
           "hovertemplate": "continent=%{x}<br>year_added=2014<br>cumsum=%{text}<extra></extra>",
           "legendgroup": "Africa",
           "marker": {
            "color": "#000000",
            "pattern": {
             "shape": ""
            }
           },
           "name": "Africa",
           "offsetgroup": "Africa",
           "orientation": "v",
           "showlegend": true,
           "text": [
            1
           ],
           "textposition": "auto",
           "type": "bar",
           "x": [
            "Africa"
           ],
           "xaxis": "x",
           "y": [
            1
           ],
           "yaxis": "y"
          },
          {
           "alignmentgroup": "True",
           "hovertemplate": "continent=%{x}<br>year_added=2014<br>cumsum=%{text}<extra></extra>",
           "legendgroup": "Asia",
           "marker": {
            "color": "#f53e31",
            "pattern": {
             "shape": ""
            }
           },
           "name": "Asia",
           "offsetgroup": "Asia",
           "orientation": "v",
           "showlegend": true,
           "text": [
            0
           ],
           "textposition": "auto",
           "type": "bar",
           "x": [
            "Asia"
           ],
           "xaxis": "x",
           "y": [
            0
           ],
           "yaxis": "y"
          },
          {
           "alignmentgroup": "True",
           "hovertemplate": "continent=%{x}<br>year_added=2014<br>cumsum=%{text}<extra></extra>",
           "legendgroup": "Australia",
           "marker": {
            "color": "#000000",
            "pattern": {
             "shape": ""
            }
           },
           "name": "Australia",
           "offsetgroup": "Australia",
           "orientation": "v",
           "showlegend": true,
           "text": [
            0
           ],
           "textposition": "auto",
           "type": "bar",
           "x": [
            "Australia"
           ],
           "xaxis": "x",
           "y": [
            0
           ],
           "yaxis": "y"
          },
          {
           "alignmentgroup": "True",
           "hovertemplate": "continent=%{x}<br>year_added=2014<br>cumsum=%{text}<extra></extra>",
           "legendgroup": "Europe",
           "marker": {
            "color": "#f53e31",
            "pattern": {
             "shape": ""
            }
           },
           "name": "Europe",
           "offsetgroup": "Europe",
           "orientation": "v",
           "showlegend": true,
           "text": [
            13
           ],
           "textposition": "auto",
           "type": "bar",
           "x": [
            "Europe"
           ],
           "xaxis": "x",
           "y": [
            13
           ],
           "yaxis": "y"
          },
          {
           "alignmentgroup": "True",
           "hovertemplate": "continent=%{x}<br>year_added=2014<br>cumsum=%{text}<extra></extra>",
           "legendgroup": "North America",
           "marker": {
            "color": "#db0000",
            "pattern": {
             "shape": ""
            }
           },
           "name": "North America",
           "offsetgroup": "North America",
           "orientation": "v",
           "showlegend": true,
           "text": [
            58
           ],
           "textposition": "auto",
           "type": "bar",
           "x": [
            "North America"
           ],
           "xaxis": "x",
           "y": [
            58
           ],
           "yaxis": "y"
          },
          {
           "alignmentgroup": "True",
           "hovertemplate": "continent=%{x}<br>year_added=2014<br>cumsum=%{text}<extra></extra>",
           "legendgroup": "South America",
           "marker": {
            "color": "#000000",
            "pattern": {
             "shape": ""
            }
           },
           "name": "South America",
           "offsetgroup": "South America",
           "orientation": "v",
           "showlegend": true,
           "text": [
            1
           ],
           "textposition": "auto",
           "type": "bar",
           "x": [
            "South America"
           ],
           "xaxis": "x",
           "y": [
            1
           ],
           "yaxis": "y"
          }
         ],
         "name": "2014"
        },
        {
         "data": [
          {
           "alignmentgroup": "True",
           "hovertemplate": "continent=%{x}<br>year_added=2015<br>cumsum=%{text}<extra></extra>",
           "legendgroup": "Africa",
           "marker": {
            "color": "#000000",
            "pattern": {
             "shape": ""
            }
           },
           "name": "Africa",
           "offsetgroup": "Africa",
           "orientation": "v",
           "showlegend": true,
           "text": [
            2
           ],
           "textposition": "auto",
           "type": "bar",
           "x": [
            "Africa"
           ],
           "xaxis": "x",
           "y": [
            2
           ],
           "yaxis": "y"
          },
          {
           "alignmentgroup": "True",
           "hovertemplate": "continent=%{x}<br>year_added=2015<br>cumsum=%{text}<extra></extra>",
           "legendgroup": "Asia",
           "marker": {
            "color": "#f53e31",
            "pattern": {
             "shape": ""
            }
           },
           "name": "Asia",
           "offsetgroup": "Asia",
           "orientation": "v",
           "showlegend": true,
           "text": [
            2
           ],
           "textposition": "auto",
           "type": "bar",
           "x": [
            "Asia"
           ],
           "xaxis": "x",
           "y": [
            2
           ],
           "yaxis": "y"
          },
          {
           "alignmentgroup": "True",
           "hovertemplate": "continent=%{x}<br>year_added=2015<br>cumsum=%{text}<extra></extra>",
           "legendgroup": "Australia",
           "marker": {
            "color": "#000000",
            "pattern": {
             "shape": ""
            }
           },
           "name": "Australia",
           "offsetgroup": "Australia",
           "orientation": "v",
           "showlegend": true,
           "text": [
            7
           ],
           "textposition": "auto",
           "type": "bar",
           "x": [
            "Australia"
           ],
           "xaxis": "x",
           "y": [
            7
           ],
           "yaxis": "y"
          },
          {
           "alignmentgroup": "True",
           "hovertemplate": "continent=%{x}<br>year_added=2015<br>cumsum=%{text}<extra></extra>",
           "legendgroup": "Europe",
           "marker": {
            "color": "#f53e31",
            "pattern": {
             "shape": ""
            }
           },
           "name": "Europe",
           "offsetgroup": "Europe",
           "orientation": "v",
           "showlegend": true,
           "text": [
            42
           ],
           "textposition": "auto",
           "type": "bar",
           "x": [
            "Europe"
           ],
           "xaxis": "x",
           "y": [
            42
           ],
           "yaxis": "y"
          },
          {
           "alignmentgroup": "True",
           "hovertemplate": "continent=%{x}<br>year_added=2015<br>cumsum=%{text}<extra></extra>",
           "legendgroup": "North America",
           "marker": {
            "color": "#db0000",
            "pattern": {
             "shape": ""
            }
           },
           "name": "North America",
           "offsetgroup": "North America",
           "orientation": "v",
           "showlegend": true,
           "text": [
            122
           ],
           "textposition": "auto",
           "type": "bar",
           "x": [
            "North America"
           ],
           "xaxis": "x",
           "y": [
            122
           ],
           "yaxis": "y"
          },
          {
           "alignmentgroup": "True",
           "hovertemplate": "continent=%{x}<br>year_added=2015<br>cumsum=%{text}<extra></extra>",
           "legendgroup": "South America",
           "marker": {
            "color": "#000000",
            "pattern": {
             "shape": ""
            }
           },
           "name": "South America",
           "offsetgroup": "South America",
           "orientation": "v",
           "showlegend": true,
           "text": [
            1
           ],
           "textposition": "auto",
           "type": "bar",
           "x": [
            "South America"
           ],
           "xaxis": "x",
           "y": [
            1
           ],
           "yaxis": "y"
          }
         ],
         "name": "2015"
        },
        {
         "data": [
          {
           "alignmentgroup": "True",
           "hovertemplate": "continent=%{x}<br>year_added=2016<br>cumsum=%{text}<extra></extra>",
           "legendgroup": "Africa",
           "marker": {
            "color": "#000000",
            "pattern": {
             "shape": ""
            }
           },
           "name": "Africa",
           "offsetgroup": "Africa",
           "orientation": "v",
           "showlegend": true,
           "text": [
            6
           ],
           "textposition": "auto",
           "type": "bar",
           "x": [
            "Africa"
           ],
           "xaxis": "x",
           "y": [
            6
           ],
           "yaxis": "y"
          },
          {
           "alignmentgroup": "True",
           "hovertemplate": "continent=%{x}<br>year_added=2016<br>cumsum=%{text}<extra></extra>",
           "legendgroup": "Asia",
           "marker": {
            "color": "#f53e31",
            "pattern": {
             "shape": ""
            }
           },
           "name": "Asia",
           "offsetgroup": "Asia",
           "orientation": "v",
           "showlegend": true,
           "text": [
            109
           ],
           "textposition": "auto",
           "type": "bar",
           "x": [
            "Asia"
           ],
           "xaxis": "x",
           "y": [
            109
           ],
           "yaxis": "y"
          },
          {
           "alignmentgroup": "True",
           "hovertemplate": "continent=%{x}<br>year_added=2016<br>cumsum=%{text}<extra></extra>",
           "legendgroup": "Australia",
           "marker": {
            "color": "#000000",
            "pattern": {
             "shape": ""
            }
           },
           "name": "Australia",
           "offsetgroup": "Australia",
           "orientation": "v",
           "showlegend": true,
           "text": [
            19
           ],
           "textposition": "auto",
           "type": "bar",
           "x": [
            "Australia"
           ],
           "xaxis": "x",
           "y": [
            19
           ],
           "yaxis": "y"
          },
          {
           "alignmentgroup": "True",
           "hovertemplate": "continent=%{x}<br>year_added=2016<br>cumsum=%{text}<extra></extra>",
           "legendgroup": "Europe",
           "marker": {
            "color": "#f53e31",
            "pattern": {
             "shape": ""
            }
           },
           "name": "Europe",
           "offsetgroup": "Europe",
           "orientation": "v",
           "showlegend": true,
           "text": [
            203
           ],
           "textposition": "auto",
           "type": "bar",
           "x": [
            "Europe"
           ],
           "xaxis": "x",
           "y": [
            203
           ],
           "yaxis": "y"
          },
          {
           "alignmentgroup": "True",
           "hovertemplate": "continent=%{x}<br>year_added=2016<br>cumsum=%{text}<extra></extra>",
           "legendgroup": "North America",
           "marker": {
            "color": "#db0000",
            "pattern": {
             "shape": ""
            }
           },
           "name": "North America",
           "offsetgroup": "North America",
           "orientation": "v",
           "showlegend": true,
           "text": [
            365
           ],
           "textposition": "auto",
           "type": "bar",
           "x": [
            "North America"
           ],
           "xaxis": "x",
           "y": [
            365
           ],
           "yaxis": "y"
          },
          {
           "alignmentgroup": "True",
           "hovertemplate": "continent=%{x}<br>year_added=2016<br>cumsum=%{text}<extra></extra>",
           "legendgroup": "South America",
           "marker": {
            "color": "#000000",
            "pattern": {
             "shape": ""
            }
           },
           "name": "South America",
           "offsetgroup": "South America",
           "orientation": "v",
           "showlegend": true,
           "text": [
            13
           ],
           "textposition": "auto",
           "type": "bar",
           "x": [
            "South America"
           ],
           "xaxis": "x",
           "y": [
            13
           ],
           "yaxis": "y"
          }
         ],
         "name": "2016"
        },
        {
         "data": [
          {
           "alignmentgroup": "True",
           "hovertemplate": "continent=%{x}<br>year_added=2017<br>cumsum=%{text}<extra></extra>",
           "legendgroup": "Africa",
           "marker": {
            "color": "#000000",
            "pattern": {
             "shape": ""
            }
           },
           "name": "Africa",
           "offsetgroup": "Africa",
           "orientation": "v",
           "showlegend": true,
           "text": [
            14
           ],
           "textposition": "auto",
           "type": "bar",
           "x": [
            "Africa"
           ],
           "xaxis": "x",
           "y": [
            14
           ],
           "yaxis": "y"
          },
          {
           "alignmentgroup": "True",
           "hovertemplate": "continent=%{x}<br>year_added=2017<br>cumsum=%{text}<extra></extra>",
           "legendgroup": "Asia",
           "marker": {
            "color": "#f53e31",
            "pattern": {
             "shape": ""
            }
           },
           "name": "Asia",
           "offsetgroup": "Asia",
           "orientation": "v",
           "showlegend": true,
           "text": [
            491
           ],
           "textposition": "auto",
           "type": "bar",
           "x": [
            "Asia"
           ],
           "xaxis": "x",
           "y": [
            491
           ],
           "yaxis": "y"
          },
          {
           "alignmentgroup": "True",
           "hovertemplate": "continent=%{x}<br>year_added=2017<br>cumsum=%{text}<extra></extra>",
           "legendgroup": "Australia",
           "marker": {
            "color": "#000000",
            "pattern": {
             "shape": ""
            }
           },
           "name": "Australia",
           "offsetgroup": "Australia",
           "orientation": "v",
           "showlegend": true,
           "text": [
            47
           ],
           "textposition": "auto",
           "type": "bar",
           "x": [
            "Australia"
           ],
           "xaxis": "x",
           "y": [
            47
           ],
           "yaxis": "y"
          },
          {
           "alignmentgroup": "True",
           "hovertemplate": "continent=%{x}<br>year_added=2017<br>cumsum=%{text}<extra></extra>",
           "legendgroup": "Europe",
           "marker": {
            "color": "#f53e31",
            "pattern": {
             "shape": ""
            }
           },
           "name": "Europe",
           "offsetgroup": "Europe",
           "orientation": "v",
           "showlegend": true,
           "text": [
            572
           ],
           "textposition": "auto",
           "type": "bar",
           "x": [
            "Europe"
           ],
           "xaxis": "x",
           "y": [
            572
           ],
           "yaxis": "y"
          },
          {
           "alignmentgroup": "True",
           "hovertemplate": "continent=%{x}<br>year_added=2017<br>cumsum=%{text}<extra></extra>",
           "legendgroup": "North America",
           "marker": {
            "color": "#db0000",
            "pattern": {
             "shape": ""
            }
           },
           "name": "North America",
           "offsetgroup": "North America",
           "orientation": "v",
           "showlegend": true,
           "text": [
            936
           ],
           "textposition": "auto",
           "type": "bar",
           "x": [
            "North America"
           ],
           "xaxis": "x",
           "y": [
            936
           ],
           "yaxis": "y"
          },
          {
           "alignmentgroup": "True",
           "hovertemplate": "continent=%{x}<br>year_added=2017<br>cumsum=%{text}<extra></extra>",
           "legendgroup": "South America",
           "marker": {
            "color": "#000000",
            "pattern": {
             "shape": ""
            }
           },
           "name": "South America",
           "offsetgroup": "South America",
           "orientation": "v",
           "showlegend": true,
           "text": [
            64
           ],
           "textposition": "auto",
           "type": "bar",
           "x": [
            "South America"
           ],
           "xaxis": "x",
           "y": [
            64
           ],
           "yaxis": "y"
          }
         ],
         "name": "2017"
        },
        {
         "data": [
          {
           "alignmentgroup": "True",
           "hovertemplate": "continent=%{x}<br>year_added=2018<br>cumsum=%{text}<extra></extra>",
           "legendgroup": "Africa",
           "marker": {
            "color": "#000000",
            "pattern": {
             "shape": ""
            }
           },
           "name": "Africa",
           "offsetgroup": "Africa",
           "orientation": "v",
           "showlegend": true,
           "text": [
            39
           ],
           "textposition": "auto",
           "type": "bar",
           "x": [
            "Africa"
           ],
           "xaxis": "x",
           "y": [
            39
           ],
           "yaxis": "y"
          },
          {
           "alignmentgroup": "True",
           "hovertemplate": "continent=%{x}<br>year_added=2018<br>cumsum=%{text}<extra></extra>",
           "legendgroup": "Asia",
           "marker": {
            "color": "#f53e31",
            "pattern": {
             "shape": ""
            }
           },
           "name": "Asia",
           "offsetgroup": "Asia",
           "orientation": "v",
           "showlegend": true,
           "text": [
            1141
           ],
           "textposition": "auto",
           "type": "bar",
           "x": [
            "Asia"
           ],
           "xaxis": "x",
           "y": [
            1141
           ],
           "yaxis": "y"
          },
          {
           "alignmentgroup": "True",
           "hovertemplate": "continent=%{x}<br>year_added=2018<br>cumsum=%{text}<extra></extra>",
           "legendgroup": "Australia",
           "marker": {
            "color": "#000000",
            "pattern": {
             "shape": ""
            }
           },
           "name": "Australia",
           "offsetgroup": "Australia",
           "orientation": "v",
           "showlegend": true,
           "text": [
            92
           ],
           "textposition": "auto",
           "type": "bar",
           "x": [
            "Australia"
           ],
           "xaxis": "x",
           "y": [
            92
           ],
           "yaxis": "y"
          },
          {
           "alignmentgroup": "True",
           "hovertemplate": "continent=%{x}<br>year_added=2018<br>cumsum=%{text}<extra></extra>",
           "legendgroup": "Europe",
           "marker": {
            "color": "#f53e31",
            "pattern": {
             "shape": ""
            }
           },
           "name": "Europe",
           "offsetgroup": "Europe",
           "orientation": "v",
           "showlegend": true,
           "text": [
            982
           ],
           "textposition": "auto",
           "type": "bar",
           "x": [
            "Europe"
           ],
           "xaxis": "x",
           "y": [
            982
           ],
           "yaxis": "y"
          },
          {
           "alignmentgroup": "True",
           "hovertemplate": "continent=%{x}<br>year_added=2018<br>cumsum=%{text}<extra></extra>",
           "legendgroup": "North America",
           "marker": {
            "color": "#db0000",
            "pattern": {
             "shape": ""
            }
           },
           "name": "North America",
           "offsetgroup": "North America",
           "orientation": "v",
           "showlegend": true,
           "text": [
            1651
           ],
           "textposition": "auto",
           "type": "bar",
           "x": [
            "North America"
           ],
           "xaxis": "x",
           "y": [
            1651
           ],
           "yaxis": "y"
          },
          {
           "alignmentgroup": "True",
           "hovertemplate": "continent=%{x}<br>year_added=2018<br>cumsum=%{text}<extra></extra>",
           "legendgroup": "South America",
           "marker": {
            "color": "#000000",
            "pattern": {
             "shape": ""
            }
           },
           "name": "South America",
           "offsetgroup": "South America",
           "orientation": "v",
           "showlegend": true,
           "text": [
            138
           ],
           "textposition": "auto",
           "type": "bar",
           "x": [
            "South America"
           ],
           "xaxis": "x",
           "y": [
            138
           ],
           "yaxis": "y"
          }
         ],
         "name": "2018"
        },
        {
         "data": [
          {
           "alignmentgroup": "True",
           "hovertemplate": "continent=%{x}<br>year_added=2019<br>cumsum=%{text}<extra></extra>",
           "legendgroup": "Africa",
           "marker": {
            "color": "#000000",
            "pattern": {
             "shape": ""
            }
           },
           "name": "Africa",
           "offsetgroup": "Africa",
           "orientation": "v",
           "showlegend": true,
           "text": [
            137
           ],
           "textposition": "auto",
           "type": "bar",
           "x": [
            "Africa"
           ],
           "xaxis": "x",
           "y": [
            137
           ],
           "yaxis": "y"
          },
          {
           "alignmentgroup": "True",
           "hovertemplate": "continent=%{x}<br>year_added=2019<br>cumsum=%{text}<extra></extra>",
           "legendgroup": "Asia",
           "marker": {
            "color": "#f53e31",
            "pattern": {
             "shape": ""
            }
           },
           "name": "Asia",
           "offsetgroup": "Asia",
           "orientation": "v",
           "showlegend": true,
           "text": [
            1726
           ],
           "textposition": "auto",
           "type": "bar",
           "x": [
            "Asia"
           ],
           "xaxis": "x",
           "y": [
            1726
           ],
           "yaxis": "y"
          },
          {
           "alignmentgroup": "True",
           "hovertemplate": "continent=%{x}<br>year_added=2019<br>cumsum=%{text}<extra></extra>",
           "legendgroup": "Australia",
           "marker": {
            "color": "#000000",
            "pattern": {
             "shape": ""
            }
           },
           "name": "Australia",
           "offsetgroup": "Australia",
           "orientation": "v",
           "showlegend": true,
           "text": [
            131
           ],
           "textposition": "auto",
           "type": "bar",
           "x": [
            "Australia"
           ],
           "xaxis": "x",
           "y": [
            131
           ],
           "yaxis": "y"
          },
          {
           "alignmentgroup": "True",
           "hovertemplate": "continent=%{x}<br>year_added=2019<br>cumsum=%{text}<extra></extra>",
           "legendgroup": "Europe",
           "marker": {
            "color": "#f53e31",
            "pattern": {
             "shape": ""
            }
           },
           "name": "Europe",
           "offsetgroup": "Europe",
           "orientation": "v",
           "showlegend": true,
           "text": [
            1480
           ],
           "textposition": "auto",
           "type": "bar",
           "x": [
            "Europe"
           ],
           "xaxis": "x",
           "y": [
            1480
           ],
           "yaxis": "y"
          },
          {
           "alignmentgroup": "True",
           "hovertemplate": "continent=%{x}<br>year_added=2019<br>cumsum=%{text}<extra></extra>",
           "legendgroup": "North America",
           "marker": {
            "color": "#db0000",
            "pattern": {
             "shape": ""
            }
           },
           "name": "North America",
           "offsetgroup": "North America",
           "orientation": "v",
           "showlegend": true,
           "text": [
            2631
           ],
           "textposition": "auto",
           "type": "bar",
           "x": [
            "North America"
           ],
           "xaxis": "x",
           "y": [
            2631
           ],
           "yaxis": "y"
          },
          {
           "alignmentgroup": "True",
           "hovertemplate": "continent=%{x}<br>year_added=2019<br>cumsum=%{text}<extra></extra>",
           "legendgroup": "South America",
           "marker": {
            "color": "#000000",
            "pattern": {
             "shape": ""
            }
           },
           "name": "South America",
           "offsetgroup": "South America",
           "orientation": "v",
           "showlegend": true,
           "text": [
            200
           ],
           "textposition": "auto",
           "type": "bar",
           "x": [
            "South America"
           ],
           "xaxis": "x",
           "y": [
            200
           ],
           "yaxis": "y"
          }
         ],
         "name": "2019"
        },
        {
         "data": [
          {
           "alignmentgroup": "True",
           "hovertemplate": "continent=%{x}<br>year_added=2020<br>cumsum=%{text}<extra></extra>",
           "legendgroup": "Africa",
           "marker": {
            "color": "#000000",
            "pattern": {
             "shape": ""
            }
           },
           "name": "Africa",
           "offsetgroup": "Africa",
           "orientation": "v",
           "showlegend": true,
           "text": [
            268
           ],
           "textposition": "auto",
           "type": "bar",
           "x": [
            "Africa"
           ],
           "xaxis": "x",
           "y": [
            268
           ],
           "yaxis": "y"
          },
          {
           "alignmentgroup": "True",
           "hovertemplate": "continent=%{x}<br>year_added=2020<br>cumsum=%{text}<extra></extra>",
           "legendgroup": "Asia",
           "marker": {
            "color": "#f53e31",
            "pattern": {
             "shape": ""
            }
           },
           "name": "Asia",
           "offsetgroup": "Asia",
           "orientation": "v",
           "showlegend": true,
           "text": [
            2263
           ],
           "textposition": "auto",
           "type": "bar",
           "x": [
            "Asia"
           ],
           "xaxis": "x",
           "y": [
            2263
           ],
           "yaxis": "y"
          },
          {
           "alignmentgroup": "True",
           "hovertemplate": "continent=%{x}<br>year_added=2020<br>cumsum=%{text}<extra></extra>",
           "legendgroup": "Australia",
           "marker": {
            "color": "#000000",
            "pattern": {
             "shape": ""
            }
           },
           "name": "Australia",
           "offsetgroup": "Australia",
           "orientation": "v",
           "showlegend": true,
           "text": [
            165
           ],
           "textposition": "auto",
           "type": "bar",
           "x": [
            "Australia"
           ],
           "xaxis": "x",
           "y": [
            165
           ],
           "yaxis": "y"
          },
          {
           "alignmentgroup": "True",
           "hovertemplate": "continent=%{x}<br>year_added=2020<br>cumsum=%{text}<extra></extra>",
           "legendgroup": "Europe",
           "marker": {
            "color": "#f53e31",
            "pattern": {
             "shape": ""
            }
           },
           "name": "Europe",
           "offsetgroup": "Europe",
           "orientation": "v",
           "showlegend": true,
           "text": [
            1972
           ],
           "textposition": "auto",
           "type": "bar",
           "x": [
            "Europe"
           ],
           "xaxis": "x",
           "y": [
            1972
           ],
           "yaxis": "y"
          },
          {
           "alignmentgroup": "True",
           "hovertemplate": "continent=%{x}<br>year_added=2020<br>cumsum=%{text}<extra></extra>",
           "legendgroup": "North America",
           "marker": {
            "color": "#db0000",
            "pattern": {
             "shape": ""
            }
           },
           "name": "North America",
           "offsetgroup": "North America",
           "orientation": "v",
           "showlegend": true,
           "text": [
            3602
           ],
           "textposition": "auto",
           "type": "bar",
           "x": [
            "North America"
           ],
           "xaxis": "x",
           "y": [
            3602
           ],
           "yaxis": "y"
          },
          {
           "alignmentgroup": "True",
           "hovertemplate": "continent=%{x}<br>year_added=2020<br>cumsum=%{text}<extra></extra>",
           "legendgroup": "South America",
           "marker": {
            "color": "#000000",
            "pattern": {
             "shape": ""
            }
           },
           "name": "South America",
           "offsetgroup": "South America",
           "orientation": "v",
           "showlegend": true,
           "text": [
            262
           ],
           "textposition": "auto",
           "type": "bar",
           "x": [
            "South America"
           ],
           "xaxis": "x",
           "y": [
            262
           ],
           "yaxis": "y"
          }
         ],
         "name": "2020"
        },
        {
         "data": [
          {
           "alignmentgroup": "True",
           "hovertemplate": "continent=%{x}<br>year_added=2021<br>cumsum=%{text}<extra></extra>",
           "legendgroup": "Africa",
           "marker": {
            "color": "#000000",
            "pattern": {
             "shape": ""
            }
           },
           "name": "Africa",
           "offsetgroup": "Africa",
           "orientation": "v",
           "showlegend": true,
           "text": [
            319
           ],
           "textposition": "auto",
           "type": "bar",
           "x": [
            "Africa"
           ],
           "xaxis": "x",
           "y": [
            319
           ],
           "yaxis": "y"
          },
          {
           "alignmentgroup": "True",
           "hovertemplate": "continent=%{x}<br>year_added=2021<br>cumsum=%{text}<extra></extra>",
           "legendgroup": "Asia",
           "marker": {
            "color": "#f53e31",
            "pattern": {
             "shape": ""
            }
           },
           "name": "Asia",
           "offsetgroup": "Asia",
           "orientation": "v",
           "showlegend": true,
           "text": [
            2572
           ],
           "textposition": "auto",
           "type": "bar",
           "x": [
            "Asia"
           ],
           "xaxis": "x",
           "y": [
            2572
           ],
           "yaxis": "y"
          },
          {
           "alignmentgroup": "True",
           "hovertemplate": "continent=%{x}<br>year_added=2021<br>cumsum=%{text}<extra></extra>",
           "legendgroup": "Australia",
           "marker": {
            "color": "#000000",
            "pattern": {
             "shape": ""
            }
           },
           "name": "Australia",
           "offsetgroup": "Australia",
           "orientation": "v",
           "showlegend": true,
           "text": [
            195
           ],
           "textposition": "auto",
           "type": "bar",
           "x": [
            "Australia"
           ],
           "xaxis": "x",
           "y": [
            195
           ],
           "yaxis": "y"
          },
          {
           "alignmentgroup": "True",
           "hovertemplate": "continent=%{x}<br>year_added=2021<br>cumsum=%{text}<extra></extra>",
           "legendgroup": "Europe",
           "marker": {
            "color": "#f53e31",
            "pattern": {
             "shape": ""
            }
           },
           "name": "Europe",
           "offsetgroup": "Europe",
           "orientation": "v",
           "showlegend": true,
           "text": [
            2307
           ],
           "textposition": "auto",
           "type": "bar",
           "x": [
            "Europe"
           ],
           "xaxis": "x",
           "y": [
            2307
           ],
           "yaxis": "y"
          },
          {
           "alignmentgroup": "True",
           "hovertemplate": "continent=%{x}<br>year_added=2021<br>cumsum=%{text}<extra></extra>",
           "legendgroup": "North America",
           "marker": {
            "color": "#db0000",
            "pattern": {
             "shape": ""
            }
           },
           "name": "North America",
           "offsetgroup": "North America",
           "orientation": "v",
           "showlegend": true,
           "text": [
            4310
           ],
           "textposition": "auto",
           "type": "bar",
           "x": [
            "North America"
           ],
           "xaxis": "x",
           "y": [
            4310
           ],
           "yaxis": "y"
          },
          {
           "alignmentgroup": "True",
           "hovertemplate": "continent=%{x}<br>year_added=2021<br>cumsum=%{text}<extra></extra>",
           "legendgroup": "South America",
           "marker": {
            "color": "#000000",
            "pattern": {
             "shape": ""
            }
           },
           "name": "South America",
           "offsetgroup": "South America",
           "orientation": "v",
           "showlegend": true,
           "text": [
            299
           ],
           "textposition": "auto",
           "type": "bar",
           "x": [
            "South America"
           ],
           "xaxis": "x",
           "y": [
            299
           ],
           "yaxis": "y"
          }
         ],
         "name": "2021"
        }
       ],
       "layout": {
        "barmode": "relative",
        "legend": {
         "title": {
          "text": "continent"
         },
         "tracegroupgap": 0
        },
        "margin": {
         "t": 60
        },
        "plot_bgcolor": "#f0e0df",
        "showlegend": false,
        "sliders": [
         {
          "active": 0,
          "currentvalue": {
           "prefix": "year_added="
          },
          "len": 0.9,
          "pad": {
           "b": 10,
           "t": 60
          },
          "steps": [
           {
            "args": [
             [
              "2008"
             ],
             {
              "frame": {
               "duration": 0,
               "redraw": true
              },
              "fromcurrent": true,
              "mode": "immediate",
              "transition": {
               "duration": 0,
               "easing": "linear"
              }
             }
            ],
            "label": "2008",
            "method": "animate"
           },
           {
            "args": [
             [
              "2009"
             ],
             {
              "frame": {
               "duration": 0,
               "redraw": true
              },
              "fromcurrent": true,
              "mode": "immediate",
              "transition": {
               "duration": 0,
               "easing": "linear"
              }
             }
            ],
            "label": "2009",
            "method": "animate"
           },
           {
            "args": [
             [
              "2010"
             ],
             {
              "frame": {
               "duration": 0,
               "redraw": true
              },
              "fromcurrent": true,
              "mode": "immediate",
              "transition": {
               "duration": 0,
               "easing": "linear"
              }
             }
            ],
            "label": "2010",
            "method": "animate"
           },
           {
            "args": [
             [
              "2011"
             ],
             {
              "frame": {
               "duration": 0,
               "redraw": true
              },
              "fromcurrent": true,
              "mode": "immediate",
              "transition": {
               "duration": 0,
               "easing": "linear"
              }
             }
            ],
            "label": "2011",
            "method": "animate"
           },
           {
            "args": [
             [
              "2012"
             ],
             {
              "frame": {
               "duration": 0,
               "redraw": true
              },
              "fromcurrent": true,
              "mode": "immediate",
              "transition": {
               "duration": 0,
               "easing": "linear"
              }
             }
            ],
            "label": "2012",
            "method": "animate"
           },
           {
            "args": [
             [
              "2013"
             ],
             {
              "frame": {
               "duration": 0,
               "redraw": true
              },
              "fromcurrent": true,
              "mode": "immediate",
              "transition": {
               "duration": 0,
               "easing": "linear"
              }
             }
            ],
            "label": "2013",
            "method": "animate"
           },
           {
            "args": [
             [
              "2014"
             ],
             {
              "frame": {
               "duration": 0,
               "redraw": true
              },
              "fromcurrent": true,
              "mode": "immediate",
              "transition": {
               "duration": 0,
               "easing": "linear"
              }
             }
            ],
            "label": "2014",
            "method": "animate"
           },
           {
            "args": [
             [
              "2015"
             ],
             {
              "frame": {
               "duration": 0,
               "redraw": true
              },
              "fromcurrent": true,
              "mode": "immediate",
              "transition": {
               "duration": 0,
               "easing": "linear"
              }
             }
            ],
            "label": "2015",
            "method": "animate"
           },
           {
            "args": [
             [
              "2016"
             ],
             {
              "frame": {
               "duration": 0,
               "redraw": true
              },
              "fromcurrent": true,
              "mode": "immediate",
              "transition": {
               "duration": 0,
               "easing": "linear"
              }
             }
            ],
            "label": "2016",
            "method": "animate"
           },
           {
            "args": [
             [
              "2017"
             ],
             {
              "frame": {
               "duration": 0,
               "redraw": true
              },
              "fromcurrent": true,
              "mode": "immediate",
              "transition": {
               "duration": 0,
               "easing": "linear"
              }
             }
            ],
            "label": "2017",
            "method": "animate"
           },
           {
            "args": [
             [
              "2018"
             ],
             {
              "frame": {
               "duration": 0,
               "redraw": true
              },
              "fromcurrent": true,
              "mode": "immediate",
              "transition": {
               "duration": 0,
               "easing": "linear"
              }
             }
            ],
            "label": "2018",
            "method": "animate"
           },
           {
            "args": [
             [
              "2019"
             ],
             {
              "frame": {
               "duration": 0,
               "redraw": true
              },
              "fromcurrent": true,
              "mode": "immediate",
              "transition": {
               "duration": 0,
               "easing": "linear"
              }
             }
            ],
            "label": "2019",
            "method": "animate"
           },
           {
            "args": [
             [
              "2020"
             ],
             {
              "frame": {
               "duration": 0,
               "redraw": true
              },
              "fromcurrent": true,
              "mode": "immediate",
              "transition": {
               "duration": 0,
               "easing": "linear"
              }
             }
            ],
            "label": "2020",
            "method": "animate"
           },
           {
            "args": [
             [
              "2021"
             ],
             {
              "frame": {
               "duration": 0,
               "redraw": true
              },
              "fromcurrent": true,
              "mode": "immediate",
              "transition": {
               "duration": 0,
               "easing": "linear"
              }
             }
            ],
            "label": "2021",
            "method": "animate"
           }
          ],
          "x": 0.1,
          "xanchor": "left",
          "y": 0,
          "yanchor": "top"
         }
        ],
        "template": {
         "data": {
          "bar": [
           {
            "error_x": {
             "color": "#2a3f5f"
            },
            "error_y": {
             "color": "#2a3f5f"
            },
            "marker": {
             "line": {
              "color": "#E5ECF6",
              "width": 0.5
             },
             "pattern": {
              "fillmode": "overlay",
              "size": 10,
              "solidity": 0.2
             }
            },
            "type": "bar"
           }
          ],
          "barpolar": [
           {
            "marker": {
             "line": {
              "color": "#E5ECF6",
              "width": 0.5
             },
             "pattern": {
              "fillmode": "overlay",
              "size": 10,
              "solidity": 0.2
             }
            },
            "type": "barpolar"
           }
          ],
          "carpet": [
           {
            "aaxis": {
             "endlinecolor": "#2a3f5f",
             "gridcolor": "white",
             "linecolor": "white",
             "minorgridcolor": "white",
             "startlinecolor": "#2a3f5f"
            },
            "baxis": {
             "endlinecolor": "#2a3f5f",
             "gridcolor": "white",
             "linecolor": "white",
             "minorgridcolor": "white",
             "startlinecolor": "#2a3f5f"
            },
            "type": "carpet"
           }
          ],
          "choropleth": [
           {
            "colorbar": {
             "outlinewidth": 0,
             "ticks": ""
            },
            "type": "choropleth"
           }
          ],
          "contour": [
           {
            "colorbar": {
             "outlinewidth": 0,
             "ticks": ""
            },
            "colorscale": [
             [
              0,
              "#0d0887"
             ],
             [
              0.1111111111111111,
              "#46039f"
             ],
             [
              0.2222222222222222,
              "#7201a8"
             ],
             [
              0.3333333333333333,
              "#9c179e"
             ],
             [
              0.4444444444444444,
              "#bd3786"
             ],
             [
              0.5555555555555556,
              "#d8576b"
             ],
             [
              0.6666666666666666,
              "#ed7953"
             ],
             [
              0.7777777777777778,
              "#fb9f3a"
             ],
             [
              0.8888888888888888,
              "#fdca26"
             ],
             [
              1,
              "#f0f921"
             ]
            ],
            "type": "contour"
           }
          ],
          "contourcarpet": [
           {
            "colorbar": {
             "outlinewidth": 0,
             "ticks": ""
            },
            "type": "contourcarpet"
           }
          ],
          "heatmap": [
           {
            "colorbar": {
             "outlinewidth": 0,
             "ticks": ""
            },
            "colorscale": [
             [
              0,
              "#0d0887"
             ],
             [
              0.1111111111111111,
              "#46039f"
             ],
             [
              0.2222222222222222,
              "#7201a8"
             ],
             [
              0.3333333333333333,
              "#9c179e"
             ],
             [
              0.4444444444444444,
              "#bd3786"
             ],
             [
              0.5555555555555556,
              "#d8576b"
             ],
             [
              0.6666666666666666,
              "#ed7953"
             ],
             [
              0.7777777777777778,
              "#fb9f3a"
             ],
             [
              0.8888888888888888,
              "#fdca26"
             ],
             [
              1,
              "#f0f921"
             ]
            ],
            "type": "heatmap"
           }
          ],
          "heatmapgl": [
           {
            "colorbar": {
             "outlinewidth": 0,
             "ticks": ""
            },
            "colorscale": [
             [
              0,
              "#0d0887"
             ],
             [
              0.1111111111111111,
              "#46039f"
             ],
             [
              0.2222222222222222,
              "#7201a8"
             ],
             [
              0.3333333333333333,
              "#9c179e"
             ],
             [
              0.4444444444444444,
              "#bd3786"
             ],
             [
              0.5555555555555556,
              "#d8576b"
             ],
             [
              0.6666666666666666,
              "#ed7953"
             ],
             [
              0.7777777777777778,
              "#fb9f3a"
             ],
             [
              0.8888888888888888,
              "#fdca26"
             ],
             [
              1,
              "#f0f921"
             ]
            ],
            "type": "heatmapgl"
           }
          ],
          "histogram": [
           {
            "marker": {
             "pattern": {
              "fillmode": "overlay",
              "size": 10,
              "solidity": 0.2
             }
            },
            "type": "histogram"
           }
          ],
          "histogram2d": [
           {
            "colorbar": {
             "outlinewidth": 0,
             "ticks": ""
            },
            "colorscale": [
             [
              0,
              "#0d0887"
             ],
             [
              0.1111111111111111,
              "#46039f"
             ],
             [
              0.2222222222222222,
              "#7201a8"
             ],
             [
              0.3333333333333333,
              "#9c179e"
             ],
             [
              0.4444444444444444,
              "#bd3786"
             ],
             [
              0.5555555555555556,
              "#d8576b"
             ],
             [
              0.6666666666666666,
              "#ed7953"
             ],
             [
              0.7777777777777778,
              "#fb9f3a"
             ],
             [
              0.8888888888888888,
              "#fdca26"
             ],
             [
              1,
              "#f0f921"
             ]
            ],
            "type": "histogram2d"
           }
          ],
          "histogram2dcontour": [
           {
            "colorbar": {
             "outlinewidth": 0,
             "ticks": ""
            },
            "colorscale": [
             [
              0,
              "#0d0887"
             ],
             [
              0.1111111111111111,
              "#46039f"
             ],
             [
              0.2222222222222222,
              "#7201a8"
             ],
             [
              0.3333333333333333,
              "#9c179e"
             ],
             [
              0.4444444444444444,
              "#bd3786"
             ],
             [
              0.5555555555555556,
              "#d8576b"
             ],
             [
              0.6666666666666666,
              "#ed7953"
             ],
             [
              0.7777777777777778,
              "#fb9f3a"
             ],
             [
              0.8888888888888888,
              "#fdca26"
             ],
             [
              1,
              "#f0f921"
             ]
            ],
            "type": "histogram2dcontour"
           }
          ],
          "mesh3d": [
           {
            "colorbar": {
             "outlinewidth": 0,
             "ticks": ""
            },
            "type": "mesh3d"
           }
          ],
          "parcoords": [
           {
            "line": {
             "colorbar": {
              "outlinewidth": 0,
              "ticks": ""
             }
            },
            "type": "parcoords"
           }
          ],
          "pie": [
           {
            "automargin": true,
            "type": "pie"
           }
          ],
          "scatter": [
           {
            "fillpattern": {
             "fillmode": "overlay",
             "size": 10,
             "solidity": 0.2
            },
            "type": "scatter"
           }
          ],
          "scatter3d": [
           {
            "line": {
             "colorbar": {
              "outlinewidth": 0,
              "ticks": ""
             }
            },
            "marker": {
             "colorbar": {
              "outlinewidth": 0,
              "ticks": ""
             }
            },
            "type": "scatter3d"
           }
          ],
          "scattercarpet": [
           {
            "marker": {
             "colorbar": {
              "outlinewidth": 0,
              "ticks": ""
             }
            },
            "type": "scattercarpet"
           }
          ],
          "scattergeo": [
           {
            "marker": {
             "colorbar": {
              "outlinewidth": 0,
              "ticks": ""
             }
            },
            "type": "scattergeo"
           }
          ],
          "scattergl": [
           {
            "marker": {
             "colorbar": {
              "outlinewidth": 0,
              "ticks": ""
             }
            },
            "type": "scattergl"
           }
          ],
          "scattermapbox": [
           {
            "marker": {
             "colorbar": {
              "outlinewidth": 0,
              "ticks": ""
             }
            },
            "type": "scattermapbox"
           }
          ],
          "scatterpolar": [
           {
            "marker": {
             "colorbar": {
              "outlinewidth": 0,
              "ticks": ""
             }
            },
            "type": "scatterpolar"
           }
          ],
          "scatterpolargl": [
           {
            "marker": {
             "colorbar": {
              "outlinewidth": 0,
              "ticks": ""
             }
            },
            "type": "scatterpolargl"
           }
          ],
          "scatterternary": [
           {
            "marker": {
             "colorbar": {
              "outlinewidth": 0,
              "ticks": ""
             }
            },
            "type": "scatterternary"
           }
          ],
          "surface": [
           {
            "colorbar": {
             "outlinewidth": 0,
             "ticks": ""
            },
            "colorscale": [
             [
              0,
              "#0d0887"
             ],
             [
              0.1111111111111111,
              "#46039f"
             ],
             [
              0.2222222222222222,
              "#7201a8"
             ],
             [
              0.3333333333333333,
              "#9c179e"
             ],
             [
              0.4444444444444444,
              "#bd3786"
             ],
             [
              0.5555555555555556,
              "#d8576b"
             ],
             [
              0.6666666666666666,
              "#ed7953"
             ],
             [
              0.7777777777777778,
              "#fb9f3a"
             ],
             [
              0.8888888888888888,
              "#fdca26"
             ],
             [
              1,
              "#f0f921"
             ]
            ],
            "type": "surface"
           }
          ],
          "table": [
           {
            "cells": {
             "fill": {
              "color": "#EBF0F8"
             },
             "line": {
              "color": "white"
             }
            },
            "header": {
             "fill": {
              "color": "#C8D4E3"
             },
             "line": {
              "color": "white"
             }
            },
            "type": "table"
           }
          ]
         },
         "layout": {
          "annotationdefaults": {
           "arrowcolor": "#2a3f5f",
           "arrowhead": 0,
           "arrowwidth": 1
          },
          "autotypenumbers": "strict",
          "coloraxis": {
           "colorbar": {
            "outlinewidth": 0,
            "ticks": ""
           }
          },
          "colorscale": {
           "diverging": [
            [
             0,
             "#8e0152"
            ],
            [
             0.1,
             "#c51b7d"
            ],
            [
             0.2,
             "#de77ae"
            ],
            [
             0.3,
             "#f1b6da"
            ],
            [
             0.4,
             "#fde0ef"
            ],
            [
             0.5,
             "#f7f7f7"
            ],
            [
             0.6,
             "#e6f5d0"
            ],
            [
             0.7,
             "#b8e186"
            ],
            [
             0.8,
             "#7fbc41"
            ],
            [
             0.9,
             "#4d9221"
            ],
            [
             1,
             "#276419"
            ]
           ],
           "sequential": [
            [
             0,
             "#0d0887"
            ],
            [
             0.1111111111111111,
             "#46039f"
            ],
            [
             0.2222222222222222,
             "#7201a8"
            ],
            [
             0.3333333333333333,
             "#9c179e"
            ],
            [
             0.4444444444444444,
             "#bd3786"
            ],
            [
             0.5555555555555556,
             "#d8576b"
            ],
            [
             0.6666666666666666,
             "#ed7953"
            ],
            [
             0.7777777777777778,
             "#fb9f3a"
            ],
            [
             0.8888888888888888,
             "#fdca26"
            ],
            [
             1,
             "#f0f921"
            ]
           ],
           "sequentialminus": [
            [
             0,
             "#0d0887"
            ],
            [
             0.1111111111111111,
             "#46039f"
            ],
            [
             0.2222222222222222,
             "#7201a8"
            ],
            [
             0.3333333333333333,
             "#9c179e"
            ],
            [
             0.4444444444444444,
             "#bd3786"
            ],
            [
             0.5555555555555556,
             "#d8576b"
            ],
            [
             0.6666666666666666,
             "#ed7953"
            ],
            [
             0.7777777777777778,
             "#fb9f3a"
            ],
            [
             0.8888888888888888,
             "#fdca26"
            ],
            [
             1,
             "#f0f921"
            ]
           ]
          },
          "colorway": [
           "#636efa",
           "#EF553B",
           "#00cc96",
           "#ab63fa",
           "#FFA15A",
           "#19d3f3",
           "#FF6692",
           "#B6E880",
           "#FF97FF",
           "#FECB52"
          ],
          "font": {
           "color": "#2a3f5f"
          },
          "geo": {
           "bgcolor": "white",
           "lakecolor": "white",
           "landcolor": "#E5ECF6",
           "showlakes": true,
           "showland": true,
           "subunitcolor": "white"
          },
          "hoverlabel": {
           "align": "left"
          },
          "hovermode": "closest",
          "mapbox": {
           "style": "light"
          },
          "paper_bgcolor": "white",
          "plot_bgcolor": "#E5ECF6",
          "polar": {
           "angularaxis": {
            "gridcolor": "white",
            "linecolor": "white",
            "ticks": ""
           },
           "bgcolor": "#E5ECF6",
           "radialaxis": {
            "gridcolor": "white",
            "linecolor": "white",
            "ticks": ""
           }
          },
          "scene": {
           "xaxis": {
            "backgroundcolor": "#E5ECF6",
            "gridcolor": "white",
            "gridwidth": 2,
            "linecolor": "white",
            "showbackground": true,
            "ticks": "",
            "zerolinecolor": "white"
           },
           "yaxis": {
            "backgroundcolor": "#E5ECF6",
            "gridcolor": "white",
            "gridwidth": 2,
            "linecolor": "white",
            "showbackground": true,
            "ticks": "",
            "zerolinecolor": "white"
           },
           "zaxis": {
            "backgroundcolor": "#E5ECF6",
            "gridcolor": "white",
            "gridwidth": 2,
            "linecolor": "white",
            "showbackground": true,
            "ticks": "",
            "zerolinecolor": "white"
           }
          },
          "shapedefaults": {
           "line": {
            "color": "#2a3f5f"
           }
          },
          "ternary": {
           "aaxis": {
            "gridcolor": "white",
            "linecolor": "white",
            "ticks": ""
           },
           "baxis": {
            "gridcolor": "white",
            "linecolor": "white",
            "ticks": ""
           },
           "bgcolor": "#E5ECF6",
           "caxis": {
            "gridcolor": "white",
            "linecolor": "white",
            "ticks": ""
           }
          },
          "title": {
           "x": 0.05
          },
          "xaxis": {
           "automargin": true,
           "gridcolor": "white",
           "linecolor": "white",
           "ticks": "",
           "title": {
            "standoff": 15
           },
           "zerolinecolor": "white",
           "zerolinewidth": 2
          },
          "yaxis": {
           "automargin": true,
           "gridcolor": "white",
           "linecolor": "white",
           "ticks": "",
           "title": {
            "standoff": 15
           },
           "zerolinecolor": "white",
           "zerolinewidth": 2
          }
         }
        },
        "title": {
         "font": {
          "family": "Caslon",
          "size": 22
         },
         "text": "Total Amount of Content from each Continent from 2008 to 2021"
        },
        "updatemenus": [
         {
          "buttons": [
           {
            "args": [
             null,
             {
              "frame": {
               "duration": 500,
               "redraw": true
              },
              "fromcurrent": true,
              "mode": "immediate",
              "transition": {
               "duration": 500,
               "easing": "linear"
              }
             }
            ],
            "label": "&#9654;",
            "method": "animate"
           },
           {
            "args": [
             [
              null
             ],
             {
              "frame": {
               "duration": 0,
               "redraw": true
              },
              "fromcurrent": true,
              "mode": "immediate",
              "transition": {
               "duration": 0,
               "easing": "linear"
              }
             }
            ],
            "label": "&#9724;",
            "method": "animate"
           }
          ],
          "direction": "left",
          "pad": {
           "r": 10,
           "t": 70
          },
          "showactive": false,
          "type": "buttons",
          "x": 0.1,
          "xanchor": "right",
          "y": 0,
          "yanchor": "top"
         }
        ],
        "xaxis": {
         "anchor": "y",
         "categoryarray": [
          "Africa",
          "Asia",
          "Australia",
          "Europe",
          "North America",
          "South America"
         ],
         "categoryorder": "total ascending",
         "domain": [
          0,
          1
         ],
         "linecolor": "black",
         "showline": true,
         "title": {
          "font": {
           "size": 14
          },
          "text": ""
         }
        },
        "yaxis": {
         "anchor": "x",
         "domain": [
          0,
          1
         ],
         "linecolor": "black",
         "range": [
          0,
          4400
         ],
         "showline": true,
         "side": "left",
         "ticktext": [
          0,
          500,
          1000,
          1500,
          2000,
          2500,
          3000,
          3500,
          4000,
          4500
         ],
         "tickvals": [
          0,
          500,
          1000,
          1500,
          2000,
          2500,
          3000,
          3500,
          4000,
          4500
         ],
         "title": {
          "font": {
           "size": 14
          },
          "text": "Total"
         }
        }
       }
      },
      "text/html": [
       "<div>                            <div id=\"4d75152e-04a0-4f79-96b2-dbcd5d262b80\" class=\"plotly-graph-div\" style=\"height:525px; width:100%;\"></div>            <script type=\"text/javascript\">                require([\"plotly\"], function(Plotly) {                    window.PLOTLYENV=window.PLOTLYENV || {};                                    if (document.getElementById(\"4d75152e-04a0-4f79-96b2-dbcd5d262b80\")) {                    Plotly.newPlot(                        \"4d75152e-04a0-4f79-96b2-dbcd5d262b80\",                        [{\"alignmentgroup\":\"True\",\"hovertemplate\":\"continent=%{x}\\u003cbr\\u003eyear_added=2008\\u003cbr\\u003ecumsum=%{text}\\u003cextra\\u003e\\u003c\\u002fextra\\u003e\",\"legendgroup\":\"Africa\",\"marker\":{\"color\":\"#000000\",\"pattern\":{\"shape\":\"\"},\"line\":{\"color\":\"black\",\"width\":1}},\"name\":\"Africa\",\"offsetgroup\":\"Africa\",\"orientation\":\"v\",\"showlegend\":true,\"text\":[0.0],\"textposition\":\"outside\",\"x\":[\"Africa\"],\"xaxis\":\"x\",\"y\":[0.0],\"yaxis\":\"y\",\"type\":\"bar\",\"width\":0.6},{\"alignmentgroup\":\"True\",\"hovertemplate\":\"continent=%{x}\\u003cbr\\u003eyear_added=2008\\u003cbr\\u003ecumsum=%{text}\\u003cextra\\u003e\\u003c\\u002fextra\\u003e\",\"legendgroup\":\"Asia\",\"marker\":{\"color\":\"#f53e31\",\"pattern\":{\"shape\":\"\"},\"line\":{\"color\":\"black\",\"width\":1}},\"name\":\"Asia\",\"offsetgroup\":\"Asia\",\"orientation\":\"v\",\"showlegend\":true,\"text\":[0.0],\"textposition\":\"outside\",\"x\":[\"Asia\"],\"xaxis\":\"x\",\"y\":[0.0],\"yaxis\":\"y\",\"type\":\"bar\",\"width\":0.6},{\"alignmentgroup\":\"True\",\"hovertemplate\":\"continent=%{x}\\u003cbr\\u003eyear_added=2008\\u003cbr\\u003ecumsum=%{text}\\u003cextra\\u003e\\u003c\\u002fextra\\u003e\",\"legendgroup\":\"Australia\",\"marker\":{\"color\":\"#000000\",\"pattern\":{\"shape\":\"\"},\"line\":{\"color\":\"black\",\"width\":1}},\"name\":\"Australia\",\"offsetgroup\":\"Australia\",\"orientation\":\"v\",\"showlegend\":true,\"text\":[0.0],\"textposition\":\"outside\",\"x\":[\"Australia\"],\"xaxis\":\"x\",\"y\":[0.0],\"yaxis\":\"y\",\"type\":\"bar\",\"width\":0.6},{\"alignmentgroup\":\"True\",\"hovertemplate\":\"continent=%{x}\\u003cbr\\u003eyear_added=2008\\u003cbr\\u003ecumsum=%{text}\\u003cextra\\u003e\\u003c\\u002fextra\\u003e\",\"legendgroup\":\"Europe\",\"marker\":{\"color\":\"#f53e31\",\"pattern\":{\"shape\":\"\"},\"line\":{\"color\":\"black\",\"width\":1}},\"name\":\"Europe\",\"offsetgroup\":\"Europe\",\"orientation\":\"v\",\"showlegend\":true,\"text\":[0.0],\"textposition\":\"outside\",\"x\":[\"Europe\"],\"xaxis\":\"x\",\"y\":[0.0],\"yaxis\":\"y\",\"type\":\"bar\",\"width\":0.6},{\"alignmentgroup\":\"True\",\"hovertemplate\":\"continent=%{x}\\u003cbr\\u003eyear_added=2008\\u003cbr\\u003ecumsum=%{text}\\u003cextra\\u003e\\u003c\\u002fextra\\u003e\",\"legendgroup\":\"North America\",\"marker\":{\"color\":\"#db0000\",\"pattern\":{\"shape\":\"\"},\"line\":{\"color\":\"black\",\"width\":1}},\"name\":\"North America\",\"offsetgroup\":\"North America\",\"orientation\":\"v\",\"showlegend\":true,\"text\":[2.0],\"textposition\":\"outside\",\"x\":[\"North America\"],\"xaxis\":\"x\",\"y\":[2.0],\"yaxis\":\"y\",\"type\":\"bar\",\"width\":0.6},{\"alignmentgroup\":\"True\",\"hovertemplate\":\"continent=%{x}\\u003cbr\\u003eyear_added=2008\\u003cbr\\u003ecumsum=%{text}\\u003cextra\\u003e\\u003c\\u002fextra\\u003e\",\"legendgroup\":\"South America\",\"marker\":{\"color\":\"#000000\",\"pattern\":{\"shape\":\"\"},\"line\":{\"color\":\"black\",\"width\":1}},\"name\":\"South America\",\"offsetgroup\":\"South America\",\"orientation\":\"v\",\"showlegend\":true,\"text\":[0.0],\"textposition\":\"outside\",\"x\":[\"South America\"],\"xaxis\":\"x\",\"y\":[0.0],\"yaxis\":\"y\",\"type\":\"bar\",\"width\":0.6}],                        {\"template\":{\"data\":{\"histogram2dcontour\":[{\"type\":\"histogram2dcontour\",\"colorbar\":{\"outlinewidth\":0,\"ticks\":\"\"},\"colorscale\":[[0.0,\"#0d0887\"],[0.1111111111111111,\"#46039f\"],[0.2222222222222222,\"#7201a8\"],[0.3333333333333333,\"#9c179e\"],[0.4444444444444444,\"#bd3786\"],[0.5555555555555556,\"#d8576b\"],[0.6666666666666666,\"#ed7953\"],[0.7777777777777778,\"#fb9f3a\"],[0.8888888888888888,\"#fdca26\"],[1.0,\"#f0f921\"]]}],\"choropleth\":[{\"type\":\"choropleth\",\"colorbar\":{\"outlinewidth\":0,\"ticks\":\"\"}}],\"histogram2d\":[{\"type\":\"histogram2d\",\"colorbar\":{\"outlinewidth\":0,\"ticks\":\"\"},\"colorscale\":[[0.0,\"#0d0887\"],[0.1111111111111111,\"#46039f\"],[0.2222222222222222,\"#7201a8\"],[0.3333333333333333,\"#9c179e\"],[0.4444444444444444,\"#bd3786\"],[0.5555555555555556,\"#d8576b\"],[0.6666666666666666,\"#ed7953\"],[0.7777777777777778,\"#fb9f3a\"],[0.8888888888888888,\"#fdca26\"],[1.0,\"#f0f921\"]]}],\"heatmap\":[{\"type\":\"heatmap\",\"colorbar\":{\"outlinewidth\":0,\"ticks\":\"\"},\"colorscale\":[[0.0,\"#0d0887\"],[0.1111111111111111,\"#46039f\"],[0.2222222222222222,\"#7201a8\"],[0.3333333333333333,\"#9c179e\"],[0.4444444444444444,\"#bd3786\"],[0.5555555555555556,\"#d8576b\"],[0.6666666666666666,\"#ed7953\"],[0.7777777777777778,\"#fb9f3a\"],[0.8888888888888888,\"#fdca26\"],[1.0,\"#f0f921\"]]}],\"heatmapgl\":[{\"type\":\"heatmapgl\",\"colorbar\":{\"outlinewidth\":0,\"ticks\":\"\"},\"colorscale\":[[0.0,\"#0d0887\"],[0.1111111111111111,\"#46039f\"],[0.2222222222222222,\"#7201a8\"],[0.3333333333333333,\"#9c179e\"],[0.4444444444444444,\"#bd3786\"],[0.5555555555555556,\"#d8576b\"],[0.6666666666666666,\"#ed7953\"],[0.7777777777777778,\"#fb9f3a\"],[0.8888888888888888,\"#fdca26\"],[1.0,\"#f0f921\"]]}],\"contourcarpet\":[{\"type\":\"contourcarpet\",\"colorbar\":{\"outlinewidth\":0,\"ticks\":\"\"}}],\"contour\":[{\"type\":\"contour\",\"colorbar\":{\"outlinewidth\":0,\"ticks\":\"\"},\"colorscale\":[[0.0,\"#0d0887\"],[0.1111111111111111,\"#46039f\"],[0.2222222222222222,\"#7201a8\"],[0.3333333333333333,\"#9c179e\"],[0.4444444444444444,\"#bd3786\"],[0.5555555555555556,\"#d8576b\"],[0.6666666666666666,\"#ed7953\"],[0.7777777777777778,\"#fb9f3a\"],[0.8888888888888888,\"#fdca26\"],[1.0,\"#f0f921\"]]}],\"surface\":[{\"type\":\"surface\",\"colorbar\":{\"outlinewidth\":0,\"ticks\":\"\"},\"colorscale\":[[0.0,\"#0d0887\"],[0.1111111111111111,\"#46039f\"],[0.2222222222222222,\"#7201a8\"],[0.3333333333333333,\"#9c179e\"],[0.4444444444444444,\"#bd3786\"],[0.5555555555555556,\"#d8576b\"],[0.6666666666666666,\"#ed7953\"],[0.7777777777777778,\"#fb9f3a\"],[0.8888888888888888,\"#fdca26\"],[1.0,\"#f0f921\"]]}],\"mesh3d\":[{\"type\":\"mesh3d\",\"colorbar\":{\"outlinewidth\":0,\"ticks\":\"\"}}],\"scatter\":[{\"fillpattern\":{\"fillmode\":\"overlay\",\"size\":10,\"solidity\":0.2},\"type\":\"scatter\"}],\"parcoords\":[{\"type\":\"parcoords\",\"line\":{\"colorbar\":{\"outlinewidth\":0,\"ticks\":\"\"}}}],\"scatterpolargl\":[{\"type\":\"scatterpolargl\",\"marker\":{\"colorbar\":{\"outlinewidth\":0,\"ticks\":\"\"}}}],\"bar\":[{\"error_x\":{\"color\":\"#2a3f5f\"},\"error_y\":{\"color\":\"#2a3f5f\"},\"marker\":{\"line\":{\"color\":\"#E5ECF6\",\"width\":0.5},\"pattern\":{\"fillmode\":\"overlay\",\"size\":10,\"solidity\":0.2}},\"type\":\"bar\"}],\"scattergeo\":[{\"type\":\"scattergeo\",\"marker\":{\"colorbar\":{\"outlinewidth\":0,\"ticks\":\"\"}}}],\"scatterpolar\":[{\"type\":\"scatterpolar\",\"marker\":{\"colorbar\":{\"outlinewidth\":0,\"ticks\":\"\"}}}],\"histogram\":[{\"marker\":{\"pattern\":{\"fillmode\":\"overlay\",\"size\":10,\"solidity\":0.2}},\"type\":\"histogram\"}],\"scattergl\":[{\"type\":\"scattergl\",\"marker\":{\"colorbar\":{\"outlinewidth\":0,\"ticks\":\"\"}}}],\"scatter3d\":[{\"type\":\"scatter3d\",\"line\":{\"colorbar\":{\"outlinewidth\":0,\"ticks\":\"\"}},\"marker\":{\"colorbar\":{\"outlinewidth\":0,\"ticks\":\"\"}}}],\"scattermapbox\":[{\"type\":\"scattermapbox\",\"marker\":{\"colorbar\":{\"outlinewidth\":0,\"ticks\":\"\"}}}],\"scatterternary\":[{\"type\":\"scatterternary\",\"marker\":{\"colorbar\":{\"outlinewidth\":0,\"ticks\":\"\"}}}],\"scattercarpet\":[{\"type\":\"scattercarpet\",\"marker\":{\"colorbar\":{\"outlinewidth\":0,\"ticks\":\"\"}}}],\"carpet\":[{\"aaxis\":{\"endlinecolor\":\"#2a3f5f\",\"gridcolor\":\"white\",\"linecolor\":\"white\",\"minorgridcolor\":\"white\",\"startlinecolor\":\"#2a3f5f\"},\"baxis\":{\"endlinecolor\":\"#2a3f5f\",\"gridcolor\":\"white\",\"linecolor\":\"white\",\"minorgridcolor\":\"white\",\"startlinecolor\":\"#2a3f5f\"},\"type\":\"carpet\"}],\"table\":[{\"cells\":{\"fill\":{\"color\":\"#EBF0F8\"},\"line\":{\"color\":\"white\"}},\"header\":{\"fill\":{\"color\":\"#C8D4E3\"},\"line\":{\"color\":\"white\"}},\"type\":\"table\"}],\"barpolar\":[{\"marker\":{\"line\":{\"color\":\"#E5ECF6\",\"width\":0.5},\"pattern\":{\"fillmode\":\"overlay\",\"size\":10,\"solidity\":0.2}},\"type\":\"barpolar\"}],\"pie\":[{\"automargin\":true,\"type\":\"pie\"}]},\"layout\":{\"autotypenumbers\":\"strict\",\"colorway\":[\"#636efa\",\"#EF553B\",\"#00cc96\",\"#ab63fa\",\"#FFA15A\",\"#19d3f3\",\"#FF6692\",\"#B6E880\",\"#FF97FF\",\"#FECB52\"],\"font\":{\"color\":\"#2a3f5f\"},\"hovermode\":\"closest\",\"hoverlabel\":{\"align\":\"left\"},\"paper_bgcolor\":\"white\",\"plot_bgcolor\":\"#E5ECF6\",\"polar\":{\"bgcolor\":\"#E5ECF6\",\"angularaxis\":{\"gridcolor\":\"white\",\"linecolor\":\"white\",\"ticks\":\"\"},\"radialaxis\":{\"gridcolor\":\"white\",\"linecolor\":\"white\",\"ticks\":\"\"}},\"ternary\":{\"bgcolor\":\"#E5ECF6\",\"aaxis\":{\"gridcolor\":\"white\",\"linecolor\":\"white\",\"ticks\":\"\"},\"baxis\":{\"gridcolor\":\"white\",\"linecolor\":\"white\",\"ticks\":\"\"},\"caxis\":{\"gridcolor\":\"white\",\"linecolor\":\"white\",\"ticks\":\"\"}},\"coloraxis\":{\"colorbar\":{\"outlinewidth\":0,\"ticks\":\"\"}},\"colorscale\":{\"sequential\":[[0.0,\"#0d0887\"],[0.1111111111111111,\"#46039f\"],[0.2222222222222222,\"#7201a8\"],[0.3333333333333333,\"#9c179e\"],[0.4444444444444444,\"#bd3786\"],[0.5555555555555556,\"#d8576b\"],[0.6666666666666666,\"#ed7953\"],[0.7777777777777778,\"#fb9f3a\"],[0.8888888888888888,\"#fdca26\"],[1.0,\"#f0f921\"]],\"sequentialminus\":[[0.0,\"#0d0887\"],[0.1111111111111111,\"#46039f\"],[0.2222222222222222,\"#7201a8\"],[0.3333333333333333,\"#9c179e\"],[0.4444444444444444,\"#bd3786\"],[0.5555555555555556,\"#d8576b\"],[0.6666666666666666,\"#ed7953\"],[0.7777777777777778,\"#fb9f3a\"],[0.8888888888888888,\"#fdca26\"],[1.0,\"#f0f921\"]],\"diverging\":[[0,\"#8e0152\"],[0.1,\"#c51b7d\"],[0.2,\"#de77ae\"],[0.3,\"#f1b6da\"],[0.4,\"#fde0ef\"],[0.5,\"#f7f7f7\"],[0.6,\"#e6f5d0\"],[0.7,\"#b8e186\"],[0.8,\"#7fbc41\"],[0.9,\"#4d9221\"],[1,\"#276419\"]]},\"xaxis\":{\"gridcolor\":\"white\",\"linecolor\":\"white\",\"ticks\":\"\",\"title\":{\"standoff\":15},\"zerolinecolor\":\"white\",\"automargin\":true,\"zerolinewidth\":2},\"yaxis\":{\"gridcolor\":\"white\",\"linecolor\":\"white\",\"ticks\":\"\",\"title\":{\"standoff\":15},\"zerolinecolor\":\"white\",\"automargin\":true,\"zerolinewidth\":2},\"scene\":{\"xaxis\":{\"backgroundcolor\":\"#E5ECF6\",\"gridcolor\":\"white\",\"linecolor\":\"white\",\"showbackground\":true,\"ticks\":\"\",\"zerolinecolor\":\"white\",\"gridwidth\":2},\"yaxis\":{\"backgroundcolor\":\"#E5ECF6\",\"gridcolor\":\"white\",\"linecolor\":\"white\",\"showbackground\":true,\"ticks\":\"\",\"zerolinecolor\":\"white\",\"gridwidth\":2},\"zaxis\":{\"backgroundcolor\":\"#E5ECF6\",\"gridcolor\":\"white\",\"linecolor\":\"white\",\"showbackground\":true,\"ticks\":\"\",\"zerolinecolor\":\"white\",\"gridwidth\":2}},\"shapedefaults\":{\"line\":{\"color\":\"#2a3f5f\"}},\"annotationdefaults\":{\"arrowcolor\":\"#2a3f5f\",\"arrowhead\":0,\"arrowwidth\":1},\"geo\":{\"bgcolor\":\"white\",\"landcolor\":\"#E5ECF6\",\"subunitcolor\":\"white\",\"showland\":true,\"showlakes\":true,\"lakecolor\":\"white\"},\"title\":{\"x\":0.05},\"mapbox\":{\"style\":\"light\"}}},\"xaxis\":{\"anchor\":\"y\",\"domain\":[0.0,1.0],\"title\":{\"text\":\"\",\"font\":{\"size\":14}},\"categoryorder\":\"total ascending\",\"categoryarray\":[\"Africa\",\"Asia\",\"Australia\",\"Europe\",\"North America\",\"South America\"],\"showline\":true,\"linecolor\":\"black\"},\"yaxis\":{\"anchor\":\"x\",\"domain\":[0.0,1.0],\"title\":{\"text\":\"Total\",\"font\":{\"size\":14}},\"range\":[0,4400],\"showline\":true,\"linecolor\":\"black\",\"side\":\"left\",\"tickvals\":[0,500,1000,1500,2000,2500,3000,3500,4000,4500],\"ticktext\":[0,500,1000,1500,2000,2500,3000,3500,4000,4500]},\"legend\":{\"title\":{\"text\":\"continent\"},\"tracegroupgap\":0},\"margin\":{\"t\":60},\"barmode\":\"relative\",\"updatemenus\":[{\"buttons\":[{\"args\":[null,{\"frame\":{\"duration\":500,\"redraw\":true},\"mode\":\"immediate\",\"fromcurrent\":true,\"transition\":{\"duration\":500,\"easing\":\"linear\"}}],\"label\":\"&#9654;\",\"method\":\"animate\"},{\"args\":[[null],{\"frame\":{\"duration\":0,\"redraw\":true},\"mode\":\"immediate\",\"fromcurrent\":true,\"transition\":{\"duration\":0,\"easing\":\"linear\"}}],\"label\":\"&#9724;\",\"method\":\"animate\"}],\"direction\":\"left\",\"pad\":{\"r\":10,\"t\":70},\"showactive\":false,\"type\":\"buttons\",\"x\":0.1,\"xanchor\":\"right\",\"y\":0,\"yanchor\":\"top\"}],\"sliders\":[{\"active\":0,\"currentvalue\":{\"prefix\":\"year_added=\"},\"len\":0.9,\"pad\":{\"b\":10,\"t\":60},\"steps\":[{\"args\":[[\"2008\"],{\"frame\":{\"duration\":0,\"redraw\":true},\"mode\":\"immediate\",\"fromcurrent\":true,\"transition\":{\"duration\":0,\"easing\":\"linear\"}}],\"label\":\"2008\",\"method\":\"animate\"},{\"args\":[[\"2009\"],{\"frame\":{\"duration\":0,\"redraw\":true},\"mode\":\"immediate\",\"fromcurrent\":true,\"transition\":{\"duration\":0,\"easing\":\"linear\"}}],\"label\":\"2009\",\"method\":\"animate\"},{\"args\":[[\"2010\"],{\"frame\":{\"duration\":0,\"redraw\":true},\"mode\":\"immediate\",\"fromcurrent\":true,\"transition\":{\"duration\":0,\"easing\":\"linear\"}}],\"label\":\"2010\",\"method\":\"animate\"},{\"args\":[[\"2011\"],{\"frame\":{\"duration\":0,\"redraw\":true},\"mode\":\"immediate\",\"fromcurrent\":true,\"transition\":{\"duration\":0,\"easing\":\"linear\"}}],\"label\":\"2011\",\"method\":\"animate\"},{\"args\":[[\"2012\"],{\"frame\":{\"duration\":0,\"redraw\":true},\"mode\":\"immediate\",\"fromcurrent\":true,\"transition\":{\"duration\":0,\"easing\":\"linear\"}}],\"label\":\"2012\",\"method\":\"animate\"},{\"args\":[[\"2013\"],{\"frame\":{\"duration\":0,\"redraw\":true},\"mode\":\"immediate\",\"fromcurrent\":true,\"transition\":{\"duration\":0,\"easing\":\"linear\"}}],\"label\":\"2013\",\"method\":\"animate\"},{\"args\":[[\"2014\"],{\"frame\":{\"duration\":0,\"redraw\":true},\"mode\":\"immediate\",\"fromcurrent\":true,\"transition\":{\"duration\":0,\"easing\":\"linear\"}}],\"label\":\"2014\",\"method\":\"animate\"},{\"args\":[[\"2015\"],{\"frame\":{\"duration\":0,\"redraw\":true},\"mode\":\"immediate\",\"fromcurrent\":true,\"transition\":{\"duration\":0,\"easing\":\"linear\"}}],\"label\":\"2015\",\"method\":\"animate\"},{\"args\":[[\"2016\"],{\"frame\":{\"duration\":0,\"redraw\":true},\"mode\":\"immediate\",\"fromcurrent\":true,\"transition\":{\"duration\":0,\"easing\":\"linear\"}}],\"label\":\"2016\",\"method\":\"animate\"},{\"args\":[[\"2017\"],{\"frame\":{\"duration\":0,\"redraw\":true},\"mode\":\"immediate\",\"fromcurrent\":true,\"transition\":{\"duration\":0,\"easing\":\"linear\"}}],\"label\":\"2017\",\"method\":\"animate\"},{\"args\":[[\"2018\"],{\"frame\":{\"duration\":0,\"redraw\":true},\"mode\":\"immediate\",\"fromcurrent\":true,\"transition\":{\"duration\":0,\"easing\":\"linear\"}}],\"label\":\"2018\",\"method\":\"animate\"},{\"args\":[[\"2019\"],{\"frame\":{\"duration\":0,\"redraw\":true},\"mode\":\"immediate\",\"fromcurrent\":true,\"transition\":{\"duration\":0,\"easing\":\"linear\"}}],\"label\":\"2019\",\"method\":\"animate\"},{\"args\":[[\"2020\"],{\"frame\":{\"duration\":0,\"redraw\":true},\"mode\":\"immediate\",\"fromcurrent\":true,\"transition\":{\"duration\":0,\"easing\":\"linear\"}}],\"label\":\"2020\",\"method\":\"animate\"},{\"args\":[[\"2021\"],{\"frame\":{\"duration\":0,\"redraw\":true},\"mode\":\"immediate\",\"fromcurrent\":true,\"transition\":{\"duration\":0,\"easing\":\"linear\"}}],\"label\":\"2021\",\"method\":\"animate\"}],\"x\":0.1,\"xanchor\":\"left\",\"y\":0,\"yanchor\":\"top\"}],\"title\":{\"text\":\"Total Amount of Content from each Continent from 2008 to 2021\",\"font\":{\"size\":22,\"family\":\"Caslon\"}},\"plot_bgcolor\":\"#f0e0df\",\"showlegend\":false},                        {\"responsive\": true}                    ).then(function(){\n",
       "                            Plotly.addFrames('4d75152e-04a0-4f79-96b2-dbcd5d262b80', [{\"data\":[{\"alignmentgroup\":\"True\",\"hovertemplate\":\"continent=%{x}\\u003cbr\\u003eyear_added=2008\\u003cbr\\u003ecumsum=%{text}\\u003cextra\\u003e\\u003c\\u002fextra\\u003e\",\"legendgroup\":\"Africa\",\"marker\":{\"color\":\"#000000\",\"pattern\":{\"shape\":\"\"}},\"name\":\"Africa\",\"offsetgroup\":\"Africa\",\"orientation\":\"v\",\"showlegend\":true,\"text\":[0.0],\"textposition\":\"auto\",\"x\":[\"Africa\"],\"xaxis\":\"x\",\"y\":[0.0],\"yaxis\":\"y\",\"type\":\"bar\"},{\"alignmentgroup\":\"True\",\"hovertemplate\":\"continent=%{x}\\u003cbr\\u003eyear_added=2008\\u003cbr\\u003ecumsum=%{text}\\u003cextra\\u003e\\u003c\\u002fextra\\u003e\",\"legendgroup\":\"Asia\",\"marker\":{\"color\":\"#f53e31\",\"pattern\":{\"shape\":\"\"}},\"name\":\"Asia\",\"offsetgroup\":\"Asia\",\"orientation\":\"v\",\"showlegend\":true,\"text\":[0.0],\"textposition\":\"auto\",\"x\":[\"Asia\"],\"xaxis\":\"x\",\"y\":[0.0],\"yaxis\":\"y\",\"type\":\"bar\"},{\"alignmentgroup\":\"True\",\"hovertemplate\":\"continent=%{x}\\u003cbr\\u003eyear_added=2008\\u003cbr\\u003ecumsum=%{text}\\u003cextra\\u003e\\u003c\\u002fextra\\u003e\",\"legendgroup\":\"Australia\",\"marker\":{\"color\":\"#000000\",\"pattern\":{\"shape\":\"\"}},\"name\":\"Australia\",\"offsetgroup\":\"Australia\",\"orientation\":\"v\",\"showlegend\":true,\"text\":[0.0],\"textposition\":\"auto\",\"x\":[\"Australia\"],\"xaxis\":\"x\",\"y\":[0.0],\"yaxis\":\"y\",\"type\":\"bar\"},{\"alignmentgroup\":\"True\",\"hovertemplate\":\"continent=%{x}\\u003cbr\\u003eyear_added=2008\\u003cbr\\u003ecumsum=%{text}\\u003cextra\\u003e\\u003c\\u002fextra\\u003e\",\"legendgroup\":\"Europe\",\"marker\":{\"color\":\"#f53e31\",\"pattern\":{\"shape\":\"\"}},\"name\":\"Europe\",\"offsetgroup\":\"Europe\",\"orientation\":\"v\",\"showlegend\":true,\"text\":[0.0],\"textposition\":\"auto\",\"x\":[\"Europe\"],\"xaxis\":\"x\",\"y\":[0.0],\"yaxis\":\"y\",\"type\":\"bar\"},{\"alignmentgroup\":\"True\",\"hovertemplate\":\"continent=%{x}\\u003cbr\\u003eyear_added=2008\\u003cbr\\u003ecumsum=%{text}\\u003cextra\\u003e\\u003c\\u002fextra\\u003e\",\"legendgroup\":\"North America\",\"marker\":{\"color\":\"#db0000\",\"pattern\":{\"shape\":\"\"}},\"name\":\"North America\",\"offsetgroup\":\"North America\",\"orientation\":\"v\",\"showlegend\":true,\"text\":[2.0],\"textposition\":\"auto\",\"x\":[\"North America\"],\"xaxis\":\"x\",\"y\":[2.0],\"yaxis\":\"y\",\"type\":\"bar\"},{\"alignmentgroup\":\"True\",\"hovertemplate\":\"continent=%{x}\\u003cbr\\u003eyear_added=2008\\u003cbr\\u003ecumsum=%{text}\\u003cextra\\u003e\\u003c\\u002fextra\\u003e\",\"legendgroup\":\"South America\",\"marker\":{\"color\":\"#000000\",\"pattern\":{\"shape\":\"\"}},\"name\":\"South America\",\"offsetgroup\":\"South America\",\"orientation\":\"v\",\"showlegend\":true,\"text\":[0.0],\"textposition\":\"auto\",\"x\":[\"South America\"],\"xaxis\":\"x\",\"y\":[0.0],\"yaxis\":\"y\",\"type\":\"bar\"}],\"name\":\"2008\"},{\"data\":[{\"alignmentgroup\":\"True\",\"hovertemplate\":\"continent=%{x}\\u003cbr\\u003eyear_added=2009\\u003cbr\\u003ecumsum=%{text}\\u003cextra\\u003e\\u003c\\u002fextra\\u003e\",\"legendgroup\":\"Africa\",\"marker\":{\"color\":\"#000000\",\"pattern\":{\"shape\":\"\"}},\"name\":\"Africa\",\"offsetgroup\":\"Africa\",\"orientation\":\"v\",\"showlegend\":true,\"text\":[0.0],\"textposition\":\"auto\",\"x\":[\"Africa\"],\"xaxis\":\"x\",\"y\":[0.0],\"yaxis\":\"y\",\"type\":\"bar\"},{\"alignmentgroup\":\"True\",\"hovertemplate\":\"continent=%{x}\\u003cbr\\u003eyear_added=2009\\u003cbr\\u003ecumsum=%{text}\\u003cextra\\u003e\\u003c\\u002fextra\\u003e\",\"legendgroup\":\"Asia\",\"marker\":{\"color\":\"#f53e31\",\"pattern\":{\"shape\":\"\"}},\"name\":\"Asia\",\"offsetgroup\":\"Asia\",\"orientation\":\"v\",\"showlegend\":true,\"text\":[0.0],\"textposition\":\"auto\",\"x\":[\"Asia\"],\"xaxis\":\"x\",\"y\":[0.0],\"yaxis\":\"y\",\"type\":\"bar\"},{\"alignmentgroup\":\"True\",\"hovertemplate\":\"continent=%{x}\\u003cbr\\u003eyear_added=2009\\u003cbr\\u003ecumsum=%{text}\\u003cextra\\u003e\\u003c\\u002fextra\\u003e\",\"legendgroup\":\"Australia\",\"marker\":{\"color\":\"#000000\",\"pattern\":{\"shape\":\"\"}},\"name\":\"Australia\",\"offsetgroup\":\"Australia\",\"orientation\":\"v\",\"showlegend\":true,\"text\":[0.0],\"textposition\":\"auto\",\"x\":[\"Australia\"],\"xaxis\":\"x\",\"y\":[0.0],\"yaxis\":\"y\",\"type\":\"bar\"},{\"alignmentgroup\":\"True\",\"hovertemplate\":\"continent=%{x}\\u003cbr\\u003eyear_added=2009\\u003cbr\\u003ecumsum=%{text}\\u003cextra\\u003e\\u003c\\u002fextra\\u003e\",\"legendgroup\":\"Europe\",\"marker\":{\"color\":\"#f53e31\",\"pattern\":{\"shape\":\"\"}},\"name\":\"Europe\",\"offsetgroup\":\"Europe\",\"orientation\":\"v\",\"showlegend\":true,\"text\":[1.0],\"textposition\":\"auto\",\"x\":[\"Europe\"],\"xaxis\":\"x\",\"y\":[1.0],\"yaxis\":\"y\",\"type\":\"bar\"},{\"alignmentgroup\":\"True\",\"hovertemplate\":\"continent=%{x}\\u003cbr\\u003eyear_added=2009\\u003cbr\\u003ecumsum=%{text}\\u003cextra\\u003e\\u003c\\u002fextra\\u003e\",\"legendgroup\":\"North America\",\"marker\":{\"color\":\"#db0000\",\"pattern\":{\"shape\":\"\"}},\"name\":\"North America\",\"offsetgroup\":\"North America\",\"orientation\":\"v\",\"showlegend\":true,\"text\":[3.0],\"textposition\":\"auto\",\"x\":[\"North America\"],\"xaxis\":\"x\",\"y\":[3.0],\"yaxis\":\"y\",\"type\":\"bar\"},{\"alignmentgroup\":\"True\",\"hovertemplate\":\"continent=%{x}\\u003cbr\\u003eyear_added=2009\\u003cbr\\u003ecumsum=%{text}\\u003cextra\\u003e\\u003c\\u002fextra\\u003e\",\"legendgroup\":\"South America\",\"marker\":{\"color\":\"#000000\",\"pattern\":{\"shape\":\"\"}},\"name\":\"South America\",\"offsetgroup\":\"South America\",\"orientation\":\"v\",\"showlegend\":true,\"text\":[0.0],\"textposition\":\"auto\",\"x\":[\"South America\"],\"xaxis\":\"x\",\"y\":[0.0],\"yaxis\":\"y\",\"type\":\"bar\"}],\"name\":\"2009\"},{\"data\":[{\"alignmentgroup\":\"True\",\"hovertemplate\":\"continent=%{x}\\u003cbr\\u003eyear_added=2010\\u003cbr\\u003ecumsum=%{text}\\u003cextra\\u003e\\u003c\\u002fextra\\u003e\",\"legendgroup\":\"Africa\",\"marker\":{\"color\":\"#000000\",\"pattern\":{\"shape\":\"\"}},\"name\":\"Africa\",\"offsetgroup\":\"Africa\",\"orientation\":\"v\",\"showlegend\":true,\"text\":[0.0],\"textposition\":\"auto\",\"x\":[\"Africa\"],\"xaxis\":\"x\",\"y\":[0.0],\"yaxis\":\"y\",\"type\":\"bar\"},{\"alignmentgroup\":\"True\",\"hovertemplate\":\"continent=%{x}\\u003cbr\\u003eyear_added=2010\\u003cbr\\u003ecumsum=%{text}\\u003cextra\\u003e\\u003c\\u002fextra\\u003e\",\"legendgroup\":\"Asia\",\"marker\":{\"color\":\"#f53e31\",\"pattern\":{\"shape\":\"\"}},\"name\":\"Asia\",\"offsetgroup\":\"Asia\",\"orientation\":\"v\",\"showlegend\":true,\"text\":[0.0],\"textposition\":\"auto\",\"x\":[\"Asia\"],\"xaxis\":\"x\",\"y\":[0.0],\"yaxis\":\"y\",\"type\":\"bar\"},{\"alignmentgroup\":\"True\",\"hovertemplate\":\"continent=%{x}\\u003cbr\\u003eyear_added=2010\\u003cbr\\u003ecumsum=%{text}\\u003cextra\\u003e\\u003c\\u002fextra\\u003e\",\"legendgroup\":\"Australia\",\"marker\":{\"color\":\"#000000\",\"pattern\":{\"shape\":\"\"}},\"name\":\"Australia\",\"offsetgroup\":\"Australia\",\"orientation\":\"v\",\"showlegend\":true,\"text\":[0.0],\"textposition\":\"auto\",\"x\":[\"Australia\"],\"xaxis\":\"x\",\"y\":[0.0],\"yaxis\":\"y\",\"type\":\"bar\"},{\"alignmentgroup\":\"True\",\"hovertemplate\":\"continent=%{x}\\u003cbr\\u003eyear_added=2010\\u003cbr\\u003ecumsum=%{text}\\u003cextra\\u003e\\u003c\\u002fextra\\u003e\",\"legendgroup\":\"Europe\",\"marker\":{\"color\":\"#f53e31\",\"pattern\":{\"shape\":\"\"}},\"name\":\"Europe\",\"offsetgroup\":\"Europe\",\"orientation\":\"v\",\"showlegend\":true,\"text\":[1.0],\"textposition\":\"auto\",\"x\":[\"Europe\"],\"xaxis\":\"x\",\"y\":[1.0],\"yaxis\":\"y\",\"type\":\"bar\"},{\"alignmentgroup\":\"True\",\"hovertemplate\":\"continent=%{x}\\u003cbr\\u003eyear_added=2010\\u003cbr\\u003ecumsum=%{text}\\u003cextra\\u003e\\u003c\\u002fextra\\u003e\",\"legendgroup\":\"North America\",\"marker\":{\"color\":\"#db0000\",\"pattern\":{\"shape\":\"\"}},\"name\":\"North America\",\"offsetgroup\":\"North America\",\"orientation\":\"v\",\"showlegend\":true,\"text\":[4.0],\"textposition\":\"auto\",\"x\":[\"North America\"],\"xaxis\":\"x\",\"y\":[4.0],\"yaxis\":\"y\",\"type\":\"bar\"},{\"alignmentgroup\":\"True\",\"hovertemplate\":\"continent=%{x}\\u003cbr\\u003eyear_added=2010\\u003cbr\\u003ecumsum=%{text}\\u003cextra\\u003e\\u003c\\u002fextra\\u003e\",\"legendgroup\":\"South America\",\"marker\":{\"color\":\"#000000\",\"pattern\":{\"shape\":\"\"}},\"name\":\"South America\",\"offsetgroup\":\"South America\",\"orientation\":\"v\",\"showlegend\":true,\"text\":[0.0],\"textposition\":\"auto\",\"x\":[\"South America\"],\"xaxis\":\"x\",\"y\":[0.0],\"yaxis\":\"y\",\"type\":\"bar\"}],\"name\":\"2010\"},{\"data\":[{\"alignmentgroup\":\"True\",\"hovertemplate\":\"continent=%{x}\\u003cbr\\u003eyear_added=2011\\u003cbr\\u003ecumsum=%{text}\\u003cextra\\u003e\\u003c\\u002fextra\\u003e\",\"legendgroup\":\"Africa\",\"marker\":{\"color\":\"#000000\",\"pattern\":{\"shape\":\"\"}},\"name\":\"Africa\",\"offsetgroup\":\"Africa\",\"orientation\":\"v\",\"showlegend\":true,\"text\":[0.0],\"textposition\":\"auto\",\"x\":[\"Africa\"],\"xaxis\":\"x\",\"y\":[0.0],\"yaxis\":\"y\",\"type\":\"bar\"},{\"alignmentgroup\":\"True\",\"hovertemplate\":\"continent=%{x}\\u003cbr\\u003eyear_added=2011\\u003cbr\\u003ecumsum=%{text}\\u003cextra\\u003e\\u003c\\u002fextra\\u003e\",\"legendgroup\":\"Asia\",\"marker\":{\"color\":\"#f53e31\",\"pattern\":{\"shape\":\"\"}},\"name\":\"Asia\",\"offsetgroup\":\"Asia\",\"orientation\":\"v\",\"showlegend\":true,\"text\":[0.0],\"textposition\":\"auto\",\"x\":[\"Asia\"],\"xaxis\":\"x\",\"y\":[0.0],\"yaxis\":\"y\",\"type\":\"bar\"},{\"alignmentgroup\":\"True\",\"hovertemplate\":\"continent=%{x}\\u003cbr\\u003eyear_added=2011\\u003cbr\\u003ecumsum=%{text}\\u003cextra\\u003e\\u003c\\u002fextra\\u003e\",\"legendgroup\":\"Australia\",\"marker\":{\"color\":\"#000000\",\"pattern\":{\"shape\":\"\"}},\"name\":\"Australia\",\"offsetgroup\":\"Australia\",\"orientation\":\"v\",\"showlegend\":true,\"text\":[0.0],\"textposition\":\"auto\",\"x\":[\"Australia\"],\"xaxis\":\"x\",\"y\":[0.0],\"yaxis\":\"y\",\"type\":\"bar\"},{\"alignmentgroup\":\"True\",\"hovertemplate\":\"continent=%{x}\\u003cbr\\u003eyear_added=2011\\u003cbr\\u003ecumsum=%{text}\\u003cextra\\u003e\\u003c\\u002fextra\\u003e\",\"legendgroup\":\"Europe\",\"marker\":{\"color\":\"#f53e31\",\"pattern\":{\"shape\":\"\"}},\"name\":\"Europe\",\"offsetgroup\":\"Europe\",\"orientation\":\"v\",\"showlegend\":true,\"text\":[5.0],\"textposition\":\"auto\",\"x\":[\"Europe\"],\"xaxis\":\"x\",\"y\":[5.0],\"yaxis\":\"y\",\"type\":\"bar\"},{\"alignmentgroup\":\"True\",\"hovertemplate\":\"continent=%{x}\\u003cbr\\u003eyear_added=2011\\u003cbr\\u003ecumsum=%{text}\\u003cextra\\u003e\\u003c\\u002fextra\\u003e\",\"legendgroup\":\"North America\",\"marker\":{\"color\":\"#db0000\",\"pattern\":{\"shape\":\"\"}},\"name\":\"North America\",\"offsetgroup\":\"North America\",\"orientation\":\"v\",\"showlegend\":true,\"text\":[17.0],\"textposition\":\"auto\",\"x\":[\"North America\"],\"xaxis\":\"x\",\"y\":[17.0],\"yaxis\":\"y\",\"type\":\"bar\"},{\"alignmentgroup\":\"True\",\"hovertemplate\":\"continent=%{x}\\u003cbr\\u003eyear_added=2011\\u003cbr\\u003ecumsum=%{text}\\u003cextra\\u003e\\u003c\\u002fextra\\u003e\",\"legendgroup\":\"South America\",\"marker\":{\"color\":\"#000000\",\"pattern\":{\"shape\":\"\"}},\"name\":\"South America\",\"offsetgroup\":\"South America\",\"orientation\":\"v\",\"showlegend\":true,\"text\":[0.0],\"textposition\":\"auto\",\"x\":[\"South America\"],\"xaxis\":\"x\",\"y\":[0.0],\"yaxis\":\"y\",\"type\":\"bar\"}],\"name\":\"2011\"},{\"data\":[{\"alignmentgroup\":\"True\",\"hovertemplate\":\"continent=%{x}\\u003cbr\\u003eyear_added=2012\\u003cbr\\u003ecumsum=%{text}\\u003cextra\\u003e\\u003c\\u002fextra\\u003e\",\"legendgroup\":\"Africa\",\"marker\":{\"color\":\"#000000\",\"pattern\":{\"shape\":\"\"}},\"name\":\"Africa\",\"offsetgroup\":\"Africa\",\"orientation\":\"v\",\"showlegend\":true,\"text\":[0.0],\"textposition\":\"auto\",\"x\":[\"Africa\"],\"xaxis\":\"x\",\"y\":[0.0],\"yaxis\":\"y\",\"type\":\"bar\"},{\"alignmentgroup\":\"True\",\"hovertemplate\":\"continent=%{x}\\u003cbr\\u003eyear_added=2012\\u003cbr\\u003ecumsum=%{text}\\u003cextra\\u003e\\u003c\\u002fextra\\u003e\",\"legendgroup\":\"Asia\",\"marker\":{\"color\":\"#f53e31\",\"pattern\":{\"shape\":\"\"}},\"name\":\"Asia\",\"offsetgroup\":\"Asia\",\"orientation\":\"v\",\"showlegend\":true,\"text\":[0.0],\"textposition\":\"auto\",\"x\":[\"Asia\"],\"xaxis\":\"x\",\"y\":[0.0],\"yaxis\":\"y\",\"type\":\"bar\"},{\"alignmentgroup\":\"True\",\"hovertemplate\":\"continent=%{x}\\u003cbr\\u003eyear_added=2012\\u003cbr\\u003ecumsum=%{text}\\u003cextra\\u003e\\u003c\\u002fextra\\u003e\",\"legendgroup\":\"Australia\",\"marker\":{\"color\":\"#000000\",\"pattern\":{\"shape\":\"\"}},\"name\":\"Australia\",\"offsetgroup\":\"Australia\",\"orientation\":\"v\",\"showlegend\":true,\"text\":[0.0],\"textposition\":\"auto\",\"x\":[\"Australia\"],\"xaxis\":\"x\",\"y\":[0.0],\"yaxis\":\"y\",\"type\":\"bar\"},{\"alignmentgroup\":\"True\",\"hovertemplate\":\"continent=%{x}\\u003cbr\\u003eyear_added=2012\\u003cbr\\u003ecumsum=%{text}\\u003cextra\\u003e\\u003c\\u002fextra\\u003e\",\"legendgroup\":\"Europe\",\"marker\":{\"color\":\"#f53e31\",\"pattern\":{\"shape\":\"\"}},\"name\":\"Europe\",\"offsetgroup\":\"Europe\",\"orientation\":\"v\",\"showlegend\":true,\"text\":[5.0],\"textposition\":\"auto\",\"x\":[\"Europe\"],\"xaxis\":\"x\",\"y\":[5.0],\"yaxis\":\"y\",\"type\":\"bar\"},{\"alignmentgroup\":\"True\",\"hovertemplate\":\"continent=%{x}\\u003cbr\\u003eyear_added=2012\\u003cbr\\u003ecumsum=%{text}\\u003cextra\\u003e\\u003c\\u002fextra\\u003e\",\"legendgroup\":\"North America\",\"marker\":{\"color\":\"#db0000\",\"pattern\":{\"shape\":\"\"}},\"name\":\"North America\",\"offsetgroup\":\"North America\",\"orientation\":\"v\",\"showlegend\":true,\"text\":[21.0],\"textposition\":\"auto\",\"x\":[\"North America\"],\"xaxis\":\"x\",\"y\":[21.0],\"yaxis\":\"y\",\"type\":\"bar\"},{\"alignmentgroup\":\"True\",\"hovertemplate\":\"continent=%{x}\\u003cbr\\u003eyear_added=2012\\u003cbr\\u003ecumsum=%{text}\\u003cextra\\u003e\\u003c\\u002fextra\\u003e\",\"legendgroup\":\"South America\",\"marker\":{\"color\":\"#000000\",\"pattern\":{\"shape\":\"\"}},\"name\":\"South America\",\"offsetgroup\":\"South America\",\"orientation\":\"v\",\"showlegend\":true,\"text\":[0.0],\"textposition\":\"auto\",\"x\":[\"South America\"],\"xaxis\":\"x\",\"y\":[0.0],\"yaxis\":\"y\",\"type\":\"bar\"}],\"name\":\"2012\"},{\"data\":[{\"alignmentgroup\":\"True\",\"hovertemplate\":\"continent=%{x}\\u003cbr\\u003eyear_added=2013\\u003cbr\\u003ecumsum=%{text}\\u003cextra\\u003e\\u003c\\u002fextra\\u003e\",\"legendgroup\":\"Africa\",\"marker\":{\"color\":\"#000000\",\"pattern\":{\"shape\":\"\"}},\"name\":\"Africa\",\"offsetgroup\":\"Africa\",\"orientation\":\"v\",\"showlegend\":true,\"text\":[0.0],\"textposition\":\"auto\",\"x\":[\"Africa\"],\"xaxis\":\"x\",\"y\":[0.0],\"yaxis\":\"y\",\"type\":\"bar\"},{\"alignmentgroup\":\"True\",\"hovertemplate\":\"continent=%{x}\\u003cbr\\u003eyear_added=2013\\u003cbr\\u003ecumsum=%{text}\\u003cextra\\u003e\\u003c\\u002fextra\\u003e\",\"legendgroup\":\"Asia\",\"marker\":{\"color\":\"#f53e31\",\"pattern\":{\"shape\":\"\"}},\"name\":\"Asia\",\"offsetgroup\":\"Asia\",\"orientation\":\"v\",\"showlegend\":true,\"text\":[0.0],\"textposition\":\"auto\",\"x\":[\"Asia\"],\"xaxis\":\"x\",\"y\":[0.0],\"yaxis\":\"y\",\"type\":\"bar\"},{\"alignmentgroup\":\"True\",\"hovertemplate\":\"continent=%{x}\\u003cbr\\u003eyear_added=2013\\u003cbr\\u003ecumsum=%{text}\\u003cextra\\u003e\\u003c\\u002fextra\\u003e\",\"legendgroup\":\"Australia\",\"marker\":{\"color\":\"#000000\",\"pattern\":{\"shape\":\"\"}},\"name\":\"Australia\",\"offsetgroup\":\"Australia\",\"orientation\":\"v\",\"showlegend\":true,\"text\":[0.0],\"textposition\":\"auto\",\"x\":[\"Australia\"],\"xaxis\":\"x\",\"y\":[0.0],\"yaxis\":\"y\",\"type\":\"bar\"},{\"alignmentgroup\":\"True\",\"hovertemplate\":\"continent=%{x}\\u003cbr\\u003eyear_added=2013\\u003cbr\\u003ecumsum=%{text}\\u003cextra\\u003e\\u003c\\u002fextra\\u003e\",\"legendgroup\":\"Europe\",\"marker\":{\"color\":\"#f53e31\",\"pattern\":{\"shape\":\"\"}},\"name\":\"Europe\",\"offsetgroup\":\"Europe\",\"orientation\":\"v\",\"showlegend\":true,\"text\":[7.0],\"textposition\":\"auto\",\"x\":[\"Europe\"],\"xaxis\":\"x\",\"y\":[7.0],\"yaxis\":\"y\",\"type\":\"bar\"},{\"alignmentgroup\":\"True\",\"hovertemplate\":\"continent=%{x}\\u003cbr\\u003eyear_added=2013\\u003cbr\\u003ecumsum=%{text}\\u003cextra\\u003e\\u003c\\u002fextra\\u003e\",\"legendgroup\":\"North America\",\"marker\":{\"color\":\"#db0000\",\"pattern\":{\"shape\":\"\"}},\"name\":\"North America\",\"offsetgroup\":\"North America\",\"orientation\":\"v\",\"showlegend\":true,\"text\":[32.0],\"textposition\":\"auto\",\"x\":[\"North America\"],\"xaxis\":\"x\",\"y\":[32.0],\"yaxis\":\"y\",\"type\":\"bar\"},{\"alignmentgroup\":\"True\",\"hovertemplate\":\"continent=%{x}\\u003cbr\\u003eyear_added=2013\\u003cbr\\u003ecumsum=%{text}\\u003cextra\\u003e\\u003c\\u002fextra\\u003e\",\"legendgroup\":\"South America\",\"marker\":{\"color\":\"#000000\",\"pattern\":{\"shape\":\"\"}},\"name\":\"South America\",\"offsetgroup\":\"South America\",\"orientation\":\"v\",\"showlegend\":true,\"text\":[0.0],\"textposition\":\"auto\",\"x\":[\"South America\"],\"xaxis\":\"x\",\"y\":[0.0],\"yaxis\":\"y\",\"type\":\"bar\"}],\"name\":\"2013\"},{\"data\":[{\"alignmentgroup\":\"True\",\"hovertemplate\":\"continent=%{x}\\u003cbr\\u003eyear_added=2014\\u003cbr\\u003ecumsum=%{text}\\u003cextra\\u003e\\u003c\\u002fextra\\u003e\",\"legendgroup\":\"Africa\",\"marker\":{\"color\":\"#000000\",\"pattern\":{\"shape\":\"\"}},\"name\":\"Africa\",\"offsetgroup\":\"Africa\",\"orientation\":\"v\",\"showlegend\":true,\"text\":[1.0],\"textposition\":\"auto\",\"x\":[\"Africa\"],\"xaxis\":\"x\",\"y\":[1.0],\"yaxis\":\"y\",\"type\":\"bar\"},{\"alignmentgroup\":\"True\",\"hovertemplate\":\"continent=%{x}\\u003cbr\\u003eyear_added=2014\\u003cbr\\u003ecumsum=%{text}\\u003cextra\\u003e\\u003c\\u002fextra\\u003e\",\"legendgroup\":\"Asia\",\"marker\":{\"color\":\"#f53e31\",\"pattern\":{\"shape\":\"\"}},\"name\":\"Asia\",\"offsetgroup\":\"Asia\",\"orientation\":\"v\",\"showlegend\":true,\"text\":[0.0],\"textposition\":\"auto\",\"x\":[\"Asia\"],\"xaxis\":\"x\",\"y\":[0.0],\"yaxis\":\"y\",\"type\":\"bar\"},{\"alignmentgroup\":\"True\",\"hovertemplate\":\"continent=%{x}\\u003cbr\\u003eyear_added=2014\\u003cbr\\u003ecumsum=%{text}\\u003cextra\\u003e\\u003c\\u002fextra\\u003e\",\"legendgroup\":\"Australia\",\"marker\":{\"color\":\"#000000\",\"pattern\":{\"shape\":\"\"}},\"name\":\"Australia\",\"offsetgroup\":\"Australia\",\"orientation\":\"v\",\"showlegend\":true,\"text\":[0.0],\"textposition\":\"auto\",\"x\":[\"Australia\"],\"xaxis\":\"x\",\"y\":[0.0],\"yaxis\":\"y\",\"type\":\"bar\"},{\"alignmentgroup\":\"True\",\"hovertemplate\":\"continent=%{x}\\u003cbr\\u003eyear_added=2014\\u003cbr\\u003ecumsum=%{text}\\u003cextra\\u003e\\u003c\\u002fextra\\u003e\",\"legendgroup\":\"Europe\",\"marker\":{\"color\":\"#f53e31\",\"pattern\":{\"shape\":\"\"}},\"name\":\"Europe\",\"offsetgroup\":\"Europe\",\"orientation\":\"v\",\"showlegend\":true,\"text\":[13.0],\"textposition\":\"auto\",\"x\":[\"Europe\"],\"xaxis\":\"x\",\"y\":[13.0],\"yaxis\":\"y\",\"type\":\"bar\"},{\"alignmentgroup\":\"True\",\"hovertemplate\":\"continent=%{x}\\u003cbr\\u003eyear_added=2014\\u003cbr\\u003ecumsum=%{text}\\u003cextra\\u003e\\u003c\\u002fextra\\u003e\",\"legendgroup\":\"North America\",\"marker\":{\"color\":\"#db0000\",\"pattern\":{\"shape\":\"\"}},\"name\":\"North America\",\"offsetgroup\":\"North America\",\"orientation\":\"v\",\"showlegend\":true,\"text\":[58.0],\"textposition\":\"auto\",\"x\":[\"North America\"],\"xaxis\":\"x\",\"y\":[58.0],\"yaxis\":\"y\",\"type\":\"bar\"},{\"alignmentgroup\":\"True\",\"hovertemplate\":\"continent=%{x}\\u003cbr\\u003eyear_added=2014\\u003cbr\\u003ecumsum=%{text}\\u003cextra\\u003e\\u003c\\u002fextra\\u003e\",\"legendgroup\":\"South America\",\"marker\":{\"color\":\"#000000\",\"pattern\":{\"shape\":\"\"}},\"name\":\"South America\",\"offsetgroup\":\"South America\",\"orientation\":\"v\",\"showlegend\":true,\"text\":[1.0],\"textposition\":\"auto\",\"x\":[\"South America\"],\"xaxis\":\"x\",\"y\":[1.0],\"yaxis\":\"y\",\"type\":\"bar\"}],\"name\":\"2014\"},{\"data\":[{\"alignmentgroup\":\"True\",\"hovertemplate\":\"continent=%{x}\\u003cbr\\u003eyear_added=2015\\u003cbr\\u003ecumsum=%{text}\\u003cextra\\u003e\\u003c\\u002fextra\\u003e\",\"legendgroup\":\"Africa\",\"marker\":{\"color\":\"#000000\",\"pattern\":{\"shape\":\"\"}},\"name\":\"Africa\",\"offsetgroup\":\"Africa\",\"orientation\":\"v\",\"showlegend\":true,\"text\":[2.0],\"textposition\":\"auto\",\"x\":[\"Africa\"],\"xaxis\":\"x\",\"y\":[2.0],\"yaxis\":\"y\",\"type\":\"bar\"},{\"alignmentgroup\":\"True\",\"hovertemplate\":\"continent=%{x}\\u003cbr\\u003eyear_added=2015\\u003cbr\\u003ecumsum=%{text}\\u003cextra\\u003e\\u003c\\u002fextra\\u003e\",\"legendgroup\":\"Asia\",\"marker\":{\"color\":\"#f53e31\",\"pattern\":{\"shape\":\"\"}},\"name\":\"Asia\",\"offsetgroup\":\"Asia\",\"orientation\":\"v\",\"showlegend\":true,\"text\":[2.0],\"textposition\":\"auto\",\"x\":[\"Asia\"],\"xaxis\":\"x\",\"y\":[2.0],\"yaxis\":\"y\",\"type\":\"bar\"},{\"alignmentgroup\":\"True\",\"hovertemplate\":\"continent=%{x}\\u003cbr\\u003eyear_added=2015\\u003cbr\\u003ecumsum=%{text}\\u003cextra\\u003e\\u003c\\u002fextra\\u003e\",\"legendgroup\":\"Australia\",\"marker\":{\"color\":\"#000000\",\"pattern\":{\"shape\":\"\"}},\"name\":\"Australia\",\"offsetgroup\":\"Australia\",\"orientation\":\"v\",\"showlegend\":true,\"text\":[7.0],\"textposition\":\"auto\",\"x\":[\"Australia\"],\"xaxis\":\"x\",\"y\":[7.0],\"yaxis\":\"y\",\"type\":\"bar\"},{\"alignmentgroup\":\"True\",\"hovertemplate\":\"continent=%{x}\\u003cbr\\u003eyear_added=2015\\u003cbr\\u003ecumsum=%{text}\\u003cextra\\u003e\\u003c\\u002fextra\\u003e\",\"legendgroup\":\"Europe\",\"marker\":{\"color\":\"#f53e31\",\"pattern\":{\"shape\":\"\"}},\"name\":\"Europe\",\"offsetgroup\":\"Europe\",\"orientation\":\"v\",\"showlegend\":true,\"text\":[42.0],\"textposition\":\"auto\",\"x\":[\"Europe\"],\"xaxis\":\"x\",\"y\":[42.0],\"yaxis\":\"y\",\"type\":\"bar\"},{\"alignmentgroup\":\"True\",\"hovertemplate\":\"continent=%{x}\\u003cbr\\u003eyear_added=2015\\u003cbr\\u003ecumsum=%{text}\\u003cextra\\u003e\\u003c\\u002fextra\\u003e\",\"legendgroup\":\"North America\",\"marker\":{\"color\":\"#db0000\",\"pattern\":{\"shape\":\"\"}},\"name\":\"North America\",\"offsetgroup\":\"North America\",\"orientation\":\"v\",\"showlegend\":true,\"text\":[122.0],\"textposition\":\"auto\",\"x\":[\"North America\"],\"xaxis\":\"x\",\"y\":[122.0],\"yaxis\":\"y\",\"type\":\"bar\"},{\"alignmentgroup\":\"True\",\"hovertemplate\":\"continent=%{x}\\u003cbr\\u003eyear_added=2015\\u003cbr\\u003ecumsum=%{text}\\u003cextra\\u003e\\u003c\\u002fextra\\u003e\",\"legendgroup\":\"South America\",\"marker\":{\"color\":\"#000000\",\"pattern\":{\"shape\":\"\"}},\"name\":\"South America\",\"offsetgroup\":\"South America\",\"orientation\":\"v\",\"showlegend\":true,\"text\":[1.0],\"textposition\":\"auto\",\"x\":[\"South America\"],\"xaxis\":\"x\",\"y\":[1.0],\"yaxis\":\"y\",\"type\":\"bar\"}],\"name\":\"2015\"},{\"data\":[{\"alignmentgroup\":\"True\",\"hovertemplate\":\"continent=%{x}\\u003cbr\\u003eyear_added=2016\\u003cbr\\u003ecumsum=%{text}\\u003cextra\\u003e\\u003c\\u002fextra\\u003e\",\"legendgroup\":\"Africa\",\"marker\":{\"color\":\"#000000\",\"pattern\":{\"shape\":\"\"}},\"name\":\"Africa\",\"offsetgroup\":\"Africa\",\"orientation\":\"v\",\"showlegend\":true,\"text\":[6.0],\"textposition\":\"auto\",\"x\":[\"Africa\"],\"xaxis\":\"x\",\"y\":[6.0],\"yaxis\":\"y\",\"type\":\"bar\"},{\"alignmentgroup\":\"True\",\"hovertemplate\":\"continent=%{x}\\u003cbr\\u003eyear_added=2016\\u003cbr\\u003ecumsum=%{text}\\u003cextra\\u003e\\u003c\\u002fextra\\u003e\",\"legendgroup\":\"Asia\",\"marker\":{\"color\":\"#f53e31\",\"pattern\":{\"shape\":\"\"}},\"name\":\"Asia\",\"offsetgroup\":\"Asia\",\"orientation\":\"v\",\"showlegend\":true,\"text\":[109.0],\"textposition\":\"auto\",\"x\":[\"Asia\"],\"xaxis\":\"x\",\"y\":[109.0],\"yaxis\":\"y\",\"type\":\"bar\"},{\"alignmentgroup\":\"True\",\"hovertemplate\":\"continent=%{x}\\u003cbr\\u003eyear_added=2016\\u003cbr\\u003ecumsum=%{text}\\u003cextra\\u003e\\u003c\\u002fextra\\u003e\",\"legendgroup\":\"Australia\",\"marker\":{\"color\":\"#000000\",\"pattern\":{\"shape\":\"\"}},\"name\":\"Australia\",\"offsetgroup\":\"Australia\",\"orientation\":\"v\",\"showlegend\":true,\"text\":[19.0],\"textposition\":\"auto\",\"x\":[\"Australia\"],\"xaxis\":\"x\",\"y\":[19.0],\"yaxis\":\"y\",\"type\":\"bar\"},{\"alignmentgroup\":\"True\",\"hovertemplate\":\"continent=%{x}\\u003cbr\\u003eyear_added=2016\\u003cbr\\u003ecumsum=%{text}\\u003cextra\\u003e\\u003c\\u002fextra\\u003e\",\"legendgroup\":\"Europe\",\"marker\":{\"color\":\"#f53e31\",\"pattern\":{\"shape\":\"\"}},\"name\":\"Europe\",\"offsetgroup\":\"Europe\",\"orientation\":\"v\",\"showlegend\":true,\"text\":[203.0],\"textposition\":\"auto\",\"x\":[\"Europe\"],\"xaxis\":\"x\",\"y\":[203.0],\"yaxis\":\"y\",\"type\":\"bar\"},{\"alignmentgroup\":\"True\",\"hovertemplate\":\"continent=%{x}\\u003cbr\\u003eyear_added=2016\\u003cbr\\u003ecumsum=%{text}\\u003cextra\\u003e\\u003c\\u002fextra\\u003e\",\"legendgroup\":\"North America\",\"marker\":{\"color\":\"#db0000\",\"pattern\":{\"shape\":\"\"}},\"name\":\"North America\",\"offsetgroup\":\"North America\",\"orientation\":\"v\",\"showlegend\":true,\"text\":[365.0],\"textposition\":\"auto\",\"x\":[\"North America\"],\"xaxis\":\"x\",\"y\":[365.0],\"yaxis\":\"y\",\"type\":\"bar\"},{\"alignmentgroup\":\"True\",\"hovertemplate\":\"continent=%{x}\\u003cbr\\u003eyear_added=2016\\u003cbr\\u003ecumsum=%{text}\\u003cextra\\u003e\\u003c\\u002fextra\\u003e\",\"legendgroup\":\"South America\",\"marker\":{\"color\":\"#000000\",\"pattern\":{\"shape\":\"\"}},\"name\":\"South America\",\"offsetgroup\":\"South America\",\"orientation\":\"v\",\"showlegend\":true,\"text\":[13.0],\"textposition\":\"auto\",\"x\":[\"South America\"],\"xaxis\":\"x\",\"y\":[13.0],\"yaxis\":\"y\",\"type\":\"bar\"}],\"name\":\"2016\"},{\"data\":[{\"alignmentgroup\":\"True\",\"hovertemplate\":\"continent=%{x}\\u003cbr\\u003eyear_added=2017\\u003cbr\\u003ecumsum=%{text}\\u003cextra\\u003e\\u003c\\u002fextra\\u003e\",\"legendgroup\":\"Africa\",\"marker\":{\"color\":\"#000000\",\"pattern\":{\"shape\":\"\"}},\"name\":\"Africa\",\"offsetgroup\":\"Africa\",\"orientation\":\"v\",\"showlegend\":true,\"text\":[14.0],\"textposition\":\"auto\",\"x\":[\"Africa\"],\"xaxis\":\"x\",\"y\":[14.0],\"yaxis\":\"y\",\"type\":\"bar\"},{\"alignmentgroup\":\"True\",\"hovertemplate\":\"continent=%{x}\\u003cbr\\u003eyear_added=2017\\u003cbr\\u003ecumsum=%{text}\\u003cextra\\u003e\\u003c\\u002fextra\\u003e\",\"legendgroup\":\"Asia\",\"marker\":{\"color\":\"#f53e31\",\"pattern\":{\"shape\":\"\"}},\"name\":\"Asia\",\"offsetgroup\":\"Asia\",\"orientation\":\"v\",\"showlegend\":true,\"text\":[491.0],\"textposition\":\"auto\",\"x\":[\"Asia\"],\"xaxis\":\"x\",\"y\":[491.0],\"yaxis\":\"y\",\"type\":\"bar\"},{\"alignmentgroup\":\"True\",\"hovertemplate\":\"continent=%{x}\\u003cbr\\u003eyear_added=2017\\u003cbr\\u003ecumsum=%{text}\\u003cextra\\u003e\\u003c\\u002fextra\\u003e\",\"legendgroup\":\"Australia\",\"marker\":{\"color\":\"#000000\",\"pattern\":{\"shape\":\"\"}},\"name\":\"Australia\",\"offsetgroup\":\"Australia\",\"orientation\":\"v\",\"showlegend\":true,\"text\":[47.0],\"textposition\":\"auto\",\"x\":[\"Australia\"],\"xaxis\":\"x\",\"y\":[47.0],\"yaxis\":\"y\",\"type\":\"bar\"},{\"alignmentgroup\":\"True\",\"hovertemplate\":\"continent=%{x}\\u003cbr\\u003eyear_added=2017\\u003cbr\\u003ecumsum=%{text}\\u003cextra\\u003e\\u003c\\u002fextra\\u003e\",\"legendgroup\":\"Europe\",\"marker\":{\"color\":\"#f53e31\",\"pattern\":{\"shape\":\"\"}},\"name\":\"Europe\",\"offsetgroup\":\"Europe\",\"orientation\":\"v\",\"showlegend\":true,\"text\":[572.0],\"textposition\":\"auto\",\"x\":[\"Europe\"],\"xaxis\":\"x\",\"y\":[572.0],\"yaxis\":\"y\",\"type\":\"bar\"},{\"alignmentgroup\":\"True\",\"hovertemplate\":\"continent=%{x}\\u003cbr\\u003eyear_added=2017\\u003cbr\\u003ecumsum=%{text}\\u003cextra\\u003e\\u003c\\u002fextra\\u003e\",\"legendgroup\":\"North America\",\"marker\":{\"color\":\"#db0000\",\"pattern\":{\"shape\":\"\"}},\"name\":\"North America\",\"offsetgroup\":\"North America\",\"orientation\":\"v\",\"showlegend\":true,\"text\":[936.0],\"textposition\":\"auto\",\"x\":[\"North America\"],\"xaxis\":\"x\",\"y\":[936.0],\"yaxis\":\"y\",\"type\":\"bar\"},{\"alignmentgroup\":\"True\",\"hovertemplate\":\"continent=%{x}\\u003cbr\\u003eyear_added=2017\\u003cbr\\u003ecumsum=%{text}\\u003cextra\\u003e\\u003c\\u002fextra\\u003e\",\"legendgroup\":\"South America\",\"marker\":{\"color\":\"#000000\",\"pattern\":{\"shape\":\"\"}},\"name\":\"South America\",\"offsetgroup\":\"South America\",\"orientation\":\"v\",\"showlegend\":true,\"text\":[64.0],\"textposition\":\"auto\",\"x\":[\"South America\"],\"xaxis\":\"x\",\"y\":[64.0],\"yaxis\":\"y\",\"type\":\"bar\"}],\"name\":\"2017\"},{\"data\":[{\"alignmentgroup\":\"True\",\"hovertemplate\":\"continent=%{x}\\u003cbr\\u003eyear_added=2018\\u003cbr\\u003ecumsum=%{text}\\u003cextra\\u003e\\u003c\\u002fextra\\u003e\",\"legendgroup\":\"Africa\",\"marker\":{\"color\":\"#000000\",\"pattern\":{\"shape\":\"\"}},\"name\":\"Africa\",\"offsetgroup\":\"Africa\",\"orientation\":\"v\",\"showlegend\":true,\"text\":[39.0],\"textposition\":\"auto\",\"x\":[\"Africa\"],\"xaxis\":\"x\",\"y\":[39.0],\"yaxis\":\"y\",\"type\":\"bar\"},{\"alignmentgroup\":\"True\",\"hovertemplate\":\"continent=%{x}\\u003cbr\\u003eyear_added=2018\\u003cbr\\u003ecumsum=%{text}\\u003cextra\\u003e\\u003c\\u002fextra\\u003e\",\"legendgroup\":\"Asia\",\"marker\":{\"color\":\"#f53e31\",\"pattern\":{\"shape\":\"\"}},\"name\":\"Asia\",\"offsetgroup\":\"Asia\",\"orientation\":\"v\",\"showlegend\":true,\"text\":[1141.0],\"textposition\":\"auto\",\"x\":[\"Asia\"],\"xaxis\":\"x\",\"y\":[1141.0],\"yaxis\":\"y\",\"type\":\"bar\"},{\"alignmentgroup\":\"True\",\"hovertemplate\":\"continent=%{x}\\u003cbr\\u003eyear_added=2018\\u003cbr\\u003ecumsum=%{text}\\u003cextra\\u003e\\u003c\\u002fextra\\u003e\",\"legendgroup\":\"Australia\",\"marker\":{\"color\":\"#000000\",\"pattern\":{\"shape\":\"\"}},\"name\":\"Australia\",\"offsetgroup\":\"Australia\",\"orientation\":\"v\",\"showlegend\":true,\"text\":[92.0],\"textposition\":\"auto\",\"x\":[\"Australia\"],\"xaxis\":\"x\",\"y\":[92.0],\"yaxis\":\"y\",\"type\":\"bar\"},{\"alignmentgroup\":\"True\",\"hovertemplate\":\"continent=%{x}\\u003cbr\\u003eyear_added=2018\\u003cbr\\u003ecumsum=%{text}\\u003cextra\\u003e\\u003c\\u002fextra\\u003e\",\"legendgroup\":\"Europe\",\"marker\":{\"color\":\"#f53e31\",\"pattern\":{\"shape\":\"\"}},\"name\":\"Europe\",\"offsetgroup\":\"Europe\",\"orientation\":\"v\",\"showlegend\":true,\"text\":[982.0],\"textposition\":\"auto\",\"x\":[\"Europe\"],\"xaxis\":\"x\",\"y\":[982.0],\"yaxis\":\"y\",\"type\":\"bar\"},{\"alignmentgroup\":\"True\",\"hovertemplate\":\"continent=%{x}\\u003cbr\\u003eyear_added=2018\\u003cbr\\u003ecumsum=%{text}\\u003cextra\\u003e\\u003c\\u002fextra\\u003e\",\"legendgroup\":\"North America\",\"marker\":{\"color\":\"#db0000\",\"pattern\":{\"shape\":\"\"}},\"name\":\"North America\",\"offsetgroup\":\"North America\",\"orientation\":\"v\",\"showlegend\":true,\"text\":[1651.0],\"textposition\":\"auto\",\"x\":[\"North America\"],\"xaxis\":\"x\",\"y\":[1651.0],\"yaxis\":\"y\",\"type\":\"bar\"},{\"alignmentgroup\":\"True\",\"hovertemplate\":\"continent=%{x}\\u003cbr\\u003eyear_added=2018\\u003cbr\\u003ecumsum=%{text}\\u003cextra\\u003e\\u003c\\u002fextra\\u003e\",\"legendgroup\":\"South America\",\"marker\":{\"color\":\"#000000\",\"pattern\":{\"shape\":\"\"}},\"name\":\"South America\",\"offsetgroup\":\"South America\",\"orientation\":\"v\",\"showlegend\":true,\"text\":[138.0],\"textposition\":\"auto\",\"x\":[\"South America\"],\"xaxis\":\"x\",\"y\":[138.0],\"yaxis\":\"y\",\"type\":\"bar\"}],\"name\":\"2018\"},{\"data\":[{\"alignmentgroup\":\"True\",\"hovertemplate\":\"continent=%{x}\\u003cbr\\u003eyear_added=2019\\u003cbr\\u003ecumsum=%{text}\\u003cextra\\u003e\\u003c\\u002fextra\\u003e\",\"legendgroup\":\"Africa\",\"marker\":{\"color\":\"#000000\",\"pattern\":{\"shape\":\"\"}},\"name\":\"Africa\",\"offsetgroup\":\"Africa\",\"orientation\":\"v\",\"showlegend\":true,\"text\":[137.0],\"textposition\":\"auto\",\"x\":[\"Africa\"],\"xaxis\":\"x\",\"y\":[137.0],\"yaxis\":\"y\",\"type\":\"bar\"},{\"alignmentgroup\":\"True\",\"hovertemplate\":\"continent=%{x}\\u003cbr\\u003eyear_added=2019\\u003cbr\\u003ecumsum=%{text}\\u003cextra\\u003e\\u003c\\u002fextra\\u003e\",\"legendgroup\":\"Asia\",\"marker\":{\"color\":\"#f53e31\",\"pattern\":{\"shape\":\"\"}},\"name\":\"Asia\",\"offsetgroup\":\"Asia\",\"orientation\":\"v\",\"showlegend\":true,\"text\":[1726.0],\"textposition\":\"auto\",\"x\":[\"Asia\"],\"xaxis\":\"x\",\"y\":[1726.0],\"yaxis\":\"y\",\"type\":\"bar\"},{\"alignmentgroup\":\"True\",\"hovertemplate\":\"continent=%{x}\\u003cbr\\u003eyear_added=2019\\u003cbr\\u003ecumsum=%{text}\\u003cextra\\u003e\\u003c\\u002fextra\\u003e\",\"legendgroup\":\"Australia\",\"marker\":{\"color\":\"#000000\",\"pattern\":{\"shape\":\"\"}},\"name\":\"Australia\",\"offsetgroup\":\"Australia\",\"orientation\":\"v\",\"showlegend\":true,\"text\":[131.0],\"textposition\":\"auto\",\"x\":[\"Australia\"],\"xaxis\":\"x\",\"y\":[131.0],\"yaxis\":\"y\",\"type\":\"bar\"},{\"alignmentgroup\":\"True\",\"hovertemplate\":\"continent=%{x}\\u003cbr\\u003eyear_added=2019\\u003cbr\\u003ecumsum=%{text}\\u003cextra\\u003e\\u003c\\u002fextra\\u003e\",\"legendgroup\":\"Europe\",\"marker\":{\"color\":\"#f53e31\",\"pattern\":{\"shape\":\"\"}},\"name\":\"Europe\",\"offsetgroup\":\"Europe\",\"orientation\":\"v\",\"showlegend\":true,\"text\":[1480.0],\"textposition\":\"auto\",\"x\":[\"Europe\"],\"xaxis\":\"x\",\"y\":[1480.0],\"yaxis\":\"y\",\"type\":\"bar\"},{\"alignmentgroup\":\"True\",\"hovertemplate\":\"continent=%{x}\\u003cbr\\u003eyear_added=2019\\u003cbr\\u003ecumsum=%{text}\\u003cextra\\u003e\\u003c\\u002fextra\\u003e\",\"legendgroup\":\"North America\",\"marker\":{\"color\":\"#db0000\",\"pattern\":{\"shape\":\"\"}},\"name\":\"North America\",\"offsetgroup\":\"North America\",\"orientation\":\"v\",\"showlegend\":true,\"text\":[2631.0],\"textposition\":\"auto\",\"x\":[\"North America\"],\"xaxis\":\"x\",\"y\":[2631.0],\"yaxis\":\"y\",\"type\":\"bar\"},{\"alignmentgroup\":\"True\",\"hovertemplate\":\"continent=%{x}\\u003cbr\\u003eyear_added=2019\\u003cbr\\u003ecumsum=%{text}\\u003cextra\\u003e\\u003c\\u002fextra\\u003e\",\"legendgroup\":\"South America\",\"marker\":{\"color\":\"#000000\",\"pattern\":{\"shape\":\"\"}},\"name\":\"South America\",\"offsetgroup\":\"South America\",\"orientation\":\"v\",\"showlegend\":true,\"text\":[200.0],\"textposition\":\"auto\",\"x\":[\"South America\"],\"xaxis\":\"x\",\"y\":[200.0],\"yaxis\":\"y\",\"type\":\"bar\"}],\"name\":\"2019\"},{\"data\":[{\"alignmentgroup\":\"True\",\"hovertemplate\":\"continent=%{x}\\u003cbr\\u003eyear_added=2020\\u003cbr\\u003ecumsum=%{text}\\u003cextra\\u003e\\u003c\\u002fextra\\u003e\",\"legendgroup\":\"Africa\",\"marker\":{\"color\":\"#000000\",\"pattern\":{\"shape\":\"\"}},\"name\":\"Africa\",\"offsetgroup\":\"Africa\",\"orientation\":\"v\",\"showlegend\":true,\"text\":[268.0],\"textposition\":\"auto\",\"x\":[\"Africa\"],\"xaxis\":\"x\",\"y\":[268.0],\"yaxis\":\"y\",\"type\":\"bar\"},{\"alignmentgroup\":\"True\",\"hovertemplate\":\"continent=%{x}\\u003cbr\\u003eyear_added=2020\\u003cbr\\u003ecumsum=%{text}\\u003cextra\\u003e\\u003c\\u002fextra\\u003e\",\"legendgroup\":\"Asia\",\"marker\":{\"color\":\"#f53e31\",\"pattern\":{\"shape\":\"\"}},\"name\":\"Asia\",\"offsetgroup\":\"Asia\",\"orientation\":\"v\",\"showlegend\":true,\"text\":[2263.0],\"textposition\":\"auto\",\"x\":[\"Asia\"],\"xaxis\":\"x\",\"y\":[2263.0],\"yaxis\":\"y\",\"type\":\"bar\"},{\"alignmentgroup\":\"True\",\"hovertemplate\":\"continent=%{x}\\u003cbr\\u003eyear_added=2020\\u003cbr\\u003ecumsum=%{text}\\u003cextra\\u003e\\u003c\\u002fextra\\u003e\",\"legendgroup\":\"Australia\",\"marker\":{\"color\":\"#000000\",\"pattern\":{\"shape\":\"\"}},\"name\":\"Australia\",\"offsetgroup\":\"Australia\",\"orientation\":\"v\",\"showlegend\":true,\"text\":[165.0],\"textposition\":\"auto\",\"x\":[\"Australia\"],\"xaxis\":\"x\",\"y\":[165.0],\"yaxis\":\"y\",\"type\":\"bar\"},{\"alignmentgroup\":\"True\",\"hovertemplate\":\"continent=%{x}\\u003cbr\\u003eyear_added=2020\\u003cbr\\u003ecumsum=%{text}\\u003cextra\\u003e\\u003c\\u002fextra\\u003e\",\"legendgroup\":\"Europe\",\"marker\":{\"color\":\"#f53e31\",\"pattern\":{\"shape\":\"\"}},\"name\":\"Europe\",\"offsetgroup\":\"Europe\",\"orientation\":\"v\",\"showlegend\":true,\"text\":[1972.0],\"textposition\":\"auto\",\"x\":[\"Europe\"],\"xaxis\":\"x\",\"y\":[1972.0],\"yaxis\":\"y\",\"type\":\"bar\"},{\"alignmentgroup\":\"True\",\"hovertemplate\":\"continent=%{x}\\u003cbr\\u003eyear_added=2020\\u003cbr\\u003ecumsum=%{text}\\u003cextra\\u003e\\u003c\\u002fextra\\u003e\",\"legendgroup\":\"North America\",\"marker\":{\"color\":\"#db0000\",\"pattern\":{\"shape\":\"\"}},\"name\":\"North America\",\"offsetgroup\":\"North America\",\"orientation\":\"v\",\"showlegend\":true,\"text\":[3602.0],\"textposition\":\"auto\",\"x\":[\"North America\"],\"xaxis\":\"x\",\"y\":[3602.0],\"yaxis\":\"y\",\"type\":\"bar\"},{\"alignmentgroup\":\"True\",\"hovertemplate\":\"continent=%{x}\\u003cbr\\u003eyear_added=2020\\u003cbr\\u003ecumsum=%{text}\\u003cextra\\u003e\\u003c\\u002fextra\\u003e\",\"legendgroup\":\"South America\",\"marker\":{\"color\":\"#000000\",\"pattern\":{\"shape\":\"\"}},\"name\":\"South America\",\"offsetgroup\":\"South America\",\"orientation\":\"v\",\"showlegend\":true,\"text\":[262.0],\"textposition\":\"auto\",\"x\":[\"South America\"],\"xaxis\":\"x\",\"y\":[262.0],\"yaxis\":\"y\",\"type\":\"bar\"}],\"name\":\"2020\"},{\"data\":[{\"alignmentgroup\":\"True\",\"hovertemplate\":\"continent=%{x}\\u003cbr\\u003eyear_added=2021\\u003cbr\\u003ecumsum=%{text}\\u003cextra\\u003e\\u003c\\u002fextra\\u003e\",\"legendgroup\":\"Africa\",\"marker\":{\"color\":\"#000000\",\"pattern\":{\"shape\":\"\"}},\"name\":\"Africa\",\"offsetgroup\":\"Africa\",\"orientation\":\"v\",\"showlegend\":true,\"text\":[319.0],\"textposition\":\"auto\",\"x\":[\"Africa\"],\"xaxis\":\"x\",\"y\":[319.0],\"yaxis\":\"y\",\"type\":\"bar\"},{\"alignmentgroup\":\"True\",\"hovertemplate\":\"continent=%{x}\\u003cbr\\u003eyear_added=2021\\u003cbr\\u003ecumsum=%{text}\\u003cextra\\u003e\\u003c\\u002fextra\\u003e\",\"legendgroup\":\"Asia\",\"marker\":{\"color\":\"#f53e31\",\"pattern\":{\"shape\":\"\"}},\"name\":\"Asia\",\"offsetgroup\":\"Asia\",\"orientation\":\"v\",\"showlegend\":true,\"text\":[2572.0],\"textposition\":\"auto\",\"x\":[\"Asia\"],\"xaxis\":\"x\",\"y\":[2572.0],\"yaxis\":\"y\",\"type\":\"bar\"},{\"alignmentgroup\":\"True\",\"hovertemplate\":\"continent=%{x}\\u003cbr\\u003eyear_added=2021\\u003cbr\\u003ecumsum=%{text}\\u003cextra\\u003e\\u003c\\u002fextra\\u003e\",\"legendgroup\":\"Australia\",\"marker\":{\"color\":\"#000000\",\"pattern\":{\"shape\":\"\"}},\"name\":\"Australia\",\"offsetgroup\":\"Australia\",\"orientation\":\"v\",\"showlegend\":true,\"text\":[195.0],\"textposition\":\"auto\",\"x\":[\"Australia\"],\"xaxis\":\"x\",\"y\":[195.0],\"yaxis\":\"y\",\"type\":\"bar\"},{\"alignmentgroup\":\"True\",\"hovertemplate\":\"continent=%{x}\\u003cbr\\u003eyear_added=2021\\u003cbr\\u003ecumsum=%{text}\\u003cextra\\u003e\\u003c\\u002fextra\\u003e\",\"legendgroup\":\"Europe\",\"marker\":{\"color\":\"#f53e31\",\"pattern\":{\"shape\":\"\"}},\"name\":\"Europe\",\"offsetgroup\":\"Europe\",\"orientation\":\"v\",\"showlegend\":true,\"text\":[2307.0],\"textposition\":\"auto\",\"x\":[\"Europe\"],\"xaxis\":\"x\",\"y\":[2307.0],\"yaxis\":\"y\",\"type\":\"bar\"},{\"alignmentgroup\":\"True\",\"hovertemplate\":\"continent=%{x}\\u003cbr\\u003eyear_added=2021\\u003cbr\\u003ecumsum=%{text}\\u003cextra\\u003e\\u003c\\u002fextra\\u003e\",\"legendgroup\":\"North America\",\"marker\":{\"color\":\"#db0000\",\"pattern\":{\"shape\":\"\"}},\"name\":\"North America\",\"offsetgroup\":\"North America\",\"orientation\":\"v\",\"showlegend\":true,\"text\":[4310.0],\"textposition\":\"auto\",\"x\":[\"North America\"],\"xaxis\":\"x\",\"y\":[4310.0],\"yaxis\":\"y\",\"type\":\"bar\"},{\"alignmentgroup\":\"True\",\"hovertemplate\":\"continent=%{x}\\u003cbr\\u003eyear_added=2021\\u003cbr\\u003ecumsum=%{text}\\u003cextra\\u003e\\u003c\\u002fextra\\u003e\",\"legendgroup\":\"South America\",\"marker\":{\"color\":\"#000000\",\"pattern\":{\"shape\":\"\"}},\"name\":\"South America\",\"offsetgroup\":\"South America\",\"orientation\":\"v\",\"showlegend\":true,\"text\":[299.0],\"textposition\":\"auto\",\"x\":[\"South America\"],\"xaxis\":\"x\",\"y\":[299.0],\"yaxis\":\"y\",\"type\":\"bar\"}],\"name\":\"2021\"}]);\n",
       "                        }).then(function(){\n",
       "                            \n",
       "var gd = document.getElementById('4d75152e-04a0-4f79-96b2-dbcd5d262b80');\n",
       "var x = new MutationObserver(function (mutations, observer) {{\n",
       "        var display = window.getComputedStyle(gd).display;\n",
       "        if (!display || display === 'none') {{\n",
       "            console.log([gd, 'removed!']);\n",
       "            Plotly.purge(gd);\n",
       "            observer.disconnect();\n",
       "        }}\n",
       "}});\n",
       "\n",
       "// Listen for the removal of the full notebook cells\n",
       "var notebookContainer = gd.closest('#notebook-container');\n",
       "if (notebookContainer) {{\n",
       "    x.observe(notebookContainer, {childList: true});\n",
       "}}\n",
       "\n",
       "// Listen for the clearing of the current output cell\n",
       "var outputEl = gd.closest('.output');\n",
       "if (outputEl) {{\n",
       "    x.observe(outputEl, {childList: true});\n",
       "}}\n",
       "\n",
       "                        })                };                });            </script>        </div>"
      ]
     },
     "metadata": {},
     "output_type": "display_data"
    }
   ],
   "source": [
    "fig = px.bar(year_by_continent,x=\"continent\",y=\"cumsum\",color=\"continent\",animation_frame=\"year_added\",range_y=[0,4400],\n",
    "             text=\"cumsum\",color_discrete_sequence=[\"#000000\",\"#f53e31\",\"#000000\",\"#f53e31\",\"#db0000\",\"#000000\"])\n",
    "fig.update_traces(textposition=\"outside\",\n",
    "                  marker_line = dict(color=\"black\",width=1),\n",
    "                  width=.6)\n",
    "fig.update_layout(plot_bgcolor=\"#f0e0df\",\n",
    "                  showlegend=False,\n",
    "                 title = \"Total Amount of Content from each Continent from 2008 to 2021\",\n",
    "                 title_font = {\"size\":22,\"family\":\"Caslon\"}\n",
    "                 )\n",
    "fig.update_xaxes(title_text=\"\", title_font=dict(size=14),showline=True,linecolor=\"black\") \n",
    "fig.update_yaxes(title_text=\"Total\", title_font=dict(size=14),showline=True,linecolor=\"black\",side=\"left\")\n",
    "fig.update_yaxes(tickvals=list(range(0, 4501, 500)), ticktext=list(range(0, 4501, 500)))\n",
    "\n",
    "fig.update_layout(xaxis={'categoryorder':'total ascending'})"
   ]
  },
  {
   "cell_type": "code",
   "execution_count": 761,
   "id": "9b842807",
   "metadata": {},
   "outputs": [],
   "source": [
    "fig.write_html(\"bar.html\")"
   ]
  },
  {
   "cell_type": "markdown",
   "id": "b8895428",
   "metadata": {},
   "source": [
    "# Revenue plot"
   ]
  },
  {
   "cell_type": "code",
   "execution_count": 762,
   "id": "0a2619bb",
   "metadata": {},
   "outputs": [],
   "source": [
    "revenue = pd.read_csv(\"netflix.csv\")"
   ]
  },
  {
   "cell_type": "code",
   "execution_count": 763,
   "id": "b8fb62ad",
   "metadata": {},
   "outputs": [],
   "source": [
    "revenue.rename(columns={'Category': \"year\"}, inplace=True)"
   ]
  },
  {
   "cell_type": "code",
   "execution_count": 764,
   "id": "63959d91",
   "metadata": {},
   "outputs": [],
   "source": [
    "revenue.columns = revenue.columns.str.lower()"
   ]
  },
  {
   "cell_type": "code",
   "execution_count": 765,
   "id": "c74d2c87",
   "metadata": {},
   "outputs": [],
   "source": [
    "revenue = revenue[[\"year\",\"total revenue\",\"net income/loss\"]]"
   ]
  },
  {
   "cell_type": "code",
   "execution_count": 766,
   "id": "21812b93",
   "metadata": {},
   "outputs": [],
   "source": [
    "revenue = pd.melt(revenue,id_vars=\"year\",var_name=\"type\",value_name=\"amount\")"
   ]
  },
  {
   "cell_type": "code",
   "execution_count": 767,
   "id": "8279a53f",
   "metadata": {},
   "outputs": [
    {
     "data": {
      "image/png": "[encoded data removed]",
      "text/plain": [
       "<Figure size 1100x500 with 1 Axes>"
      ]
     },
     "metadata": {
      "image/png": {
       "height": 500,
       "width": 1100
      }
     },
     "output_type": "display_data"
    },
    {
     "data": {
      "text/plain": [
       "<Figure Size: (1100 x 500)>"
      ]
     },
     "execution_count": 767,
     "metadata": {},
     "output_type": "execute_result"
    }
   ],
   "source": [
    "revenue_plot = (\n",
    "    ggplot(revenue,aes(x=\"year\",y=\"amount\",fill=\"type\"))+\n",
    "    geom_bar(stat=\"identity\",position=\"dodge\",color=\"black\",width=.9)+\n",
    "    theme_classic()+\n",
    "    theme(figure_size=(11,5),\n",
    "         axis_text_x=element_text(angle=0, hjust=1,size=11),\n",
    "         axis_text_y=element_text(size=11),\n",
    "         axis_title_x=element_text(hjust=1),\n",
    "         axis_title_y=element_text(vjust=1,angle=0),\n",
    "         plot_title=element_text(size=16, face=\"bold\",family=\"Times New Roman\"),\n",
    "         panel_background=element_rect(fill=\"#f0e0df\")\n",
    "         )+\n",
    "    scale_fill_manual([\"black\",\"#db0000\"])+\n",
    "    labs(y=\"Money (millions)\",\n",
    "         x=\"Year\",\n",
    "         title=\"Total Revenue and Net Income from 1998 to 2022\")+\n",
    "    scale_x_continuous( breaks=[1998, 2015, 2022],  \n",
    "        labels=[1998, 2015, 2022])+\n",
    "    scale_y_continuous(breaks=range(0,40000,5000))+\n",
    "    geom_vline(xintercept=2015, color='skyblue', linetype='dashed', size=1)+\n",
    "    annotate(\"rect\",xmin=2006.9,xmax=2013,\n",
    "              ymin=23000,ymax=27000,\n",
    "              fill=\"#f7d2d0\",\n",
    "              color=\"black\")+\n",
    "    annotate(\"text\", x=2010, y=25000, label=\"Revenue starts growing fast!\", size=10, color=\"#130200\",\n",
    "             family=\"Times New Roman\")+\n",
    "    geom_segment(x=2013, y=25000, xend=2015, yend=25000, color=\"black\", size=0.5)\n",
    "\n",
    "\n",
    ")\n",
    "revenue_plot\n"
   ]
  },
  {
   "cell_type": "code",
   "execution_count": 189,
   "id": "2413345b",
   "metadata": {},
   "outputs": [],
   "source": [
    "#ggsave(revenue_plot, \"revenue_plot.png\", dpi=300, width=10, height=5)"
   ]
  },
  {
   "cell_type": "markdown",
   "id": "9561722a",
   "metadata": {},
   "source": [
    "# Map of top 5 countries"
   ]
  },
  {
   "cell_type": "code",
   "execution_count": 768,
   "id": "be5f62c7",
   "metadata": {},
   "outputs": [],
   "source": [
    "top_continents = year_by_country.query(\"continent in ['North America', 'Europe', 'Asia']\")"
   ]
  },
  {
   "cell_type": "code",
   "execution_count": 769,
   "id": "78a9c112",
   "metadata": {},
   "outputs": [
    {
     "data": {
      "text/html": [
       "<div>\n",
       "<style scoped>\n",
       "    .dataframe tbody tr th:only-of-type {\n",
       "        vertical-align: middle;\n",
       "    }\n",
       "\n",
       "    .dataframe tbody tr th {\n",
       "        vertical-align: top;\n",
       "    }\n",
       "\n",
       "    .dataframe thead th {\n",
       "        text-align: right;\n",
       "    }\n",
       "</style>\n",
       "<table border=\"1\" class=\"dataframe\">\n",
       "  <thead>\n",
       "    <tr style=\"text-align: right;\">\n",
       "      <th></th>\n",
       "      <th>year_added</th>\n",
       "      <th>country</th>\n",
       "      <th>count</th>\n",
       "      <th>continent</th>\n",
       "    </tr>\n",
       "  </thead>\n",
       "  <tbody>\n",
       "    <tr>\n",
       "      <th>0</th>\n",
       "      <td>2008.0</td>\n",
       "      <td>United States</td>\n",
       "      <td>2</td>\n",
       "      <td>North America</td>\n",
       "    </tr>\n",
       "    <tr>\n",
       "      <th>1</th>\n",
       "      <td>2009.0</td>\n",
       "      <td>Denmark</td>\n",
       "      <td>1</td>\n",
       "      <td>Europe</td>\n",
       "    </tr>\n",
       "    <tr>\n",
       "      <th>2</th>\n",
       "      <td>2009.0</td>\n",
       "      <td>United States</td>\n",
       "      <td>1</td>\n",
       "      <td>North America</td>\n",
       "    </tr>\n",
       "    <tr>\n",
       "      <th>3</th>\n",
       "      <td>2010.0</td>\n",
       "      <td>United States</td>\n",
       "      <td>1</td>\n",
       "      <td>North America</td>\n",
       "    </tr>\n",
       "    <tr>\n",
       "      <th>4</th>\n",
       "      <td>2011.0</td>\n",
       "      <td>France</td>\n",
       "      <td>2</td>\n",
       "      <td>Europe</td>\n",
       "    </tr>\n",
       "    <tr>\n",
       "      <th>...</th>\n",
       "      <td>...</td>\n",
       "      <td>...</td>\n",
       "      <td>...</td>\n",
       "      <td>...</td>\n",
       "    </tr>\n",
       "    <tr>\n",
       "      <th>464</th>\n",
       "      <td>2021.0</td>\n",
       "      <td>Turkey</td>\n",
       "      <td>26</td>\n",
       "      <td>Asia</td>\n",
       "    </tr>\n",
       "    <tr>\n",
       "      <th>465</th>\n",
       "      <td>2021.0</td>\n",
       "      <td>United Arab Emirates</td>\n",
       "      <td>4</td>\n",
       "      <td>Asia</td>\n",
       "    </tr>\n",
       "    <tr>\n",
       "      <th>466</th>\n",
       "      <td>2021.0</td>\n",
       "      <td>United Kingdom</td>\n",
       "      <td>120</td>\n",
       "      <td>Europe</td>\n",
       "    </tr>\n",
       "    <tr>\n",
       "      <th>467</th>\n",
       "      <td>2021.0</td>\n",
       "      <td>United States</td>\n",
       "      <td>627</td>\n",
       "      <td>North America</td>\n",
       "    </tr>\n",
       "    <tr>\n",
       "      <th>470</th>\n",
       "      <td>2021.0</td>\n",
       "      <td>Vietnam</td>\n",
       "      <td>2</td>\n",
       "      <td>Asia</td>\n",
       "    </tr>\n",
       "  </tbody>\n",
       "</table>\n",
       "<p>367 rows × 4 columns</p>\n",
       "</div>"
      ],
      "text/plain": [
       "     year_added               country  count      continent\n",
       "0        2008.0         United States      2  North America\n",
       "1        2009.0               Denmark      1         Europe\n",
       "2        2009.0         United States      1  North America\n",
       "3        2010.0         United States      1  North America\n",
       "4        2011.0                France      2         Europe\n",
       "..          ...                   ...    ...            ...\n",
       "464      2021.0                Turkey     26           Asia\n",
       "465      2021.0  United Arab Emirates      4           Asia\n",
       "466      2021.0        United Kingdom    120         Europe\n",
       "467      2021.0         United States    627  North America\n",
       "470      2021.0               Vietnam      2           Asia\n",
       "\n",
       "[367 rows x 4 columns]"
      ]
     },
     "execution_count": 769,
     "metadata": {},
     "output_type": "execute_result"
    }
   ],
   "source": [
    "top_continents"
   ]
  },
  {
   "cell_type": "markdown",
   "id": "293099b1",
   "metadata": {},
   "source": [
    "Referenced  https://www.statology.org/pandas-groupby-nlargest/ on how to pull the top 5 countries "
   ]
  },
  {
   "cell_type": "code",
   "execution_count": 770,
   "id": "d94f6667",
   "metadata": {},
   "outputs": [],
   "source": [
    "count_by_country = top_continents.groupby(['continent', 'country']).sum()"
   ]
  },
  {
   "cell_type": "code",
   "execution_count": 771,
   "id": "9f80c615",
   "metadata": {},
   "outputs": [
    {
     "data": {
      "text/html": [
       "<div>\n",
       "<style scoped>\n",
       "    .dataframe tbody tr th:only-of-type {\n",
       "        vertical-align: middle;\n",
       "    }\n",
       "\n",
       "    .dataframe tbody tr th {\n",
       "        vertical-align: top;\n",
       "    }\n",
       "\n",
       "    .dataframe thead th {\n",
       "        text-align: right;\n",
       "    }\n",
       "</style>\n",
       "<table border=\"1\" class=\"dataframe\">\n",
       "  <thead>\n",
       "    <tr style=\"text-align: right;\">\n",
       "      <th></th>\n",
       "      <th></th>\n",
       "      <th>year_added</th>\n",
       "      <th>count</th>\n",
       "    </tr>\n",
       "    <tr>\n",
       "      <th>continent</th>\n",
       "      <th>country</th>\n",
       "      <th></th>\n",
       "      <th></th>\n",
       "    </tr>\n",
       "  </thead>\n",
       "  <tbody>\n",
       "    <tr>\n",
       "      <th rowspan=\"5\" valign=\"top\">Asia</th>\n",
       "      <th>Afghanistan</th>\n",
       "      <td>2017.0</td>\n",
       "      <td>1</td>\n",
       "    </tr>\n",
       "    <tr>\n",
       "      <th>Armenia</th>\n",
       "      <td>2017.0</td>\n",
       "      <td>1</td>\n",
       "    </tr>\n",
       "    <tr>\n",
       "      <th>Azerbaijan</th>\n",
       "      <td>2016.0</td>\n",
       "      <td>1</td>\n",
       "    </tr>\n",
       "    <tr>\n",
       "      <th>Bangladesh</th>\n",
       "      <td>6058.0</td>\n",
       "      <td>4</td>\n",
       "    </tr>\n",
       "    <tr>\n",
       "      <th>Cambodia</th>\n",
       "      <td>10095.0</td>\n",
       "      <td>6</td>\n",
       "    </tr>\n",
       "    <tr>\n",
       "      <th>...</th>\n",
       "      <th>...</th>\n",
       "      <td>...</td>\n",
       "      <td>...</td>\n",
       "    </tr>\n",
       "    <tr>\n",
       "      <th rowspan=\"5\" valign=\"top\">North America</th>\n",
       "      <th>Mexico</th>\n",
       "      <td>18149.0</td>\n",
       "      <td>169</td>\n",
       "    </tr>\n",
       "    <tr>\n",
       "      <th>Nicaragua</th>\n",
       "      <td>2017.0</td>\n",
       "      <td>1</td>\n",
       "    </tr>\n",
       "    <tr>\n",
       "      <th>Panama</th>\n",
       "      <td>2017.0</td>\n",
       "      <td>1</td>\n",
       "    </tr>\n",
       "    <tr>\n",
       "      <th>Puerto Rico</th>\n",
       "      <td>2020.0</td>\n",
       "      <td>1</td>\n",
       "    </tr>\n",
       "    <tr>\n",
       "      <th>United States</th>\n",
       "      <td>28203.0</td>\n",
       "      <td>3684</td>\n",
       "    </tr>\n",
       "  </tbody>\n",
       "</table>\n",
       "<p>89 rows × 2 columns</p>\n",
       "</div>"
      ],
      "text/plain": [
       "                             year_added  count\n",
       "continent     country                         \n",
       "Asia          Afghanistan        2017.0      1\n",
       "              Armenia            2017.0      1\n",
       "              Azerbaijan         2016.0      1\n",
       "              Bangladesh         6058.0      4\n",
       "              Cambodia          10095.0      6\n",
       "...                                 ...    ...\n",
       "North America Mexico            18149.0    169\n",
       "              Nicaragua          2017.0      1\n",
       "              Panama             2017.0      1\n",
       "              Puerto Rico        2020.0      1\n",
       "              United States     28203.0   3684\n",
       "\n",
       "[89 rows x 2 columns]"
      ]
     },
     "execution_count": 771,
     "metadata": {},
     "output_type": "execute_result"
    }
   ],
   "source": [
    "count_by_country"
   ]
  },
  {
   "cell_type": "code",
   "execution_count": 780,
   "id": "72e56350",
   "metadata": {},
   "outputs": [],
   "source": [
    "top_5_countries = count_by_country.groupby('continent',group_keys=False).apply(lambda x: x.nlargest(5, 'count'))\n",
    "top_5_countries.reset_index(inplace=True)"
   ]
  },
  {
   "cell_type": "code",
   "execution_count": 781,
   "id": "66a53510",
   "metadata": {},
   "outputs": [
    {
     "data": {
      "text/html": [
       "<div>\n",
       "<style scoped>\n",
       "    .dataframe tbody tr th:only-of-type {\n",
       "        vertical-align: middle;\n",
       "    }\n",
       "\n",
       "    .dataframe tbody tr th {\n",
       "        vertical-align: top;\n",
       "    }\n",
       "\n",
       "    .dataframe thead th {\n",
       "        text-align: right;\n",
       "    }\n",
       "</style>\n",
       "<table border=\"1\" class=\"dataframe\">\n",
       "  <thead>\n",
       "    <tr style=\"text-align: right;\">\n",
       "      <th></th>\n",
       "      <th>continent</th>\n",
       "      <th>country</th>\n",
       "      <th>year_added</th>\n",
       "      <th>count</th>\n",
       "    </tr>\n",
       "  </thead>\n",
       "  <tbody>\n",
       "    <tr>\n",
       "      <th>0</th>\n",
       "      <td>Asia</td>\n",
       "      <td>India</td>\n",
       "      <td>12111.0</td>\n",
       "      <td>1046</td>\n",
       "    </tr>\n",
       "    <tr>\n",
       "      <th>1</th>\n",
       "      <td>Asia</td>\n",
       "      <td>Japan</td>\n",
       "      <td>14126.0</td>\n",
       "      <td>317</td>\n",
       "    </tr>\n",
       "    <tr>\n",
       "      <th>2</th>\n",
       "      <td>Asia</td>\n",
       "      <td>South Korea</td>\n",
       "      <td>12111.0</td>\n",
       "      <td>231</td>\n",
       "    </tr>\n",
       "    <tr>\n",
       "      <th>3</th>\n",
       "      <td>Asia</td>\n",
       "      <td>China</td>\n",
       "      <td>14126.0</td>\n",
       "      <td>162</td>\n",
       "    </tr>\n",
       "    <tr>\n",
       "      <th>4</th>\n",
       "      <td>Asia</td>\n",
       "      <td>Turkey</td>\n",
       "      <td>12111.0</td>\n",
       "      <td>113</td>\n",
       "    </tr>\n",
       "    <tr>\n",
       "      <th>5</th>\n",
       "      <td>Europe</td>\n",
       "      <td>United Kingdom</td>\n",
       "      <td>20164.0</td>\n",
       "      <td>805</td>\n",
       "    </tr>\n",
       "    <tr>\n",
       "      <th>6</th>\n",
       "      <td>Europe</td>\n",
       "      <td>France</td>\n",
       "      <td>16137.0</td>\n",
       "      <td>393</td>\n",
       "    </tr>\n",
       "    <tr>\n",
       "      <th>7</th>\n",
       "      <td>Europe</td>\n",
       "      <td>Spain</td>\n",
       "      <td>14122.0</td>\n",
       "      <td>232</td>\n",
       "    </tr>\n",
       "    <tr>\n",
       "      <th>8</th>\n",
       "      <td>Europe</td>\n",
       "      <td>Germany</td>\n",
       "      <td>14126.0</td>\n",
       "      <td>226</td>\n",
       "    </tr>\n",
       "    <tr>\n",
       "      <th>9</th>\n",
       "      <td>Europe</td>\n",
       "      <td>Italy</td>\n",
       "      <td>14126.0</td>\n",
       "      <td>100</td>\n",
       "    </tr>\n",
       "    <tr>\n",
       "      <th>10</th>\n",
       "      <td>North America</td>\n",
       "      <td>United States</td>\n",
       "      <td>28203.0</td>\n",
       "      <td>3684</td>\n",
       "    </tr>\n",
       "    <tr>\n",
       "      <th>11</th>\n",
       "      <td>North America</td>\n",
       "      <td>Canada</td>\n",
       "      <td>18153.0</td>\n",
       "      <td>445</td>\n",
       "    </tr>\n",
       "    <tr>\n",
       "      <th>12</th>\n",
       "      <td>North America</td>\n",
       "      <td>Mexico</td>\n",
       "      <td>18149.0</td>\n",
       "      <td>169</td>\n",
       "    </tr>\n",
       "    <tr>\n",
       "      <th>13</th>\n",
       "      <td>North America</td>\n",
       "      <td>Cayman Islands</td>\n",
       "      <td>4039.0</td>\n",
       "      <td>2</td>\n",
       "    </tr>\n",
       "    <tr>\n",
       "      <th>14</th>\n",
       "      <td>North America</td>\n",
       "      <td>Guatemala</td>\n",
       "      <td>4037.0</td>\n",
       "      <td>2</td>\n",
       "    </tr>\n",
       "  </tbody>\n",
       "</table>\n",
       "</div>"
      ],
      "text/plain": [
       "        continent         country  year_added  count\n",
       "0            Asia           India     12111.0   1046\n",
       "1            Asia           Japan     14126.0    317\n",
       "2            Asia     South Korea     12111.0    231\n",
       "3            Asia           China     14126.0    162\n",
       "4            Asia          Turkey     12111.0    113\n",
       "5          Europe  United Kingdom     20164.0    805\n",
       "6          Europe          France     16137.0    393\n",
       "7          Europe           Spain     14122.0    232\n",
       "8          Europe         Germany     14126.0    226\n",
       "9          Europe           Italy     14126.0    100\n",
       "10  North America   United States     28203.0   3684\n",
       "11  North America          Canada     18153.0    445\n",
       "12  North America          Mexico     18149.0    169\n",
       "13  North America  Cayman Islands      4039.0      2\n",
       "14  North America       Guatemala      4037.0      2"
      ]
     },
     "execution_count": 781,
     "metadata": {},
     "output_type": "execute_result"
    }
   ],
   "source": [
    "top_5_countries"
   ]
  },
  {
   "cell_type": "markdown",
   "id": "0e50a6e5",
   "metadata": {},
   "source": [
    "Referenced https://plotly.com/python/map-configuration/"
   ]
  },
  {
   "cell_type": "markdown",
   "id": "3c648829",
   "metadata": {},
   "source": [
    "Link to plot since it cannot be seen in the notebook without the data: \n",
    "https://gitmebrandonhom.github.io/map.html"
   ]
  },
  {
   "cell_type": "code",
   "execution_count": 799,
   "id": "811c425d",
   "metadata": {},
   "outputs": [
    {
     "data": {
      "application/vnd.plotly.v1+json": {
       "config": {
        "plotlyServerURL": "https://plot.ly"
       },
       "data": [
        {
         "coloraxis": "coloraxis",
         "geo": "geo",
         "hovertemplate": "<b>%{hovertext}</b><br><br>continent=Asia<br>country=%{location}<br>count=%{z}<extra></extra>",
         "hovertext": [
          "India",
          "Japan",
          "South Korea",
          "China",
          "Turkey"
         ],
         "locationmode": "country names",
         "locations": [
          "India",
          "Japan",
          "South Korea",
          "China",
          "Turkey"
         ],
         "name": "",
         "type": "choropleth",
         "z": [
          1046,
          317,
          231,
          162,
          113
         ]
        }
       ],
       "frames": [
        {
         "data": [
          {
           "coloraxis": "coloraxis",
           "geo": "geo",
           "hovertemplate": "<b>%{hovertext}</b><br><br>continent=Asia<br>country=%{location}<br>count=%{z}<extra></extra>",
           "hovertext": [
            "India",
            "Japan",
            "South Korea",
            "China",
            "Turkey"
           ],
           "locationmode": "country names",
           "locations": [
            "India",
            "Japan",
            "South Korea",
            "China",
            "Turkey"
           ],
           "name": "",
           "type": "choropleth",
           "z": [
            1046,
            317,
            231,
            162,
            113
           ]
          }
         ],
         "name": "Asia"
        },
        {
         "data": [
          {
           "coloraxis": "coloraxis",
           "geo": "geo",
           "hovertemplate": "<b>%{hovertext}</b><br><br>continent=Europe<br>country=%{location}<br>count=%{z}<extra></extra>",
           "hovertext": [
            "United Kingdom",
            "France",
            "Spain",
            "Germany",
            "Italy"
           ],
           "locationmode": "country names",
           "locations": [
            "United Kingdom",
            "France",
            "Spain",
            "Germany",
            "Italy"
           ],
           "name": "",
           "type": "choropleth",
           "z": [
            805,
            393,
            232,
            226,
            100
           ]
          }
         ],
         "name": "Europe"
        },
        {
         "data": [
          {
           "coloraxis": "coloraxis",
           "geo": "geo",
           "hovertemplate": "<b>%{hovertext}</b><br><br>continent=North America<br>country=%{location}<br>count=%{z}<extra></extra>",
           "hovertext": [
            "United States",
            "Canada",
            "Mexico",
            "Cayman Islands",
            "Guatemala"
           ],
           "locationmode": "country names",
           "locations": [
            "United States",
            "Canada",
            "Mexico",
            "Cayman Islands",
            "Guatemala"
           ],
           "name": "",
           "type": "choropleth",
           "z": [
            3684,
            445,
            169,
            2,
            2
           ]
          }
         ],
         "name": "North America"
        }
       ],
       "layout": {
        "coloraxis": {
         "colorbar": {
          "tickfont": {
           "color": "white",
           "size": 10
          },
          "title": {
           "text": "Total content produced"
          }
         },
         "colorscale": [
          [
           0,
           "#F6BDC0"
          ],
          [
           0.25,
           "#F1959B"
          ],
          [
           0.5,
           "#F07470"
          ],
          [
           0.75,
           "#EA4C46"
          ],
          [
           1,
           "#DC1C13"
          ]
         ]
        },
        "font": {
         "color": "white"
        },
        "geo": {
         "center": {},
         "domain": {
          "x": [
           0,
           1
          ],
          "y": [
           0,
           1
          ]
         },
         "landcolor": "#f2eeed",
         "oceancolor": "black",
         "projection": {
          "type": "robinson"
         },
         "resolution": 110,
         "showcoastlines": true,
         "showframe": false,
         "showland": true,
         "showocean": true
        },
        "legend": {
         "tracegroupgap": 0
        },
        "margin": {
         "t": 60
        },
        "paper_bgcolor": "black",
        "sliders": [
         {
          "active": 0,
          "currentvalue": {
           "prefix": "continent="
          },
          "len": 0.9,
          "pad": {
           "b": 10,
           "t": 60
          },
          "steps": [
           {
            "args": [
             [
              "Asia"
             ],
             {
              "frame": {
               "duration": 0,
               "redraw": true
              },
              "fromcurrent": true,
              "mode": "immediate",
              "transition": {
               "duration": 0,
               "easing": "linear"
              }
             }
            ],
            "label": "Asia",
            "method": "animate"
           },
           {
            "args": [
             [
              "Europe"
             ],
             {
              "frame": {
               "duration": 0,
               "redraw": true
              },
              "fromcurrent": true,
              "mode": "immediate",
              "transition": {
               "duration": 0,
               "easing": "linear"
              }
             }
            ],
            "label": "Europe",
            "method": "animate"
           },
           {
            "args": [
             [
              "North America"
             ],
             {
              "frame": {
               "duration": 0,
               "redraw": true
              },
              "fromcurrent": true,
              "mode": "immediate",
              "transition": {
               "duration": 0,
               "easing": "linear"
              }
             }
            ],
            "label": "North America",
            "method": "animate"
           }
          ],
          "x": 0.1,
          "xanchor": "left",
          "y": 0,
          "yanchor": "top"
         }
        ],
        "template": {
         "data": {
          "bar": [
           {
            "error_x": {
             "color": "#2a3f5f"
            },
            "error_y": {
             "color": "#2a3f5f"
            },
            "marker": {
             "line": {
              "color": "#E5ECF6",
              "width": 0.5
             },
             "pattern": {
              "fillmode": "overlay",
              "size": 10,
              "solidity": 0.2
             }
            },
            "type": "bar"
           }
          ],
          "barpolar": [
           {
            "marker": {
             "line": {
              "color": "#E5ECF6",
              "width": 0.5
             },
             "pattern": {
              "fillmode": "overlay",
              "size": 10,
              "solidity": 0.2
             }
            },
            "type": "barpolar"
           }
          ],
          "carpet": [
           {
            "aaxis": {
             "endlinecolor": "#2a3f5f",
             "gridcolor": "white",
             "linecolor": "white",
             "minorgridcolor": "white",
             "startlinecolor": "#2a3f5f"
            },
            "baxis": {
             "endlinecolor": "#2a3f5f",
             "gridcolor": "white",
             "linecolor": "white",
             "minorgridcolor": "white",
             "startlinecolor": "#2a3f5f"
            },
            "type": "carpet"
           }
          ],
          "choropleth": [
           {
            "colorbar": {
             "outlinewidth": 0,
             "ticks": ""
            },
            "type": "choropleth"
           }
          ],
          "contour": [
           {
            "colorbar": {
             "outlinewidth": 0,
             "ticks": ""
            },
            "colorscale": [
             [
              0,
              "#0d0887"
             ],
             [
              0.1111111111111111,
              "#46039f"
             ],
             [
              0.2222222222222222,
              "#7201a8"
             ],
             [
              0.3333333333333333,
              "#9c179e"
             ],
             [
              0.4444444444444444,
              "#bd3786"
             ],
             [
              0.5555555555555556,
              "#d8576b"
             ],
             [
              0.6666666666666666,
              "#ed7953"
             ],
             [
              0.7777777777777778,
              "#fb9f3a"
             ],
             [
              0.8888888888888888,
              "#fdca26"
             ],
             [
              1,
              "#f0f921"
             ]
            ],
            "type": "contour"
           }
          ],
          "contourcarpet": [
           {
            "colorbar": {
             "outlinewidth": 0,
             "ticks": ""
            },
            "type": "contourcarpet"
           }
          ],
          "heatmap": [
           {
            "colorbar": {
             "outlinewidth": 0,
             "ticks": ""
            },
            "colorscale": [
             [
              0,
              "#0d0887"
             ],
             [
              0.1111111111111111,
              "#46039f"
             ],
             [
              0.2222222222222222,
              "#7201a8"
             ],
             [
              0.3333333333333333,
              "#9c179e"
             ],
             [
              0.4444444444444444,
              "#bd3786"
             ],
             [
              0.5555555555555556,
              "#d8576b"
             ],
             [
              0.6666666666666666,
              "#ed7953"
             ],
             [
              0.7777777777777778,
              "#fb9f3a"
             ],
             [
              0.8888888888888888,
              "#fdca26"
             ],
             [
              1,
              "#f0f921"
             ]
            ],
            "type": "heatmap"
           }
          ],
          "heatmapgl": [
           {
            "colorbar": {
             "outlinewidth": 0,
             "ticks": ""
            },
            "colorscale": [
             [
              0,
              "#0d0887"
             ],
             [
              0.1111111111111111,
              "#46039f"
             ],
             [
              0.2222222222222222,
              "#7201a8"
             ],
             [
              0.3333333333333333,
              "#9c179e"
             ],
             [
              0.4444444444444444,
              "#bd3786"
             ],
             [
              0.5555555555555556,
              "#d8576b"
             ],
             [
              0.6666666666666666,
              "#ed7953"
             ],
             [
              0.7777777777777778,
              "#fb9f3a"
             ],
             [
              0.8888888888888888,
              "#fdca26"
             ],
             [
              1,
              "#f0f921"
             ]
            ],
            "type": "heatmapgl"
           }
          ],
          "histogram": [
           {
            "marker": {
             "pattern": {
              "fillmode": "overlay",
              "size": 10,
              "solidity": 0.2
             }
            },
            "type": "histogram"
           }
          ],
          "histogram2d": [
           {
            "colorbar": {
             "outlinewidth": 0,
             "ticks": ""
            },
            "colorscale": [
             [
              0,
              "#0d0887"
             ],
             [
              0.1111111111111111,
              "#46039f"
             ],
             [
              0.2222222222222222,
              "#7201a8"
             ],
             [
              0.3333333333333333,
              "#9c179e"
             ],
             [
              0.4444444444444444,
              "#bd3786"
             ],
             [
              0.5555555555555556,
              "#d8576b"
             ],
             [
              0.6666666666666666,
              "#ed7953"
             ],
             [
              0.7777777777777778,
              "#fb9f3a"
             ],
             [
              0.8888888888888888,
              "#fdca26"
             ],
             [
              1,
              "#f0f921"
             ]
            ],
            "type": "histogram2d"
           }
          ],
          "histogram2dcontour": [
           {
            "colorbar": {
             "outlinewidth": 0,
             "ticks": ""
            },
            "colorscale": [
             [
              0,
              "#0d0887"
             ],
             [
              0.1111111111111111,
              "#46039f"
             ],
             [
              0.2222222222222222,
              "#7201a8"
             ],
             [
              0.3333333333333333,
              "#9c179e"
             ],
             [
              0.4444444444444444,
              "#bd3786"
             ],
             [
              0.5555555555555556,
              "#d8576b"
             ],
             [
              0.6666666666666666,
              "#ed7953"
             ],
             [
              0.7777777777777778,
              "#fb9f3a"
             ],
             [
              0.8888888888888888,
              "#fdca26"
             ],
             [
              1,
              "#f0f921"
             ]
            ],
            "type": "histogram2dcontour"
           }
          ],
          "mesh3d": [
           {
            "colorbar": {
             "outlinewidth": 0,
             "ticks": ""
            },
            "type": "mesh3d"
           }
          ],
          "parcoords": [
           {
            "line": {
             "colorbar": {
              "outlinewidth": 0,
              "ticks": ""
             }
            },
            "type": "parcoords"
           }
          ],
          "pie": [
           {
            "automargin": true,
            "type": "pie"
           }
          ],
          "scatter": [
           {
            "fillpattern": {
             "fillmode": "overlay",
             "size": 10,
             "solidity": 0.2
            },
            "type": "scatter"
           }
          ],
          "scatter3d": [
           {
            "line": {
             "colorbar": {
              "outlinewidth": 0,
              "ticks": ""
             }
            },
            "marker": {
             "colorbar": {
              "outlinewidth": 0,
              "ticks": ""
             }
            },
            "type": "scatter3d"
           }
          ],
          "scattercarpet": [
           {
            "marker": {
             "colorbar": {
              "outlinewidth": 0,
              "ticks": ""
             }
            },
            "type": "scattercarpet"
           }
          ],
          "scattergeo": [
           {
            "marker": {
             "colorbar": {
              "outlinewidth": 0,
              "ticks": ""
             }
            },
            "type": "scattergeo"
           }
          ],
          "scattergl": [
           {
            "marker": {
             "colorbar": {
              "outlinewidth": 0,
              "ticks": ""
             }
            },
            "type": "scattergl"
           }
          ],
          "scattermapbox": [
           {
            "marker": {
             "colorbar": {
              "outlinewidth": 0,
              "ticks": ""
             }
            },
            "type": "scattermapbox"
           }
          ],
          "scatterpolar": [
           {
            "marker": {
             "colorbar": {
              "outlinewidth": 0,
              "ticks": ""
             }
            },
            "type": "scatterpolar"
           }
          ],
          "scatterpolargl": [
           {
            "marker": {
             "colorbar": {
              "outlinewidth": 0,
              "ticks": ""
             }
            },
            "type": "scatterpolargl"
           }
          ],
          "scatterternary": [
           {
            "marker": {
             "colorbar": {
              "outlinewidth": 0,
              "ticks": ""
             }
            },
            "type": "scatterternary"
           }
          ],
          "surface": [
           {
            "colorbar": {
             "outlinewidth": 0,
             "ticks": ""
            },
            "colorscale": [
             [
              0,
              "#0d0887"
             ],
             [
              0.1111111111111111,
              "#46039f"
             ],
             [
              0.2222222222222222,
              "#7201a8"
             ],
             [
              0.3333333333333333,
              "#9c179e"
             ],
             [
              0.4444444444444444,
              "#bd3786"
             ],
             [
              0.5555555555555556,
              "#d8576b"
             ],
             [
              0.6666666666666666,
              "#ed7953"
             ],
             [
              0.7777777777777778,
              "#fb9f3a"
             ],
             [
              0.8888888888888888,
              "#fdca26"
             ],
             [
              1,
              "#f0f921"
             ]
            ],
            "type": "surface"
           }
          ],
          "table": [
           {
            "cells": {
             "fill": {
              "color": "#EBF0F8"
             },
             "line": {
              "color": "white"
             }
            },
            "header": {
             "fill": {
              "color": "#C8D4E3"
             },
             "line": {
              "color": "white"
             }
            },
            "type": "table"
           }
          ]
         },
         "layout": {
          "annotationdefaults": {
           "arrowcolor": "#2a3f5f",
           "arrowhead": 0,
           "arrowwidth": 1
          },
          "autotypenumbers": "strict",
          "coloraxis": {
           "colorbar": {
            "outlinewidth": 0,
            "ticks": ""
           }
          },
          "colorscale": {
           "diverging": [
            [
             0,
             "#8e0152"
            ],
            [
             0.1,
             "#c51b7d"
            ],
            [
             0.2,
             "#de77ae"
            ],
            [
             0.3,
             "#f1b6da"
            ],
            [
             0.4,
             "#fde0ef"
            ],
            [
             0.5,
             "#f7f7f7"
            ],
            [
             0.6,
             "#e6f5d0"
            ],
            [
             0.7,
             "#b8e186"
            ],
            [
             0.8,
             "#7fbc41"
            ],
            [
             0.9,
             "#4d9221"
            ],
            [
             1,
             "#276419"
            ]
           ],
           "sequential": [
            [
             0,
             "#0d0887"
            ],
            [
             0.1111111111111111,
             "#46039f"
            ],
            [
             0.2222222222222222,
             "#7201a8"
            ],
            [
             0.3333333333333333,
             "#9c179e"
            ],
            [
             0.4444444444444444,
             "#bd3786"
            ],
            [
             0.5555555555555556,
             "#d8576b"
            ],
            [
             0.6666666666666666,
             "#ed7953"
            ],
            [
             0.7777777777777778,
             "#fb9f3a"
            ],
            [
             0.8888888888888888,
             "#fdca26"
            ],
            [
             1,
             "#f0f921"
            ]
           ],
           "sequentialminus": [
            [
             0,
             "#0d0887"
            ],
            [
             0.1111111111111111,
             "#46039f"
            ],
            [
             0.2222222222222222,
             "#7201a8"
            ],
            [
             0.3333333333333333,
             "#9c179e"
            ],
            [
             0.4444444444444444,
             "#bd3786"
            ],
            [
             0.5555555555555556,
             "#d8576b"
            ],
            [
             0.6666666666666666,
             "#ed7953"
            ],
            [
             0.7777777777777778,
             "#fb9f3a"
            ],
            [
             0.8888888888888888,
             "#fdca26"
            ],
            [
             1,
             "#f0f921"
            ]
           ]
          },
          "colorway": [
           "#636efa",
           "#EF553B",
           "#00cc96",
           "#ab63fa",
           "#FFA15A",
           "#19d3f3",
           "#FF6692",
           "#B6E880",
           "#FF97FF",
           "#FECB52"
          ],
          "font": {
           "color": "#2a3f5f"
          },
          "geo": {
           "bgcolor": "white",
           "lakecolor": "white",
           "landcolor": "#E5ECF6",
           "showlakes": true,
           "showland": true,
           "subunitcolor": "white"
          },
          "hoverlabel": {
           "align": "left"
          },
          "hovermode": "closest",
          "mapbox": {
           "style": "light"
          },
          "paper_bgcolor": "white",
          "plot_bgcolor": "#E5ECF6",
          "polar": {
           "angularaxis": {
            "gridcolor": "white",
            "linecolor": "white",
            "ticks": ""
           },
           "bgcolor": "#E5ECF6",
           "radialaxis": {
            "gridcolor": "white",
            "linecolor": "white",
            "ticks": ""
           }
          },
          "scene": {
           "xaxis": {
            "backgroundcolor": "#E5ECF6",
            "gridcolor": "white",
            "gridwidth": 2,
            "linecolor": "white",
            "showbackground": true,
            "ticks": "",
            "zerolinecolor": "white"
           },
           "yaxis": {
            "backgroundcolor": "#E5ECF6",
            "gridcolor": "white",
            "gridwidth": 2,
            "linecolor": "white",
            "showbackground": true,
            "ticks": "",
            "zerolinecolor": "white"
           },
           "zaxis": {
            "backgroundcolor": "#E5ECF6",
            "gridcolor": "white",
            "gridwidth": 2,
            "linecolor": "white",
            "showbackground": true,
            "ticks": "",
            "zerolinecolor": "white"
           }
          },
          "shapedefaults": {
           "line": {
            "color": "#2a3f5f"
           }
          },
          "ternary": {
           "aaxis": {
            "gridcolor": "white",
            "linecolor": "white",
            "ticks": ""
           },
           "baxis": {
            "gridcolor": "white",
            "linecolor": "white",
            "ticks": ""
           },
           "bgcolor": "#E5ECF6",
           "caxis": {
            "gridcolor": "white",
            "linecolor": "white",
            "ticks": ""
           }
          },
          "title": {
           "x": 0.05
          },
          "xaxis": {
           "automargin": true,
           "gridcolor": "white",
           "linecolor": "white",
           "ticks": "",
           "title": {
            "standoff": 15
           },
           "zerolinecolor": "white",
           "zerolinewidth": 2
          },
          "yaxis": {
           "automargin": true,
           "gridcolor": "white",
           "linecolor": "white",
           "ticks": "",
           "title": {
            "standoff": 15
           },
           "zerolinecolor": "white",
           "zerolinewidth": 2
          }
         }
        },
        "title": {
         "font": {
          "color": "red",
          "family": "Caslon",
          "size": 22
         },
         "text": "Top 5 Countries Producing Content by Continent"
        },
        "updatemenus": [
         {
          "buttons": [
           {
            "args": [
             null,
             {
              "frame": {
               "duration": 500,
               "redraw": true
              },
              "fromcurrent": true,
              "mode": "immediate",
              "transition": {
               "duration": 500,
               "easing": "linear"
              }
             }
            ],
            "label": "&#9654;",
            "method": "animate"
           },
           {
            "args": [
             [
              null
             ],
             {
              "frame": {
               "duration": 0,
               "redraw": true
              },
              "fromcurrent": true,
              "mode": "immediate",
              "transition": {
               "duration": 0,
               "easing": "linear"
              }
             }
            ],
            "label": "&#9724;",
            "method": "animate"
           }
          ],
          "direction": "left",
          "pad": {
           "r": 10,
           "t": 70
          },
          "showactive": false,
          "type": "buttons",
          "x": 0.1,
          "xanchor": "right",
          "y": 0,
          "yanchor": "top"
         }
        ]
       }
      },
      "text/html": [
       "<div>                            <div id=\"8666ad3e-d002-4229-9fc3-6b7746e0b7a8\" class=\"plotly-graph-div\" style=\"height:525px; width:100%;\"></div>            <script type=\"text/javascript\">                require([\"plotly\"], function(Plotly) {                    window.PLOTLYENV=window.PLOTLYENV || {};                                    if (document.getElementById(\"8666ad3e-d002-4229-9fc3-6b7746e0b7a8\")) {                    Plotly.newPlot(                        \"8666ad3e-d002-4229-9fc3-6b7746e0b7a8\",                        [{\"coloraxis\":\"coloraxis\",\"geo\":\"geo\",\"hovertemplate\":\"\\u003cb\\u003e%{hovertext}\\u003c\\u002fb\\u003e\\u003cbr\\u003e\\u003cbr\\u003econtinent=Asia\\u003cbr\\u003ecountry=%{location}\\u003cbr\\u003ecount=%{z}\\u003cextra\\u003e\\u003c\\u002fextra\\u003e\",\"hovertext\":[\"India\",\"Japan\",\"South Korea\",\"China\",\"Turkey\"],\"locationmode\":\"country names\",\"locations\":[\"India\",\"Japan\",\"South Korea\",\"China\",\"Turkey\"],\"name\":\"\",\"z\":[1046,317,231,162,113],\"type\":\"choropleth\"}],                        {\"template\":{\"data\":{\"histogram2dcontour\":[{\"type\":\"histogram2dcontour\",\"colorbar\":{\"outlinewidth\":0,\"ticks\":\"\"},\"colorscale\":[[0.0,\"#0d0887\"],[0.1111111111111111,\"#46039f\"],[0.2222222222222222,\"#7201a8\"],[0.3333333333333333,\"#9c179e\"],[0.4444444444444444,\"#bd3786\"],[0.5555555555555556,\"#d8576b\"],[0.6666666666666666,\"#ed7953\"],[0.7777777777777778,\"#fb9f3a\"],[0.8888888888888888,\"#fdca26\"],[1.0,\"#f0f921\"]]}],\"choropleth\":[{\"type\":\"choropleth\",\"colorbar\":{\"outlinewidth\":0,\"ticks\":\"\"}}],\"histogram2d\":[{\"type\":\"histogram2d\",\"colorbar\":{\"outlinewidth\":0,\"ticks\":\"\"},\"colorscale\":[[0.0,\"#0d0887\"],[0.1111111111111111,\"#46039f\"],[0.2222222222222222,\"#7201a8\"],[0.3333333333333333,\"#9c179e\"],[0.4444444444444444,\"#bd3786\"],[0.5555555555555556,\"#d8576b\"],[0.6666666666666666,\"#ed7953\"],[0.7777777777777778,\"#fb9f3a\"],[0.8888888888888888,\"#fdca26\"],[1.0,\"#f0f921\"]]}],\"heatmap\":[{\"type\":\"heatmap\",\"colorbar\":{\"outlinewidth\":0,\"ticks\":\"\"},\"colorscale\":[[0.0,\"#0d0887\"],[0.1111111111111111,\"#46039f\"],[0.2222222222222222,\"#7201a8\"],[0.3333333333333333,\"#9c179e\"],[0.4444444444444444,\"#bd3786\"],[0.5555555555555556,\"#d8576b\"],[0.6666666666666666,\"#ed7953\"],[0.7777777777777778,\"#fb9f3a\"],[0.8888888888888888,\"#fdca26\"],[1.0,\"#f0f921\"]]}],\"heatmapgl\":[{\"type\":\"heatmapgl\",\"colorbar\":{\"outlinewidth\":0,\"ticks\":\"\"},\"colorscale\":[[0.0,\"#0d0887\"],[0.1111111111111111,\"#46039f\"],[0.2222222222222222,\"#7201a8\"],[0.3333333333333333,\"#9c179e\"],[0.4444444444444444,\"#bd3786\"],[0.5555555555555556,\"#d8576b\"],[0.6666666666666666,\"#ed7953\"],[0.7777777777777778,\"#fb9f3a\"],[0.8888888888888888,\"#fdca26\"],[1.0,\"#f0f921\"]]}],\"contourcarpet\":[{\"type\":\"contourcarpet\",\"colorbar\":{\"outlinewidth\":0,\"ticks\":\"\"}}],\"contour\":[{\"type\":\"contour\",\"colorbar\":{\"outlinewidth\":0,\"ticks\":\"\"},\"colorscale\":[[0.0,\"#0d0887\"],[0.1111111111111111,\"#46039f\"],[0.2222222222222222,\"#7201a8\"],[0.3333333333333333,\"#9c179e\"],[0.4444444444444444,\"#bd3786\"],[0.5555555555555556,\"#d8576b\"],[0.6666666666666666,\"#ed7953\"],[0.7777777777777778,\"#fb9f3a\"],[0.8888888888888888,\"#fdca26\"],[1.0,\"#f0f921\"]]}],\"surface\":[{\"type\":\"surface\",\"colorbar\":{\"outlinewidth\":0,\"ticks\":\"\"},\"colorscale\":[[0.0,\"#0d0887\"],[0.1111111111111111,\"#46039f\"],[0.2222222222222222,\"#7201a8\"],[0.3333333333333333,\"#9c179e\"],[0.4444444444444444,\"#bd3786\"],[0.5555555555555556,\"#d8576b\"],[0.6666666666666666,\"#ed7953\"],[0.7777777777777778,\"#fb9f3a\"],[0.8888888888888888,\"#fdca26\"],[1.0,\"#f0f921\"]]}],\"mesh3d\":[{\"type\":\"mesh3d\",\"colorbar\":{\"outlinewidth\":0,\"ticks\":\"\"}}],\"scatter\":[{\"fillpattern\":{\"fillmode\":\"overlay\",\"size\":10,\"solidity\":0.2},\"type\":\"scatter\"}],\"parcoords\":[{\"type\":\"parcoords\",\"line\":{\"colorbar\":{\"outlinewidth\":0,\"ticks\":\"\"}}}],\"scatterpolargl\":[{\"type\":\"scatterpolargl\",\"marker\":{\"colorbar\":{\"outlinewidth\":0,\"ticks\":\"\"}}}],\"bar\":[{\"error_x\":{\"color\":\"#2a3f5f\"},\"error_y\":{\"color\":\"#2a3f5f\"},\"marker\":{\"line\":{\"color\":\"#E5ECF6\",\"width\":0.5},\"pattern\":{\"fillmode\":\"overlay\",\"size\":10,\"solidity\":0.2}},\"type\":\"bar\"}],\"scattergeo\":[{\"type\":\"scattergeo\",\"marker\":{\"colorbar\":{\"outlinewidth\":0,\"ticks\":\"\"}}}],\"scatterpolar\":[{\"type\":\"scatterpolar\",\"marker\":{\"colorbar\":{\"outlinewidth\":0,\"ticks\":\"\"}}}],\"histogram\":[{\"marker\":{\"pattern\":{\"fillmode\":\"overlay\",\"size\":10,\"solidity\":0.2}},\"type\":\"histogram\"}],\"scattergl\":[{\"type\":\"scattergl\",\"marker\":{\"colorbar\":{\"outlinewidth\":0,\"ticks\":\"\"}}}],\"scatter3d\":[{\"type\":\"scatter3d\",\"line\":{\"colorbar\":{\"outlinewidth\":0,\"ticks\":\"\"}},\"marker\":{\"colorbar\":{\"outlinewidth\":0,\"ticks\":\"\"}}}],\"scattermapbox\":[{\"type\":\"scattermapbox\",\"marker\":{\"colorbar\":{\"outlinewidth\":0,\"ticks\":\"\"}}}],\"scatterternary\":[{\"type\":\"scatterternary\",\"marker\":{\"colorbar\":{\"outlinewidth\":0,\"ticks\":\"\"}}}],\"scattercarpet\":[{\"type\":\"scattercarpet\",\"marker\":{\"colorbar\":{\"outlinewidth\":0,\"ticks\":\"\"}}}],\"carpet\":[{\"aaxis\":{\"endlinecolor\":\"#2a3f5f\",\"gridcolor\":\"white\",\"linecolor\":\"white\",\"minorgridcolor\":\"white\",\"startlinecolor\":\"#2a3f5f\"},\"baxis\":{\"endlinecolor\":\"#2a3f5f\",\"gridcolor\":\"white\",\"linecolor\":\"white\",\"minorgridcolor\":\"white\",\"startlinecolor\":\"#2a3f5f\"},\"type\":\"carpet\"}],\"table\":[{\"cells\":{\"fill\":{\"color\":\"#EBF0F8\"},\"line\":{\"color\":\"white\"}},\"header\":{\"fill\":{\"color\":\"#C8D4E3\"},\"line\":{\"color\":\"white\"}},\"type\":\"table\"}],\"barpolar\":[{\"marker\":{\"line\":{\"color\":\"#E5ECF6\",\"width\":0.5},\"pattern\":{\"fillmode\":\"overlay\",\"size\":10,\"solidity\":0.2}},\"type\":\"barpolar\"}],\"pie\":[{\"automargin\":true,\"type\":\"pie\"}]},\"layout\":{\"autotypenumbers\":\"strict\",\"colorway\":[\"#636efa\",\"#EF553B\",\"#00cc96\",\"#ab63fa\",\"#FFA15A\",\"#19d3f3\",\"#FF6692\",\"#B6E880\",\"#FF97FF\",\"#FECB52\"],\"font\":{\"color\":\"#2a3f5f\"},\"hovermode\":\"closest\",\"hoverlabel\":{\"align\":\"left\"},\"paper_bgcolor\":\"white\",\"plot_bgcolor\":\"#E5ECF6\",\"polar\":{\"bgcolor\":\"#E5ECF6\",\"angularaxis\":{\"gridcolor\":\"white\",\"linecolor\":\"white\",\"ticks\":\"\"},\"radialaxis\":{\"gridcolor\":\"white\",\"linecolor\":\"white\",\"ticks\":\"\"}},\"ternary\":{\"bgcolor\":\"#E5ECF6\",\"aaxis\":{\"gridcolor\":\"white\",\"linecolor\":\"white\",\"ticks\":\"\"},\"baxis\":{\"gridcolor\":\"white\",\"linecolor\":\"white\",\"ticks\":\"\"},\"caxis\":{\"gridcolor\":\"white\",\"linecolor\":\"white\",\"ticks\":\"\"}},\"coloraxis\":{\"colorbar\":{\"outlinewidth\":0,\"ticks\":\"\"}},\"colorscale\":{\"sequential\":[[0.0,\"#0d0887\"],[0.1111111111111111,\"#46039f\"],[0.2222222222222222,\"#7201a8\"],[0.3333333333333333,\"#9c179e\"],[0.4444444444444444,\"#bd3786\"],[0.5555555555555556,\"#d8576b\"],[0.6666666666666666,\"#ed7953\"],[0.7777777777777778,\"#fb9f3a\"],[0.8888888888888888,\"#fdca26\"],[1.0,\"#f0f921\"]],\"sequentialminus\":[[0.0,\"#0d0887\"],[0.1111111111111111,\"#46039f\"],[0.2222222222222222,\"#7201a8\"],[0.3333333333333333,\"#9c179e\"],[0.4444444444444444,\"#bd3786\"],[0.5555555555555556,\"#d8576b\"],[0.6666666666666666,\"#ed7953\"],[0.7777777777777778,\"#fb9f3a\"],[0.8888888888888888,\"#fdca26\"],[1.0,\"#f0f921\"]],\"diverging\":[[0,\"#8e0152\"],[0.1,\"#c51b7d\"],[0.2,\"#de77ae\"],[0.3,\"#f1b6da\"],[0.4,\"#fde0ef\"],[0.5,\"#f7f7f7\"],[0.6,\"#e6f5d0\"],[0.7,\"#b8e186\"],[0.8,\"#7fbc41\"],[0.9,\"#4d9221\"],[1,\"#276419\"]]},\"xaxis\":{\"gridcolor\":\"white\",\"linecolor\":\"white\",\"ticks\":\"\",\"title\":{\"standoff\":15},\"zerolinecolor\":\"white\",\"automargin\":true,\"zerolinewidth\":2},\"yaxis\":{\"gridcolor\":\"white\",\"linecolor\":\"white\",\"ticks\":\"\",\"title\":{\"standoff\":15},\"zerolinecolor\":\"white\",\"automargin\":true,\"zerolinewidth\":2},\"scene\":{\"xaxis\":{\"backgroundcolor\":\"#E5ECF6\",\"gridcolor\":\"white\",\"linecolor\":\"white\",\"showbackground\":true,\"ticks\":\"\",\"zerolinecolor\":\"white\",\"gridwidth\":2},\"yaxis\":{\"backgroundcolor\":\"#E5ECF6\",\"gridcolor\":\"white\",\"linecolor\":\"white\",\"showbackground\":true,\"ticks\":\"\",\"zerolinecolor\":\"white\",\"gridwidth\":2},\"zaxis\":{\"backgroundcolor\":\"#E5ECF6\",\"gridcolor\":\"white\",\"linecolor\":\"white\",\"showbackground\":true,\"ticks\":\"\",\"zerolinecolor\":\"white\",\"gridwidth\":2}},\"shapedefaults\":{\"line\":{\"color\":\"#2a3f5f\"}},\"annotationdefaults\":{\"arrowcolor\":\"#2a3f5f\",\"arrowhead\":0,\"arrowwidth\":1},\"geo\":{\"bgcolor\":\"white\",\"landcolor\":\"#E5ECF6\",\"subunitcolor\":\"white\",\"showland\":true,\"showlakes\":true,\"lakecolor\":\"white\"},\"title\":{\"x\":0.05},\"mapbox\":{\"style\":\"light\"}}},\"geo\":{\"domain\":{\"x\":[0.0,1.0],\"y\":[0.0,1.0]},\"projection\":{\"type\":\"robinson\"},\"center\":{},\"resolution\":110,\"showocean\":true,\"oceancolor\":\"black\",\"showland\":true,\"landcolor\":\"#f2eeed\",\"showframe\":false,\"showcoastlines\":true},\"coloraxis\":{\"colorbar\":{\"title\":{\"text\":\"Total content produced\"},\"tickfont\":{\"size\":10,\"color\":\"white\"}},\"colorscale\":[[0.0,\"#F6BDC0\"],[0.25,\"#F1959B\"],[0.5,\"#F07470\"],[0.75,\"#EA4C46\"],[1.0,\"#DC1C13\"]]},\"legend\":{\"tracegroupgap\":0},\"margin\":{\"t\":60},\"updatemenus\":[{\"buttons\":[{\"args\":[null,{\"frame\":{\"duration\":500,\"redraw\":true},\"mode\":\"immediate\",\"fromcurrent\":true,\"transition\":{\"duration\":500,\"easing\":\"linear\"}}],\"label\":\"&#9654;\",\"method\":\"animate\"},{\"args\":[[null],{\"frame\":{\"duration\":0,\"redraw\":true},\"mode\":\"immediate\",\"fromcurrent\":true,\"transition\":{\"duration\":0,\"easing\":\"linear\"}}],\"label\":\"&#9724;\",\"method\":\"animate\"}],\"direction\":\"left\",\"pad\":{\"r\":10,\"t\":70},\"showactive\":false,\"type\":\"buttons\",\"x\":0.1,\"xanchor\":\"right\",\"y\":0,\"yanchor\":\"top\"}],\"sliders\":[{\"active\":0,\"currentvalue\":{\"prefix\":\"continent=\"},\"len\":0.9,\"pad\":{\"b\":10,\"t\":60},\"steps\":[{\"args\":[[\"Asia\"],{\"frame\":{\"duration\":0,\"redraw\":true},\"mode\":\"immediate\",\"fromcurrent\":true,\"transition\":{\"duration\":0,\"easing\":\"linear\"}}],\"label\":\"Asia\",\"method\":\"animate\"},{\"args\":[[\"Europe\"],{\"frame\":{\"duration\":0,\"redraw\":true},\"mode\":\"immediate\",\"fromcurrent\":true,\"transition\":{\"duration\":0,\"easing\":\"linear\"}}],\"label\":\"Europe\",\"method\":\"animate\"},{\"args\":[[\"North America\"],{\"frame\":{\"duration\":0,\"redraw\":true},\"mode\":\"immediate\",\"fromcurrent\":true,\"transition\":{\"duration\":0,\"easing\":\"linear\"}}],\"label\":\"North America\",\"method\":\"animate\"}],\"x\":0.1,\"xanchor\":\"left\",\"y\":0,\"yanchor\":\"top\"}],\"title\":{\"font\":{\"size\":22,\"family\":\"Caslon\",\"color\":\"red\"},\"text\":\"Top 5 Countries Producing Content by Continent\"},\"font\":{\"color\":\"white\"},\"paper_bgcolor\":\"black\"},                        {\"responsive\": true}                    ).then(function(){\n",
       "                            Plotly.addFrames('8666ad3e-d002-4229-9fc3-6b7746e0b7a8', [{\"data\":[{\"coloraxis\":\"coloraxis\",\"geo\":\"geo\",\"hovertemplate\":\"\\u003cb\\u003e%{hovertext}\\u003c\\u002fb\\u003e\\u003cbr\\u003e\\u003cbr\\u003econtinent=Asia\\u003cbr\\u003ecountry=%{location}\\u003cbr\\u003ecount=%{z}\\u003cextra\\u003e\\u003c\\u002fextra\\u003e\",\"hovertext\":[\"India\",\"Japan\",\"South Korea\",\"China\",\"Turkey\"],\"locationmode\":\"country names\",\"locations\":[\"India\",\"Japan\",\"South Korea\",\"China\",\"Turkey\"],\"name\":\"\",\"z\":[1046,317,231,162,113],\"type\":\"choropleth\"}],\"name\":\"Asia\"},{\"data\":[{\"coloraxis\":\"coloraxis\",\"geo\":\"geo\",\"hovertemplate\":\"\\u003cb\\u003e%{hovertext}\\u003c\\u002fb\\u003e\\u003cbr\\u003e\\u003cbr\\u003econtinent=Europe\\u003cbr\\u003ecountry=%{location}\\u003cbr\\u003ecount=%{z}\\u003cextra\\u003e\\u003c\\u002fextra\\u003e\",\"hovertext\":[\"United Kingdom\",\"France\",\"Spain\",\"Germany\",\"Italy\"],\"locationmode\":\"country names\",\"locations\":[\"United Kingdom\",\"France\",\"Spain\",\"Germany\",\"Italy\"],\"name\":\"\",\"z\":[805,393,232,226,100],\"type\":\"choropleth\"}],\"name\":\"Europe\"},{\"data\":[{\"coloraxis\":\"coloraxis\",\"geo\":\"geo\",\"hovertemplate\":\"\\u003cb\\u003e%{hovertext}\\u003c\\u002fb\\u003e\\u003cbr\\u003e\\u003cbr\\u003econtinent=North America\\u003cbr\\u003ecountry=%{location}\\u003cbr\\u003ecount=%{z}\\u003cextra\\u003e\\u003c\\u002fextra\\u003e\",\"hovertext\":[\"United States\",\"Canada\",\"Mexico\",\"Cayman Islands\",\"Guatemala\"],\"locationmode\":\"country names\",\"locations\":[\"United States\",\"Canada\",\"Mexico\",\"Cayman Islands\",\"Guatemala\"],\"name\":\"\",\"z\":[3684,445,169,2,2],\"type\":\"choropleth\"}],\"name\":\"North America\"}]);\n",
       "                        }).then(function(){\n",
       "                            \n",
       "var gd = document.getElementById('8666ad3e-d002-4229-9fc3-6b7746e0b7a8');\n",
       "var x = new MutationObserver(function (mutations, observer) {{\n",
       "        var display = window.getComputedStyle(gd).display;\n",
       "        if (!display || display === 'none') {{\n",
       "            console.log([gd, 'removed!']);\n",
       "            Plotly.purge(gd);\n",
       "            observer.disconnect();\n",
       "        }}\n",
       "}});\n",
       "\n",
       "// Listen for the removal of the full notebook cells\n",
       "var notebookContainer = gd.closest('#notebook-container');\n",
       "if (notebookContainer) {{\n",
       "    x.observe(notebookContainer, {childList: true});\n",
       "}}\n",
       "\n",
       "// Listen for the clearing of the current output cell\n",
       "var outputEl = gd.closest('.output');\n",
       "if (outputEl) {{\n",
       "    x.observe(outputEl, {childList: true});\n",
       "}}\n",
       "\n",
       "                        })                };                });            </script>        </div>"
      ]
     },
     "metadata": {},
     "output_type": "display_data"
    }
   ],
   "source": [
    "\n",
    "colors = [\"#F6BDC0\",\"#F1959B\",\"#F07470\",\"#EA4C46\",\"#DC1C13\"]\n",
    "\n",
    "fig = px.choropleth(\n",
    "    top_5_countries,\n",
    "    locations=\"country\",\n",
    "    locationmode='country names',\n",
    "    color=\"count\",\n",
    "    hover_name=\"country\",\n",
    "    animation_frame=\"continent\",\n",
    "    projection=\"robinson\",\n",
    "   color_continuous_scale=colors,)\n",
    "\n",
    "\n",
    "fig.update_layout(\n",
    "    title_text=\"Top 5 Countries Producing Content by Continent\",\n",
    "    title_font={\"size\": 22, \"family\": \"Caslon\",\"color\":\"red\"},\n",
    "    coloraxis_colorbar=dict(\n",
    "        tickfont=dict(size=10,color=\"white\"),\n",
    "        title = \"Total content produced\",\n",
    "    ), paper_bgcolor=\"black\",\n",
    "    font=dict(color=\"white\")\n",
    ")\n",
    "\n",
    "fig.update_geos(resolution=110,\n",
    "    showocean=True, oceancolor=\"black\",\n",
    "    showland=True,landcolor=\"#f2eeed\",\n",
    "    showframe=False, showcoastlines=True)\n",
    "\n",
    "\n"
   ]
  },
  {
   "cell_type": "code",
   "execution_count": 554,
   "id": "18908eb0",
   "metadata": {},
   "outputs": [],
   "source": [
    "fig.write_html(\"map.html\")"
   ]
  }
 ],
 "metadata": {
  "kernelspec": {
   "display_name": "Python 3 (ipykernel)",
   "language": "python",
   "name": "python3"
  },
  "language_info": {
   "codemirror_mode": {
    "name": "ipython",
    "version": 3
   },
   "file_extension": ".py",
   "mimetype": "text/x-python",
   "name": "python",
   "nbconvert_exporter": "python",
   "pygments_lexer": "ipython3",
   "version": "3.11.3"
  }
 },
 "nbformat": 4,
 "nbformat_minor": 5
}
